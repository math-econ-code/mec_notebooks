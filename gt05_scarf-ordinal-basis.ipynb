{
 "cells": [
  {
   "cell_type": "markdown",
   "id": "417b0fdf",
   "metadata": {},
   "source": [
    "# <center>Scarf's ordinal basis algorithm</center>\n",
    "### <center>Alfred Galichon (NYU & Sciences Po) and Antoine Jacquet (Sciences Po)</center>\n",
    "## <center>'math+econ+code' masterclass series</center>\n",
    "#### <center>With python code examples</center>\n",
    "© 2018–2024 by Alfred Galichon. Research assistance from Alessandro Facchini is gratefully acknowledged. Past and present support from NSF grant DMS-1716489, ERC grant CoG-866274 are acknowledged, as well as inputs from contributors listed [here](http://www.math-econ-code.org/team).\n",
    "\n",
    "**If you reuse material from this masterclass, please cite as:**<br>\n",
    "Alfred Galichon Antoine Jacquet, 'Scarf's ordinal basis algorithm', 'math+econ+code' masterclass series. https://www.math-econ-code.org/"
   ]
  },
  {
   "cell_type": "markdown",
   "id": "68897ebd",
   "metadata": {},
   "source": [
    "# References\n",
    "\n",
    "* Scarf (1967). \"The core of an N person game.\" *Econometrica*.\n",
    "* Biró, Fleiner and Irving (2016). \"Matching couples with Scarf's algorithm.\" *Annals of Mathematics and Artificial Intelligence.*\n",
    "* Nguyen and Vohra (2018). \"Near-feasible stable matchings with couples.\" *American Economic Review*.\n"
   ]
  },
  {
   "cell_type": "code",
   "execution_count": 1,
   "id": "2e4439b1",
   "metadata": {},
   "outputs": [],
   "source": [
    "#!pip install mec --upgrade\n",
    "\n",
    "import numpy as np\n",
    "from mec.lp import Tableau"
   ]
  },
  {
   "cell_type": "markdown",
   "id": "4d064ec2",
   "metadata": {},
   "source": [
    "# Motivation: core of a cooperative game \n",
    "\n",
    "\n",
    "## Description of the problem\n",
    "\n",
    "Consider the game from Scarf (1967), section 5.\n",
    "This is a cooperative game with three players $z \\in \\mathcal Z = \\{1,2,3\\}$.\n",
    "Players can remain in autarky and get a payoff of zero, or they can sign arrangements between two players.\n",
    "\n",
    "*(Scarf ignores the possible arrangements between all three players because...)*\n",
    "\n",
    "Players 1 and 2 can sign three different arrangements.\n",
    "In the first one their payoffs are $(12,6)$ (meaning that 1 gets 12 and 2 gets 6), in the second one, $(3,7)$, and in the third one, $(2,9)$.\n",
    "Players 1 and 3 can also sign three possible arrangements with respective payoffs $(9,3)$, $(5,8)$, and $(4,10)$.\n",
    "Lastly, three arrangements are also available to players 2 and 3, yielding respectively $(5,6)$, $(2,9)$ and $(8,4)$.\n",
    "Let $\\mathcal A$ be the set of all arrangements, which also includes autarky as arrangements of a single player with payoff 0.\n",
    "\n",
    "We build a matrix whose rows are the players and columns are the arrangements.\n",
    "Given player $z \\in \\mathcal Z$ and arrangement $a \\in \\mathcal A$, we denote $\\Phi_{za}$ the payoff of a player $z$ in arrangement $a$.\n",
    "If $z$ is not part of arrangement $a$, the value of $\\Phi_{za}$ is not relevant, but it will be useful to define it as a very large number $K_a$ which will differ across arrangements.  \n",
    "\n",
    "The matrix $\\Phi$ is therefore defined as \n",
    "\\begin{equation}\n",
    "\\Phi = \\begin{bmatrix}\n",
    "0 & K_1 & K_2 & 12 & 3 & 2 & 9 & 5 & 4 & K_9 & K_{10} & K_{11} \\\\\n",
    "K_0 & 0 & K_2 & 6 & 7 & 9 & K_6 & K_7 & K_8 & 5 & 2 & 8 \\\\\n",
    "K_0 & K_1 & 0 & K_3 & K_4 & K_5 & 3 & 8 & 10 & 6 & 9 & 4 \\\\\n",
    "\\end{bmatrix}\n",
    "\\end{equation}\n",
    "with $K_0 > K_1 > \\dots > K_{11}$.\n",
    "\n",
    "Next, we define $M$ the margining-out matrix (MOM), which is a $|\\mathcal Z| \\times |\\mathcal A|$ matrix such that $M_{za}$ is 1 if $z$ appears in arrangement $a$, and 0 otherwise.\n",
    "In the present example, we have:\n",
    "\n",
    "\\begin{equation}\n",
    "M = \\begin{bmatrix}\n",
    "1 \\quad & 0 \\quad & 0 \\quad & 1 \\quad & 1 \\quad & 1 \\quad & 1 \\quad & 1 \\quad & 1 \\quad & 0 \\quad & 0 \\quad & 0 \\\\\n",
    "0 \\quad & 1 \\quad & 0 \\quad & 1 \\quad & 1 \\quad & 1 \\quad & 0 \\quad & 0 \\quad & 0 \\quad & 1 \\quad & 1 \\quad & 1 \\\\\n",
    "0 \\quad & 0 \\quad & 1 \\quad & 0 \\quad & 0 \\quad & 0 \\quad & 1 \\quad & 1 \\quad & 1 \\quad & 1 \\quad & 1 \\quad & 1 \\\\\n",
    "\\end{bmatrix}.\n",
    "\\end{equation}\n",
    "\n",
    "Finally, we define $q$ a vector of ones, the same size as the number of players.\n",
    "\n",
    "*Remark.* We could reinterpret this with a large number of individuals divided into a finite number of types $z \\in \\mathcal Z$.\n",
    "Then, $q_z$ would be the mass of individuals of type $z$."
   ]
  },
  {
   "cell_type": "markdown",
   "id": "79579d64",
   "metadata": {},
   "source": [
    "We set this up as follows:"
   ]
  },
  {
   "cell_type": "code",
   "execution_count": 2,
   "id": "7fd66077",
   "metadata": {},
   "outputs": [],
   "source": [
    "class OrdinalBasis:\n",
    "    def __init__(self, Φ_z_a, M_z_a, q_z=None, K=None, eps=1e-5):\n",
    "        if not (Φ_z_a.shape == M_z_a.shape):\n",
    "            raise ValueError('Φ_z_a and M_z_a must have the same size.')\n",
    "        self.Φ_z_a, self.M_z_a = Φ_z_a, M_z_a\n",
    "        if K is None:\n",
    "            K = Φ_z_a.max()\n",
    "        self.nbstep, self.K, self.eps = 0, K, eps\n",
    "        self.nbz, self.nba = self.Φ_z_a.shape\n",
    "        if q_z is None:\n",
    "            q_z = np.ones(self.nbz)\n",
    "        self.q_z = q_z\n"
   ]
  },
  {
   "cell_type": "code",
   "execution_count": 3,
   "id": "7b833051",
   "metadata": {},
   "outputs": [
    {
     "name": "stdout",
     "output_type": "stream",
     "text": [
      "[[  0. 100. 100.  12.   3.   2.   9.   5.   4. 100. 100. 100.]\n",
      " [100.   0. 100.   6.   7.   9. 100. 100. 100.   5.   2.   8.]\n",
      " [100. 100.   0. 100. 100. 100.   3.   8.  10.   6.   9.   4.]]\n",
      "[[1. 0. 0. 1. 1. 1. 1. 1. 1. 0. 0. 0.]\n",
      " [0. 1. 0. 1. 1. 1. 0. 0. 0. 1. 1. 1.]\n",
      " [0. 0. 1. 0. 0. 0. 1. 1. 1. 1. 1. 1.]]\n"
     ]
    }
   ],
   "source": [
    "def create_scarf_ex_sec5():\n",
    "    K = 100\n",
    "    Φ_z_a = 1.0 * np.array([[0,K,K,12,3,2,9,5, 4,K,K,K],\n",
    "                            [K,0,K, 6,7,9,K,K, K,5,2,8],\n",
    "                            [K,K,0, K,K,K,3,8,10,6,9,4]])\n",
    "    M_z_a = (Φ_z_a != K) * 1.\n",
    "    return (Φ_z_a, M_z_a)\n",
    "\n",
    "scarf_ex_sec5 = OrdinalBasis(*create_scarf_ex_sec5())\n",
    "\n",
    "print(scarf_ex_sec5.Φ_z_a)\n",
    "print(scarf_ex_sec5.M_z_a)\n"
   ]
  },
  {
   "cell_type": "code",
   "execution_count": 4,
   "id": "af06e79d",
   "metadata": {},
   "outputs": [
    {
     "name": "stdout",
     "output_type": "stream",
     "text": [
      "[[  0. 111. 110.  12.   3.   2.   9.   5.   4. 103. 102. 101.]\n",
      " [112.   0. 110.   6.   7.   9. 106. 105. 104.   5.   2.   8.]\n",
      " [112. 111.   0. 109. 108. 107.   3.   8.  10.   6.   9.   4.]]\n",
      "[1.00001 1.00002 1.00003]\n"
     ]
    }
   ],
   "source": [
    "def OrdinalBasis_remove_degeneracies(self):\n",
    "    self.Φ_z_a += np.arange(self.nba,0,-1) * (self.Φ_z_a == self.K)\n",
    "    self.q_z = self.q_z + np.arange(1,self.nbz+1)*self.eps\n",
    "    # As in Nguyen & Vohra:\n",
    "    #self.q_z = self.q_z - np.linspace(1, 2, self.nbz)*self.eps     \n",
    "    #np.fill_diagonal(self.Φ_z_a[:,:self.nbz], self.Φ_z_a[:,self.nbz:].min(axis=1) - .001)\n",
    "    #self.Φ_z_a.T[self.Φ_z_a.T==self.K] = self.K - np.arange(0, np.sum(self.Φ_z_a==self.K))\n",
    "\n",
    "OrdinalBasis.remove_degeneracies = OrdinalBasis_remove_degeneracies\n",
    "\n",
    "scarf_ex_sec5.remove_degeneracies()\n",
    "print(scarf_ex_sec5.Φ_z_a)\n",
    "print(scarf_ex_sec5.q_z)"
   ]
  },
  {
   "cell_type": "markdown",
   "id": "702db6ab",
   "metadata": {},
   "source": [
    "## Feasible and stable matchings\n",
    "\n",
    "We wish to find a matching $\\mu = (\\mu_a)_{a \\in \\mathcal A}$ which is both feasible and stable.\n",
    "The matching $\\mu$ is **feasible** if\n",
    "\n",
    "\\begin{equation}\n",
    "M \\mu = q.\n",
    "\\end{equation}\n",
    "\n",
    "The matching $\\mu$ is **stable** if there is no arrangement $a$ which would make all its members strictly better off than they currently are.\n",
    "If $\\mu$ is integral (i.e. if its elements are either 0 or 1) then each player belongs to a single arrangement and his payoff is therefore\n",
    "\n",
    "\\begin{equation}\n",
    "p_z = \\min_{a | \\mu_a > 0} \\Phi_{za}.\n",
    "\\end{equation}\n",
    "\n",
    "This is by construction, since we have set $\\Phi_{za} = K_a$ large enough whenever $z$ is not part of $a$.  \n",
    "Hence the stability condition can be written\n",
    "\n",
    "\\begin{equation}\n",
    "\\not\\exists a, \\forall z, \\; p_z < \\Phi_{za},\n",
    "\\qquad \\text{or equivalently,} \\qquad\n",
    "\\forall a, \\exists z, \\; p_z \\geq \\Phi_{za}.\n",
    "\\end{equation}\n",
    "\n",
    "If instead we interpret $z$ as types, then a matching does not have to be integral, and two individuals of the same type can have different payoffs depending on which arrangement they end up assigned to.\n",
    "In this case, $p_z$ is the *worst-case utility* for an individual of type $z$.\n",
    "Still, an arrangement $a$ will block $\\mu$ if and only if $p_z < \\Phi_{za}$ for all $z$.\n",
    "Indeed, if the match can be blocked by individuals who are not the worse-off within their type (so with payoff more than $p_z$), then a fortiori the match can also be blocked by those who are the worse-off in their type.\n",
    "\n",
    "\n",
    "\n",
    "*Lastly, what if we really have $N$ players and $\\mu$ is not integral? How do we understand the matching then?*\n"
   ]
  },
  {
   "cell_type": "markdown",
   "id": "3dc3c739",
   "metadata": {},
   "source": [
    "# Scarf's algorithm\n",
    "\n",
    "## Overview\n",
    "\n",
    "Scarf's lemma states that a matching $\\mu$ which is both feasible and stable always exists (although it may not be integral).\n",
    "Scarf's ordinal-basis algorithm finds such a matching.\n",
    "\n",
    "We provide a rough description here — the operations and terms will be defined precisely below.\n",
    "\n",
    "---\n",
    "\n",
    "*Scarf's algorithm*\n",
    "\n",
    "**Step 0: Initialization.**  \n",
    "Let $n = 0$.\n",
    "Initialize the $M$ basis to the autarky columns $\\{0,1,2\\}$ and the $\\Phi$ basis to columns $\\{1,2,a_0\\}$, where $a_0 \\geq 3$ is chosen to form an ordinal basis.\n",
    "\n",
    "**Step 1: Cardinal pivot.**  \n",
    "Increment $n$. Column $a_{n-1}$ enters the $M$ basis. Determine the column $a'_n$ which departs from the $M$ basis via the *cardinal pivot*.\n",
    "\n",
    "**Step 2: Ordinal pivot.**  \n",
    "Column $a'_n$ also departs from the $\\Phi$ basis. Determine the column $a_n$ which enters the $\\Phi$ basis via the *ordinal pivot* .\n",
    "\n",
    "**Step 3: Check if bases coincide.**  \n",
    "If the $M$ basis coincides with the $\\Phi$ basis, go to step 4; if not, go back to step 1.\n",
    "\n",
    "**Step 4: Find the solution.**  \n",
    "Solve $M \\mu = q$ using only the columns of $M$ corresponding to the $M$ basis.\n",
    "\n",
    "---\n",
    "\n",
    "Let's implement this algorithm.\n"
   ]
  },
  {
   "cell_type": "markdown",
   "id": "77386a69",
   "metadata": {},
   "source": [
    "## Initialization\n",
    "\n",
    "We start with the basis formed by the first three columns of $M$, $\\{0,1,2\\}$, corresponding to the three autarky arrangements. "
   ]
  },
  {
   "cell_type": "code",
   "execution_count": 5,
   "id": "6f55f5c6",
   "metadata": {},
   "outputs": [
    {
     "name": "stdout",
     "output_type": "stream",
     "text": [
      "+-----+-------+-------+-------+-------+-------+-------+-------+-------+-------+-------+-------+-------+---------+\n",
      "|     |   s_0 |   s_1 |   s_2 |   x_0 |   x_1 |   x_2 |   x_3 |   x_4 |   x_5 |   x_6 |   x_7 |   x_8 |     RHS |\n",
      "+=====+=======+=======+=======+=======+=======+=======+=======+=======+=======+=======+=======+=======+=========+\n",
      "| Obj |     0 |     0 |     0 |     0 |     0 |     0 |     0 |     0 |     0 |     0 |     0 |     0 | 0       |\n",
      "+-----+-------+-------+-------+-------+-------+-------+-------+-------+-------+-------+-------+-------+---------+\n",
      "| s_0 |     1 |     0 |     0 |     1 |     1 |     1 |     1 |     1 |     1 |     0 |     0 |     0 | 1.00001 |\n",
      "+-----+-------+-------+-------+-------+-------+-------+-------+-------+-------+-------+-------+-------+---------+\n",
      "| s_1 |     0 |     1 |     0 |     1 |     1 |     1 |     0 |     0 |     0 |     1 |     1 |     1 | 1.00002 |\n",
      "+-----+-------+-------+-------+-------+-------+-------+-------+-------+-------+-------+-------+-------+---------+\n",
      "| s_2 |     0 |     0 |     1 |     0 |     0 |     0 |     1 |     1 |     1 |     1 |     1 |     1 | 1.00003 |\n",
      "+-----+-------+-------+-------+-------+-------+-------+-------+-------+-------+-------+-------+-------+---------+\n"
     ]
    },
    {
     "data": {
      "text/plain": [
       "[0, 1, 2]"
      ]
     },
     "execution_count": 5,
     "metadata": {},
     "output_type": "execute_result"
    }
   ],
   "source": [
    "def OrdinalBasis_init_basis_M(self):\n",
    "    self.tableau_M = Tableau(A_i_j=self.M_z_a[:,self.nbz:self.nba], d_i=self.q_z)\n",
    "    self.basis_M = list(self.tableau_M.k_b)   # k_b are the indices of columns associated with basic variables\n",
    "    return \n",
    "    \n",
    "OrdinalBasis.init_basis_M = OrdinalBasis_init_basis_M\n",
    "\n",
    "scarf_ex_sec5.init_basis_M()\n",
    "scarf_ex_sec5.tableau_M.display()\n",
    "scarf_ex_sec5.basis_M"
   ]
  },
  {
   "cell_type": "markdown",
   "id": "240498ce",
   "metadata": {},
   "source": [
    "We verify that this basis yields a feasible solution to the equation $M \\mu = q$."
   ]
  },
  {
   "cell_type": "code",
   "execution_count": 6,
   "id": "dfb73b7d",
   "metadata": {},
   "outputs": [
    {
     "data": {
      "text/plain": [
       "array([1.00001, 1.00002, 1.00003, 0.     , 0.     , 0.     , 0.     ,\n",
       "       0.     , 0.     , 0.     , 0.     , 0.     ])"
      ]
     },
     "execution_count": 6,
     "metadata": {},
     "output_type": "execute_result"
    }
   ],
   "source": [
    "def OrdinalBasis_μsol_a(self, basis=None):\n",
    "    if basis is None:\n",
    "        basis = self.basis_M\n",
    "    B = self.M_z_a[:,list(basis)]\n",
    "    μ_a = np.zeros(self.nba)\n",
    "    μ_a[list(basis)] = np.linalg.solve(B,self.q_z)\n",
    "    return μ_a\n",
    "    \n",
    "OrdinalBasis.μsol_a = OrdinalBasis_μsol_a\n",
    "\n",
    "scarf_ex_sec5.μsol_a([0,1,2])"
   ]
  },
  {
   "cell_type": "markdown",
   "id": "fb4029b0",
   "metadata": {},
   "source": [
    "In this solution, each player is assigned to his autarky arrangement.  \n",
    "Next, we check if that matching is stable.\n",
    "For this we need to define $p_z$, the worst-case payoff of each player $z$ in the basis $\\{0,1,2\\}$."
   ]
  },
  {
   "cell_type": "code",
   "execution_count": 7,
   "id": "35666699",
   "metadata": {},
   "outputs": [
    {
     "data": {
      "text/plain": [
       "array([0., 0., 0.])"
      ]
     },
     "execution_count": 7,
     "metadata": {},
     "output_type": "execute_result"
    }
   ],
   "source": [
    "def OrdinalBasis_p_z(self, basis=None):\n",
    "    if basis is None:\n",
    "        basis = self.basis_Φ\n",
    "    return self.Φ_z_a[:,list(basis)].min(axis=1)\n",
    "\n",
    "OrdinalBasis.p_z = OrdinalBasis_p_z\n",
    "scarf_ex_sec5.p_z([0,1,2])"
   ]
  },
  {
   "cell_type": "markdown",
   "id": "6ef0bcf6",
   "metadata": {},
   "source": [
    "This makes sense – in autarky, every player gets zero.\n",
    "Now we would like to check if there are blocking arrangements, that is, if there are columns $a$ such that $p_z < \\Phi_{za}$ for every $z$.\n",
    "If such columns don't exist, the basis $\\{0,1,2\\}$ will be called an *ordinal basis*."
   ]
  },
  {
   "cell_type": "code",
   "execution_count": 8,
   "id": "40c028e1",
   "metadata": {},
   "outputs": [
    {
     "data": {
      "text/plain": [
       "(False, (array([ 3,  4,  5,  6,  7,  8,  9, 10, 11], dtype=int64),))"
      ]
     },
     "execution_count": 8,
     "metadata": {},
     "output_type": "execute_result"
    }
   ],
   "source": [
    "def OrdinalBasis_is_ordinal_basis(self, basis):\n",
    "    ans, which = False, None\n",
    "    if len(basis)==self.nbz:\n",
    "        blocking = (self.Φ_z_a[:,list(basis)].min(axis = 1)[:,None] < self.Φ_z_a).all(axis = 0)\n",
    "        if blocking.any():\n",
    "            which = np.where(blocking)\n",
    "        else:\n",
    "            ans = True\n",
    "    return ans, which\n",
    "\n",
    "OrdinalBasis.is_ordinal_basis = OrdinalBasis_is_ordinal_basis\n",
    "scarf_ex_sec5.is_ordinal_basis([0,1,2])"
   ]
  },
  {
   "cell_type": "markdown",
   "id": "91d9c655",
   "metadata": {},
   "source": [
    "One sees that $\\{0,1,2\\}$ is not an ordinal basis — far from it in fact, since every other column corresponds to a blocking arrangement.\n",
    "\n",
    "We pick up an arbitrary arrangement of the current basis, for example column 0, and we wonder if it is possible to exchange it against another column $a_0 \\geq 3$ so that $\\{1,2, a_0\\}$ is an ordinal basis.\n",
    "In fact, we don't have much choice, as we shall have $p_z = 0$ for $z \\neq 1$ irrespective of $a_0$.\n",
    "Therefore we need to choose $a_0$ such that\n",
    "\n",
    "$p_1 = \\min \\{ \\Phi_{11}, \\Phi_{12}, \\Phi_{1 a_0} \\} \\geq \\Phi_{1 a}$ for all $a \\notin \\{1,2,a_0\\}$.\n",
    "\n",
    "But since $\\min \\{ \\Phi_{11}, \\Phi_{12}, \\Phi_{1 a_0} \\} = \\Phi_{1 a_0}$, this yields\n",
    "\n",
    "$\\Phi_{1 a_0} \\geq \\Phi_{1 a}$ for all $a \\notin \\{1,2,a_0\\}$, hence $a_0 = \\arg\\max_{a \\notin \\{0,1,2\\}} ~ \\Phi_{1a}$.\n"
   ]
  },
  {
   "cell_type": "code",
   "execution_count": 9,
   "id": "77fe518c",
   "metadata": {},
   "outputs": [],
   "source": [
    "def OrdinalBasis_init_basis_Φ(self, a_departing):\n",
    "    self.basis_Φ = list(range(self.nbz))\n",
    "    self.basis_Φ.remove(a_departing)\n",
    "    a_entering = self.nbz + self.Φ_z_a[a_departing,self.nbz:].argmax()\n",
    "    self.basis_Φ.append(a_entering)\n",
    "    self.entcol = a_entering\n",
    "    return a_entering\n",
    "\n",
    "OrdinalBasis.init_basis_Φ = OrdinalBasis_init_basis_Φ"
   ]
  },
  {
   "cell_type": "markdown",
   "id": "3e42c8af",
   "metadata": {},
   "source": [
    "We run:"
   ]
  },
  {
   "cell_type": "code",
   "execution_count": 10,
   "id": "43100c14",
   "metadata": {},
   "outputs": [
    {
     "name": "stdout",
     "output_type": "stream",
     "text": [
      "Column 9 is entering the Φ basis.\n",
      "Φ basis: [1, 2, 9]\n",
      "M basis: [0, 1, 2]\n"
     ]
    }
   ],
   "source": [
    "entcol = scarf_ex_sec5.init_basis_Φ(0)\n",
    "print('Column ' + str(entcol) + ' is entering the Φ basis.')\n",
    "print('Φ basis:', scarf_ex_sec5.basis_Φ)\n",
    "print('M basis:', scarf_ex_sec5.basis_M)"
   ]
  },
  {
   "cell_type": "markdown",
   "id": "f32772e2",
   "metadata": {},
   "source": [
    "## Cardinal pivot\n",
    "\n",
    "Column 9 has entered the $\\Phi$ basis.\n",
    "As a result, we shall want column 9 to enter the $M$ basis as well.  \n",
    "The standard pivot step on matrix $M$ will determine which column will depart from the $M$ basis."
   ]
  },
  {
   "cell_type": "code",
   "execution_count": 11,
   "id": "f762b3de",
   "metadata": {
    "scrolled": true
   },
   "outputs": [
    {
     "name": "stdout",
     "output_type": "stream",
     "text": [
      "Column 1 is leaving the M basis.\n",
      "Φ basis: [1, 2, 9]\n",
      "M basis: [0, 2, 9]\n"
     ]
    }
   ],
   "source": [
    "def OrdinalBasis_determine_departing(self, a_entering):\n",
    "    a_departing = self.tableau_M.determine_departing(a_entering)\n",
    "    self.tableau_M.update(a_entering,a_departing)\n",
    "    self.basis_M.remove(a_departing)\n",
    "    self.basis_M.append(a_entering)\n",
    "    return a_departing\n",
    "\n",
    "OrdinalBasis.determine_departing = OrdinalBasis_determine_departing\n",
    "\n",
    "depcol = scarf_ex_sec5.determine_departing(entcol)\n",
    "print('Column ' + str(depcol) + ' is leaving the M basis.')\n",
    "print('Φ basis:', scarf_ex_sec5.basis_Φ)\n",
    "print('M basis:', scarf_ex_sec5.basis_M)"
   ]
  },
  {
   "cell_type": "markdown",
   "id": "1f38d5e9",
   "metadata": {},
   "source": [
    "## Ordinal pivot\n",
    "\n",
    "Column 1 has left the $M$ basis.\n",
    "As the two bases still differ, we need to remove column 1 from the $\\Phi$ basis, and to determine which column enters instead to ensure that it remains an ordinal basis.\n",
    "\n",
    "We begin by considering the submatrix of $\\Phi$ consisting of the columns associated with the current $\\Phi$ basis, $\\{1,2,9\\}$:\n",
    "\n",
    "\\begin{equation}\n",
    "\\begin{bmatrix}\n",
    "K_1 & K_2 & K_9 \\\\\n",
    "0 & K_2 & 5 \\\\\n",
    "K_1 & 0 & 6 \\\\\n",
    "\\end{bmatrix}.\n",
    "\\end{equation}\n",
    "\n",
    "The associated vector of payoffs is $p = (K_9, 0, 0)$.\n",
    "\n",
    "Note that by construction, each of these columns has one, and only one, row minimizer (indeed, when we brought in column 9 it verified $\\min(\\Phi_{10}, \\Phi_{11}, \\Phi_{12}) \\geq \\Phi_{19}$).\n",
    "Hence, when we remove column 1, there will be *exactly one column* which will have two row minimizers.  \n",
    "Here it is column 9: its row minimizers are $K_9$, which was already the row minimizer for the previous basis; and $5$, which is the new row minimizer after removing column 1.\n",
    "We call $z^*$ the row associated with the old row minimizer: $z^* = 1$.\n",
    "\n",
    "We now consider all columns $a$ such that $\\Phi_{za} > \\min (\\Phi_{z2}, \\Phi_{z9})$ for all $z \\neq z^*$.  \n",
    "In our example, those are all the columns $a$ such that $\\Phi_{1a} > 5$ and $\\Phi_{3a} > 0$: the eligible columns are $A = \\{3, 4, 5, 6, 7, 8, 11\\}$.\n",
    "\n",
    "Finally, we choose the entering column as that column in $A$ which maximizes $\\Phi_{z^* a}$:\n",
    "\n",
    "$a^* = \\arg\\max_{a \\in A} \\Phi_{z^* a}$.\n",
    "\n",
    "For us, this is column 11 (with $\\Phi_{1, 11} = K_{11}$).\n"
   ]
  },
  {
   "cell_type": "markdown",
   "id": "17e36b7c",
   "metadata": {},
   "source": [
    "Let's prove formally the following:\n",
    "\n",
    "**Proposition.** The ordinal pivot maintains an ordinal basis with each column containing exactly one row minimizer.\n",
    "\n",
    "*Proof.*\n",
    "Assume we start from an ordinal basis $B \\subset \\mathcal A$.\n",
    "The vector of payoffs $p$ is defined by $p_z = \\min_{a \\in B} \\Phi_{za}$, and it verifies:\n",
    "$\\forall a, \\exists z, \\; p_z \\geq \\Phi_{za}$. \n",
    "Furthermore, each $a \\in B$ has a unique row minimizer.\n",
    "\n",
    "Let $a_0 \\in B$ be the column which is leaving the basis, and denote $z_0$ the row which was minimized at $a_0$.\n",
    "Now row $z_0$ is minimized at some other column $a_1 \\in B - \\{a_0\\}$, which already minimized a row $z_1 \\neq z_0$ beforehand.\n",
    "\n",
    "To choose an entering column $a_2$, we restrict attention to candidates in $A = \\{a \\notin B : \\forall z \\neq z_1, \\; \\Phi_{za} > \\min_{\\tilde a \\in B - \\{a_0\\}} \\Phi_{z \\tilde a} \\}$.  \n",
    "We need to prove that such candidates exist.\n",
    "The column $a$ corresponding to $z_1$ in autarky is actually always a suitable candidate (by construction, the corresponding $K_a$ is among the $|\\mathcal Z|-1$ largest numbers of any row $z \\neq z_1$) – that is, except if it is already in the basis.\n",
    "But if that is the case, then $a_1$ must be this column (because $a_1$ achieves the minimum of row $z_1$ in the full matrix $\\Phi$).\n",
    "Since $a_1$ is also a row minimizer for $z_0$ in $B - \\{a_0\\}$, it must be that $B - \\{a_0\\}$ corresponds to the first $|\\mathcal Z| - 1$ columns of $\\Phi$, with $a_1$ being number $|\\mathcal Z| - 1$ (and the column where $z_0$ is in autarky as number $|\\mathcal Z|$).  \n",
    "However, the only way this can occur is if $B = \\{0, 1, 2, \\dots, |\\mathcal Z| - 2, a_0\\}$\n",
    "\n",
    "\n",
    "\n",
    "Note that the departing column $a_0$ cannot be a suitable candidate since for $z = z_0$, $\\Phi_{z_0 a_0} < \\Phi_{z_0 a_1}$.  \n",
    "\n",
    "Finally, we choose $a_2 = \\arg\\max_{a \\in A} \\Phi_{z_1 a}$.\n",
    "We necessarily have $\\Phi_{z_1 a_2} \\leq p_{z_1}$, otherwise $B$ would not be an ordinal basis.\n",
    "Since there are no degeneracies, we even have $\\Phi_{z_1 a_2} < p_{z_1}$.  \n",
    "We define $B' = B - \\{a_0\\} + \\{a_2\\}$ and $p_z'$ the corresponding vector of payoffs.\n",
    "Then:  \n",
    "$p_{z_0}' = \\Phi_{z_0 a_1} > p_{z_0}$,  \n",
    "$p_{z_1}' = \\Phi_{z_1 a_2} < p_{z_1}$,  \n",
    "$p_z' = p_z$ for all $z \\notin \\{z_0, z_1\\}$.  \n",
    "Thus each column still has a single row minimizer in $B'$.\n",
    "\n",
    "\n",
    "\n",
    "Now we want to prove that for all $a$, there is some $z$ such that $p_z' \\geq \\Phi_{za}$.\n",
    "We have four cases.\n",
    "\n",
    "(i) If $a \\in B'$, then it minimizes one row among the columns of the basis, i.e. there is some $z$ such that $p_z' = \\Phi_{za}$.  \n",
    "(ii) If $a = a_0$, then $p_{z_0}' > p_{z_0} = \\Phi_{z_0 a_0}$.  \n",
    "(iii) If $a \\in A$, then $p_{z_1}' = \\Phi_{z_1 a_2} \\geq \\Phi_{z_1 a}$ by definition of $a_2$ as the maximizer.  \n",
    "(iv) Otherwise, $a$ is neither in $B$ nor in $A$.\n",
    "Hence by definition of $A$, there is some $z \\neq z_1$ such that $\\Phi_{za} \\leq \\min_{\\tilde a \\in B - \\{a_0\\}} \\Phi_{z \\tilde a}$.\n",
    "But since $z \\neq z_1$, $p_z' = \\min_{\\tilde a \\in B - \\{a_0\\}} \\Phi_{z \\tilde a}$ (only $z_1$ reaches the minimum at $a = a_2$ which is not in $B - \\{a_0\\}$) hence $p_z' \\geq \\Phi_{za}$."
   ]
  },
  {
   "cell_type": "markdown",
   "id": "da5a04d5",
   "metadata": {},
   "source": [
    "We code this as follows:"
   ]
  },
  {
   "cell_type": "code",
   "execution_count": 12,
   "id": "8ebcf26b",
   "metadata": {},
   "outputs": [],
   "source": [
    "def OrdinalBasis_determine_entering(self, a_departing):\n",
    "    pbefore_z = self.p_z(self.basis_Φ)\n",
    "    self.basis_Φ.remove(a_departing)\n",
    "    pafter_z = self.p_z(self.basis_Φ)\n",
    "    z0 = np.where(pbefore_z < pafter_z)[0][0]\n",
    "    a0 = self.basis_Φ[np.argmin(self.Φ_z_a[z0,self.basis_Φ])]\n",
    "    zstar = np.where(pbefore_z == self.Φ_z_a[:,a0])[0][0]\n",
    "    eligible_columns = np.where(np.all(np.delete(self.Φ_z_a, zstar, axis=0) > np.delete(pafter_z, zstar)[:, None], axis=0))[0]\n",
    "    a_entering = eligible_columns[np.argmax(self.Φ_z_a[zstar,eligible_columns])]\n",
    "    self.basis_Φ.append(a_entering)\n",
    "    return a_entering\n",
    "\n",
    "OrdinalBasis.determine_entering = OrdinalBasis_determine_entering"
   ]
  },
  {
   "cell_type": "markdown",
   "id": "a192e593",
   "metadata": {},
   "source": [
    "We run:"
   ]
  },
  {
   "cell_type": "code",
   "execution_count": 13,
   "id": "fc56fd0a",
   "metadata": {},
   "outputs": [
    {
     "name": "stdout",
     "output_type": "stream",
     "text": [
      "Column 11 is entering the Φ basis.\n",
      "Φ basis: [2, 9, 11]\n",
      "M basis: [0, 2, 9]\n"
     ]
    }
   ],
   "source": [
    "entcol = scarf_ex_sec5.determine_entering(depcol)\n",
    "print('Column ' + str(entcol) + ' is entering the Φ basis.')\n",
    "print('Φ basis:', scarf_ex_sec5.basis_Φ)\n",
    "print('M basis:', scarf_ex_sec5.basis_M)"
   ]
  },
  {
   "cell_type": "markdown",
   "id": "54c84668",
   "metadata": {},
   "source": [
    "## Implementation of the algorithm\n",
    "\n",
    "We now encode a full step of the algorithm."
   ]
  },
  {
   "cell_type": "code",
   "execution_count": 14,
   "id": "bcb374ca",
   "metadata": {},
   "outputs": [],
   "source": [
    "def OrdinalBasis_step(self, a_entering, verbose=0):\n",
    "    self.nbstep += 1\n",
    "    a_departing = self.determine_departing(a_entering)\n",
    "\n",
    "    if self.basis_M == self.basis_Φ:\n",
    "        if verbose>0:\n",
    "            print('Solution found in '+ str(self.nbstep) +' steps.\\nBasis:', self.basis_Φ)\n",
    "        return False\n",
    "    else:\n",
    "        new_entcol = self.determine_entering(a_departing)\n",
    "        if verbose>1:\n",
    "            print('-- Step ' + str(self.nbstep) + ' --')\n",
    "            print('Column ' + str(a_entering) + ' enters the M basis.')\n",
    "            print('Column ' + str(a_departing) + ' leaves the two bases.')\n",
    "            print('Column ' + str(new_entcol) + ' enters the Φ basis.')\n",
    "            print('M basis: ', self.basis_M)\n",
    "            print('Φ basis: ', self.basis_Φ)\n",
    "            print('p_z =', self.p_z(self.basis_Φ))\n",
    "            \n",
    "    return new_entcol\n",
    "\n",
    "OrdinalBasis.step = OrdinalBasis_step"
   ]
  },
  {
   "cell_type": "code",
   "execution_count": 15,
   "id": "0a1fbfa0",
   "metadata": {},
   "outputs": [
    {
     "name": "stdout",
     "output_type": "stream",
     "text": [
      "-- Step 1 --\n",
      "Column 11 enters the M basis.\n",
      "Column 9 leaves the two bases.\n",
      "Column 6 enters the Φ basis.\n",
      "M basis:  [0, 2, 11]\n",
      "Φ basis:  [2, 11, 6]\n",
      "p_z = [9. 8. 0.]\n"
     ]
    }
   ],
   "source": [
    "entcol = scarf_ex_sec5.step(entcol,verbose=2)"
   ]
  },
  {
   "cell_type": "code",
   "execution_count": 16,
   "id": "db4f2b95",
   "metadata": {},
   "outputs": [
    {
     "name": "stdout",
     "output_type": "stream",
     "text": [
      "-- Step 2 --\n",
      "Column 6 enters the M basis.\n",
      "Column 2 leaves the two bases.\n",
      "Column 7 enters the Φ basis.\n",
      "M basis:  [0, 11, 6]\n",
      "Φ basis:  [11, 6, 7]\n",
      "p_z = [5. 8. 3.]\n"
     ]
    }
   ],
   "source": [
    "entcol = scarf_ex_sec5.step(entcol,verbose=2)"
   ]
  },
  {
   "cell_type": "code",
   "execution_count": 17,
   "id": "46945db0",
   "metadata": {},
   "outputs": [
    {
     "name": "stdout",
     "output_type": "stream",
     "text": [
      "-- Step 3 --\n",
      "Column 7 enters the M basis.\n",
      "Column 6 leaves the two bases.\n",
      "Column 3 enters the Φ basis.\n",
      "M basis:  [0, 11, 7]\n",
      "Φ basis:  [11, 7, 3]\n",
      "p_z = [5. 6. 4.]\n"
     ]
    }
   ],
   "source": [
    "entcol = scarf_ex_sec5.step(entcol,verbose=2)"
   ]
  },
  {
   "cell_type": "code",
   "execution_count": 18,
   "id": "e0dfeb13",
   "metadata": {},
   "outputs": [
    {
     "name": "stdout",
     "output_type": "stream",
     "text": [
      "Solution found in 4 steps.\n",
      "Basis: [11, 7, 3]\n"
     ]
    }
   ],
   "source": [
    "entcol = scarf_ex_sec5.step(entcol,verbose=2)"
   ]
  },
  {
   "cell_type": "code",
   "execution_count": 19,
   "id": "6f2d5d54",
   "metadata": {},
   "outputs": [
    {
     "data": {
      "text/plain": [
       "array([0. , 0. , 0. , 0.5, 0. , 0. , 0. , 0.5, 0. , 0. , 0. , 0.5])"
      ]
     },
     "execution_count": 19,
     "metadata": {},
     "output_type": "execute_result"
    }
   ],
   "source": [
    "np.around(scarf_ex_sec5.μsol_a(),2)"
   ]
  },
  {
   "cell_type": "markdown",
   "id": "c921b9aa",
   "metadata": {},
   "source": [
    "To summarize:"
   ]
  },
  {
   "cell_type": "code",
   "execution_count": 20,
   "id": "2c8310ac",
   "metadata": {},
   "outputs": [
    {
     "name": "stdout",
     "output_type": "stream",
     "text": [
      "M basis:  [0, 1, 2]\n",
      "Φ basis:  [1, 2, 9]\n",
      "-- Step 1 --\n",
      "Column 9 enters the M basis.\n",
      "Column 1 leaves the two bases.\n",
      "Column 11 enters the Φ basis.\n",
      "M basis:  [0, 2, 9]\n",
      "Φ basis:  [2, 9, 11]\n",
      "p_z = [101.   5.   0.]\n",
      "-- Step 2 --\n",
      "Column 11 enters the M basis.\n",
      "Column 9 leaves the two bases.\n",
      "Column 6 enters the Φ basis.\n",
      "M basis:  [0, 2, 11]\n",
      "Φ basis:  [2, 11, 6]\n",
      "p_z = [9. 8. 0.]\n",
      "-- Step 3 --\n",
      "Column 6 enters the M basis.\n",
      "Column 2 leaves the two bases.\n",
      "Column 7 enters the Φ basis.\n",
      "M basis:  [0, 11, 6]\n",
      "Φ basis:  [11, 6, 7]\n",
      "p_z = [5. 8. 3.]\n",
      "-- Step 4 --\n",
      "Column 7 enters the M basis.\n",
      "Column 6 leaves the two bases.\n",
      "Column 3 enters the Φ basis.\n",
      "M basis:  [0, 11, 7]\n",
      "Φ basis:  [11, 7, 3]\n",
      "p_z = [5. 6. 4.]\n",
      "Solution found in 5 steps.\n",
      "Basis: [11, 7, 3]\n"
     ]
    },
    {
     "data": {
      "text/plain": [
       "{'basis': [11, 7, 3],\n",
       " 'μ_a': array([0. , 0. , 0. , 0.5, 0. , 0. , 0. , 0.5, 0. , 0. , 0. , 0.5]),\n",
       " 'p_z': array([5., 6., 4.])}"
      ]
     },
     "execution_count": 20,
     "metadata": {},
     "output_type": "execute_result"
    }
   ],
   "source": [
    "def OrdinalBasis_solve(self, a_departing=0, verbose=0):\n",
    "    Φ_z_a_store, q_z_store = self.Φ_z_a.copy(), self.q_z.copy()\n",
    "    self.remove_degeneracies()\n",
    "    self.init_basis_M()\n",
    "    a_entering = self.init_basis_Φ(a_departing)\n",
    "    if verbose>1:\n",
    "        print('M basis: ', self.basis_M)\n",
    "        print('Φ basis: ', self.basis_Φ)\n",
    "    while a_entering:\n",
    "        a_entering = self.step(a_entering, verbose)\n",
    "    self.Φ_z_a, self.q_z = Φ_z_a_store, q_z_store\n",
    "    return {'basis': self.basis_Φ, 'μ_a': self.μsol_a(), 'p_z': self.p_z()}\n",
    "\n",
    "OrdinalBasis.solve = OrdinalBasis_solve\n",
    "\n",
    "scarf_ex_sec5 = OrdinalBasis(*create_scarf_ex_sec5())\n",
    "scarf_ex_sec5.solve(verbose=2)"
   ]
  },
  {
   "cell_type": "markdown",
   "id": "73e54277",
   "metadata": {},
   "source": [
    "## More detail"
   ]
  },
  {
   "cell_type": "markdown",
   "id": "b756ea40",
   "metadata": {},
   "source": [
    "Scarf's lemma assumes that $M$ and $\\Phi$ are two $n \\times m$ matrices in\n",
    "*standard form*, meaning that $M$ can be written by block:\n",
    "\n",
    "$M =\n",
    "\\begin{pmatrix}\n",
    "\\text I_n & N\n",
    "\\end{pmatrix}\n",
    "$\n",
    "\n",
    "where $\\text I_n$ is the identity matrix of size $n$, $N$ is a $(m-n)\\times n$ matrix, and \n",
    "\n",
    "for all $i \\in \\left\\{1, \\dots, n\\right\\}$ and $j \\in \\left\\{1, \\dots, n\\right\\}$\n",
    "and $j' \\in \\left\\{n+1, \\dots, m\\right\\}$, $\\Phi_{ii} \\leq \\Phi_{ij'} \\leq \\Phi_{ij}$.\n",
    "\n"
   ]
  },
  {
   "cell_type": "markdown",
   "id": "2a70abdb",
   "metadata": {},
   "source": [
    "Let's create some other examples, still taken from Scarf (1967):"
   ]
  },
  {
   "cell_type": "code",
   "execution_count": 21,
   "id": "2c579bda",
   "metadata": {},
   "outputs": [],
   "source": [
    "def create_scarf_ex_sec3():\n",
    "    K = 100\n",
    "    payoffs = [[6, 6, K], [2, 8, K], [12, K, 2], [3, K, 8], [K, 7, 5], [K, 2, 9]]\n",
    "    nbz=len(payoffs[0])\n",
    "    Φ_z_a = np.hstack([K*(np.ones((nbz,nbz)) - np.eye(nbz)),np.array(payoffs).T])\n",
    "    M_z_a = (Φ_z_a != K) * 1.0\n",
    "    return (Φ_z_a, M_z_a)\n"
   ]
  },
  {
   "cell_type": "code",
   "execution_count": 22,
   "id": "fff4b08e",
   "metadata": {},
   "outputs": [
    {
     "name": "stdout",
     "output_type": "stream",
     "text": [
      "Solution found in 4 steps.\n",
      "Basis: [7, 6, 3]\n"
     ]
    },
    {
     "data": {
      "text/plain": [
       "{'basis': [7, 6, 3],\n",
       " 'μ_a': array([0. , 0. , 0. , 0.5, 0. , 0. , 0.5, 0.5, 0. ]),\n",
       " 'p_z': array([3., 6., 5.])}"
      ]
     },
     "execution_count": 22,
     "metadata": {},
     "output_type": "execute_result"
    }
   ],
   "source": [
    "scarf_ex_sec3 = OrdinalBasis(*create_scarf_ex_sec3())\n",
    "scarf_ex_sec3.solve(verbose=1)"
   ]
  },
  {
   "cell_type": "markdown",
   "id": "a63cc4a2",
   "metadata": {},
   "source": [
    "# LCP formulation\n",
    "\n",
    "\n",
    "Idea: define $D_a =\\max_{z \\in Z} \\left\\{ p_z - \\Phi_{za} \\right\\}$\n",
    "\n",
    "We have the following mixed LCP:\n",
    "\n",
    "$0 \\leq \\mu_a \\perp D_a \\geq 0$\n",
    "\n",
    "$0 \\leq \\pi_{za} \\perp D_a - p_z + \\Phi_{za} \\geq 0$\n",
    "\n",
    "$p_z \\in \\mathbf R, \\left( A\\mu \\right)_z = q_z$\n",
    "\n",
    "$D_a \\in \\mathbf R,\\sum_z \\pi_{za} = 1$\n"
   ]
  },
  {
   "cell_type": "code",
   "execution_count": 23,
   "id": "49348e64",
   "metadata": {},
   "outputs": [],
   "source": [
    "import gurobipy as grb\n",
    "\n",
    "def solve_lcp(self,verbose=0):\n",
    "    m = grb.Model()\n",
    "    if verbose==0:\n",
    "        m.Params.OutputFlag = 0\n",
    "    m.Params.NonConvex = 2\n",
    "    mu_a = m.addMVar(self.nba)\n",
    "    d_a = m.addMVar(self.nba)\n",
    "    p_z = m.addMVar(self.nbz, lb = -grb.GRB.INFINITY)\n",
    "    delta_z_a = m.addMVar((self.nbz,self.nba))\n",
    "    pi_z_a = m.addMVar((self.nbz,self.nba))\n",
    "    m.addConstr(self.M_z_a @ mu_a == self.q_z)\n",
    "    m.addConstr(d_a[None,:] - p_z[:,None] + self.Φ_z_a == delta_z_a)\n",
    "    m.addConstr(pi_z_a.sum(axis=0) == 1)\n",
    "    m.setObjective( (d_a * mu_a).sum() + (delta_z_a*pi_z_a).sum(), sense = grb.GRB.MINIMIZE)\n",
    "    m.optimize()\n",
    "    print('pi_z_a:'), print(pi_z_a.x)\n",
    "    print('d_a:'), print(d_a.x)\n",
    "    return {'μ_a': mu_a.x, 'p_z': p_z.x}\n",
    "\n",
    "OrdinalBasis.solve_lcp = solve_lcp\n"
   ]
  },
  {
   "cell_type": "code",
   "execution_count": 24,
   "id": "ad099d6b",
   "metadata": {},
   "outputs": [
    {
     "name": "stdout",
     "output_type": "stream",
     "text": [
      "Set parameter Username\n",
      "Academic license - for non-commercial use only - expires 2025-01-21\n",
      "pi_z_a:\n",
      "[[1. 0. 0. 0. 1. 0. 1. 0. 0.]\n",
      " [0. 1. 0. 1. 0. 0. 0. 0. 1.]\n",
      " [0. 0. 1. 0. 0. 1. 0. 1. 0.]]\n",
      "d_a:\n",
      "[3. 6. 5. 0. 1. 3. 0. 0. 4.]\n"
     ]
    },
    {
     "data": {
      "text/plain": [
       "{'μ_a': array([0. , 0. , 0. , 0.5, 0. , 0. , 0.5, 0.5, 0. ]),\n",
       " 'p_z': array([3., 6., 5.])}"
      ]
     },
     "execution_count": 24,
     "metadata": {},
     "output_type": "execute_result"
    }
   ],
   "source": [
    "scarf_ex_sec3.solve_lcp(verbose=0)"
   ]
  },
  {
   "cell_type": "markdown",
   "id": "a5af2f9c",
   "metadata": {},
   "source": [
    "We would like to simplify this formulation.\n",
    "\n",
    "If we assume $\\Phi_{za} > 0$ for all $za$ (this is without loss of generality), then $p_z = \\min_a \\{ \\Phi_{za} + D_a \\} > 0$.\n",
    "Hence we can restrict $p_z$ to positive values and relax the equality $\\sum_a M_{za} \\mu_a = q_z$, to rewrite\n",
    "\n",
    "$0 \\leq p_z \\perp q_z - \\sum_a M_{za} \\mu_a \\geq 0$.\n",
    "\n",
    "Furthermore, in $D_a$ free, $\\sum_z \\pi_{za} = 1$, we already have $D_a \\geq 0$ and we can relax the equality (the $\\pi_{za}$ are indicators, all that matters is whether they are positive or 0).\n",
    "We write instead:\n",
    "\n",
    "$0 \\leq D_a \\perp \\sum_z \\pi_{za} - 1 \\geq 0$.\n",
    "\n",
    "To summarize, we now have a proper LCP:\n",
    "\n",
    "$0 \\leq \\mu_a \\perp D_a \\geq 0$\n",
    "\n",
    "$0 \\leq \\pi_{za} \\perp \\Phi_{za} + D_a - p_z \\geq 0$\n",
    "\n",
    "$0 \\leq p_z \\perp q_z - \\sum_a M_{za} \\mu_a \\geq 0$\n",
    "\n",
    "$0 \\leq D_a \\perp \\sum_z \\pi_{za} - 1 \\geq 0$."
   ]
  },
  {
   "cell_type": "markdown",
   "id": "70e828d6",
   "metadata": {},
   "source": [
    "Since the value of $\\sum_z \\pi_{za}$ does not matter (except being 0 or positive), we can introduce without loss the following constraint into the problem:\n",
    "\n",
    "$\\mu_a = \\sum_z \\pi_{za} - 1$.\n",
    "\n",
    "Then the first and last lines of the LCP become redundant, so we eliminate the first, and we replace $\\mu_a$ by its expression in the third line.\n",
    "We get:\n",
    "\n",
    "$0 \\leq \\pi_{za} \\perp \\Phi_{za} - p_z + D_a \\geq 0$\n",
    "\n",
    "$0 \\leq p_z \\perp q_z + \\sum_a M_{za} - \\sum_a M_{za} \\sum_x \\pi_{xa} \\geq 0$\n",
    "\n",
    "$0 \\leq D_a \\perp \\sum_z \\pi_{za} - 1 \\geq 0$.\n"
   ]
  },
  {
   "cell_type": "markdown",
   "id": "2b25023c",
   "metadata": {},
   "source": [
    "In matrix form this is:\n",
    "\n",
    "$0 \\leq \\pi \\perp \\Phi - M_Z^\\top p + M_A^\\top D \\geq 0$\n",
    "\n",
    "$0 \\leq p \\perp q + M 1_A - (1_Z^\\top \\otimes M) \\pi \\geq 0$\n",
    "\n",
    "$0 \\leq D \\perp M_A \\pi - 1_A \\geq 0$\n",
    "\n",
    "where $M_Z$ and $M_A$ are the usual margining-out matrices, such that $(M_Z \\pi)_z = \\sum_a \\pi_{za}$ and $(M_A \\pi)_a = \\sum_z \\pi_{za}$,\n",
    "\n",
    "\\begin{equation}\n",
    "M_Z = \\text I_Z \\otimes 1_A^\\top,\n",
    "\\qquad\\qquad\n",
    "M_A =  1_Z^\\top \\otimes \\text I_A.\n",
    "\\end{equation}"
   ]
  },
  {
   "cell_type": "code",
   "execution_count": 25,
   "id": "4aa791a6",
   "metadata": {},
   "outputs": [],
   "source": [
    "def solve_lcp_six(self,verbose=0):\n",
    "    m = grb.Model()\n",
    "    M_z_a = self.M_z_a.copy()\n",
    "    Φ_z_a = self.Φ_z_a.copy()\n",
    "    print('M_z_a:'), print(M_z_a)\n",
    "    print('Φ_z_a:'), print(Φ_z_a)\n",
    "    Φ_z_a += 1\n",
    "    if verbose==0:\n",
    "        m.Params.OutputFlag = 0\n",
    "    m.Params.NonConvex = 2\n",
    "    π_z_a = m.addMVar(self.nbz*self.nba)\n",
    "    p_z = m.addMVar(self.nbz)\n",
    "    d_a = m.addMVar(self.nba)\n",
    "    w_z_a = m.addMVar(self.nbz*self.nba)\n",
    "    w_z = m.addMVar(self.nbz)\n",
    "    w_a = m.addMVar(self.nba)\n",
    "    M_Z = np.kron(np.eye(self.nbz), np.ones((1,self.nba)))\n",
    "    M_A = np.kron(np.ones((1,self.nbz)), np.eye(self.nba))\n",
    "    kronprod = np.kron(np.ones((1,self.nbz)), M_z_a)\n",
    "    m.addConstr(w_z_a == Φ_z_a.flatten() - M_Z.T @ p_z + M_A.T @ d_a)\n",
    "    m.addConstr(w_z == self.q_z + M_z_a @ np.ones(self.nba) - kronprod @ π_z_a)\n",
    "    m.addConstr(w_a == M_A @ π_z_a - 1)\n",
    "    m.setObjective(π_z_a @ w_z_a + p_z @ w_z + d_a @ w_a, sense = grb.GRB.MINIMIZE)\n",
    "    m.optimize()\n",
    "    print('π_z_a:'), print(π_z_a.x.round(3).reshape(self.nbz, self.nba))\n",
    "    return {'π_z_a': π_z_a.x.round().reshape(self.nbz, self.nba), 'p_z': p_z.x-1, 'd_a': d_a.x, \n",
    "           'μ_a': M_A @ π_z_a.x - 1}\n",
    "\n",
    "OrdinalBasis.solve_lcp_six = solve_lcp_six"
   ]
  },
  {
   "cell_type": "code",
   "execution_count": 26,
   "id": "14ba3c07",
   "metadata": {},
   "outputs": [
    {
     "name": "stdout",
     "output_type": "stream",
     "text": [
      "M_z_a:\n",
      "[[1. 0. 0. 1. 1. 1. 1. 0. 0.]\n",
      " [0. 1. 0. 1. 1. 0. 0. 1. 1.]\n",
      " [0. 0. 1. 0. 0. 1. 1. 1. 1.]]\n",
      "Φ_z_a:\n",
      "[[  0. 100. 100.   6.   2.  12.   3. 100. 100.]\n",
      " [100.   0. 100.   6.   8. 100. 100.   7.   2.]\n",
      " [100. 100.   0. 100. 100.   2.   8.   5.   9.]]\n",
      "π_z_a:\n",
      "[[1.  0.  0.  0.  1.  0.  1.5 0.  0. ]\n",
      " [0.  1.  0.  1.5 0.  0.  0.  0.  1. ]\n",
      " [0.  0.  1.  0.  0.  1.  0.  1.5 0. ]]\n"
     ]
    },
    {
     "data": {
      "text/plain": [
       "{'π_z_a': array([[1., 0., 0., 0., 1., 0., 2., 0., 0.],\n",
       "        [0., 1., 0., 2., 0., 0., 0., 0., 1.],\n",
       "        [0., 0., 1., 0., 0., 1., 0., 2., 0.]]),\n",
       " 'p_z': array([3., 6., 5.]),\n",
       " 'd_a': array([3., 6., 5., 0., 1., 3., 0., 0., 4.]),\n",
       " 'μ_a': array([0. , 0. , 0. , 0.5, 0. , 0. , 0.5, 0.5, 0. ])}"
      ]
     },
     "execution_count": 26,
     "metadata": {},
     "output_type": "execute_result"
    }
   ],
   "source": [
    "scarf_ex_sec3.solve_lcp_six(verbose=0)"
   ]
  },
  {
   "cell_type": "code",
   "execution_count": 27,
   "id": "e7b4a036",
   "metadata": {},
   "outputs": [],
   "source": [
    "from mec.gt import LCP\n",
    "\n",
    "def OrdinalBasis_lemke_solve(self,verbose=0): \n",
    "    Φ_z_a = self.Φ_z_a.copy() + 1 # +1 to ensure p_z > 0\n",
    "    M_Z = np.kron(np.eye(self.nbz), np.ones((1,self.nba)))\n",
    "    M_A = np.kron(np.ones((1,self.nbz)), np.eye(self.nba))\n",
    "    kronprod = np.kron(np.ones((1,self.nbz)), self.M_z_a)\n",
    "    π_names_z_a = ['π_'+str(z+1)+'_'+str(a+1) for z in range(self.nbz) for a in range(self.nba)]\n",
    "    p_names_z = ['p_'+str(z+1) for z in range(self.nbz)]\n",
    "    d_names_a = ['d_'+str(a+1) for a in range(self.nba)]\n",
    "    z_names_i = π_names_z_a + p_names_z + d_names_a\n",
    "    w_names_i = ['comp_'+z_names_i[i] for i in range(self.nbz*self.nba+self.nbz+self.nba)]\n",
    "    lcp = LCP(M_i_j = np.block([[np.zeros((self.nbz*self.nba,self.nbz*self.nba)), -M_Z.T, M_A.T],\n",
    "                                [-kronprod, np.zeros((self.nbz,self.nbz+self.nba))],\n",
    "                                [M_A, np.zeros((self.nba,self.nbz+self.nba))]]),\n",
    "              q_i = np.hstack([Φ_z_a.flatten(), self.q_z + self.M_z_a @ np.ones(self.nba), -np.ones(self.nba)]),\n",
    "              z_names_i = z_names_i, w_names_i = w_names_i)\n",
    "    sol = lcp.lemke_solve(verbose)\n",
    "    if sol is not None:\n",
    "        zsol, _ = sol\n",
    "        π_z_a = zsol[:(self.nbz*self.nba)]\n",
    "        p_z = zsol[-(self.nbz+self.nba):(-self.nba)]\n",
    "        d_a = zsol[-self.nba:]\n",
    "        return {'π_z_a': π_z_a.reshape(self.nbz, self.nba), 'p_z': p_z-1, 'd_a': d_a, \n",
    "                'μ_a': M_A @ π_z_a - 1}\n",
    "    else:\n",
    "        return None\n",
    "\n",
    "OrdinalBasis.lemke_solve = OrdinalBasis_lemke_solve"
   ]
  },
  {
   "cell_type": "code",
   "execution_count": 28,
   "id": "6b2e35e3",
   "metadata": {},
   "outputs": [
    {
     "name": "stdout",
     "output_type": "stream",
     "text": [
      "z_0 enters, comp_d_1 departs\n",
      "==========\n",
      "Solution not found: Ray termination.\n"
     ]
    }
   ],
   "source": [
    "scarf_ex_sec3.lemke_solve(verbose=2)"
   ]
  },
  {
   "cell_type": "markdown",
   "id": "a94b00d1",
   "metadata": {},
   "source": [
    "## LCP formulation 2\n",
    "\n",
    "We use the duality:\n",
    "\n",
    "$p_z = \\min_a \\{ \\Phi_{za} + D_a \\}$\n",
    "\n",
    "$D_a = \\max_z \\{ p_z - \\Phi_{za} \\}$\n",
    "\n",
    "Consider the right-hand parts of $\\Phi$ and $M$ only (without the autarky columns).\n",
    "Consider the LCP:\n",
    "\n",
    "$0 \\leq \\mu_a \\perp D_a \\geq 0$\n",
    "\n",
    "$0 \\leq \\pi_{za} \\perp \\Phi_{za} + D_a - p_z \\geq 0$\n",
    "\n",
    "$0 \\leq p_z \\perp q_z - \\sum_a M_{za} \\mu_a \\geq 0$\n",
    "\n",
    "$0 \\leq D_a \\perp \\sum_z \\pi_{za} - 1 \\geq 0$.\n",
    "\n",
    "Use the following algorithm:\n",
    "\n",
    "**Step 0.** Initially, set all variables to 0 except for $D_a$ which is set to a very large value $K$.\n",
    "\n",
    "**Step 1.** Choose a $a$ and increase $\\mu_a$ until one of the constraints $q_z - \\sum_a M_{za} \\mu_a$ hits.\n",
    "\n",
    "**Step 2.** Take the corresponding $z$ and increase $p_z$ until one of the constraints $\\Phi_{za} + D_a - p_z \\geq 0$ hits.\n",
    "\n",
    "**Step 3.** Take the corresponding $za$ and increase $\\pi_{za}$ until one of the constraints $\\sum_z \\pi_{za} \\leq 1$ hits.\n",
    "\n",
    "**Step 4.** Take the corresponding $D_a$ and set it to 0.\n",
    "\n",
    "**Step 5.** Now either this $a$ corresponds to a $\\mu_a$ that we have already increased, or it does not.\n",
    "If it does, we stop and we have found a solution.\n",
    "If not, we take the corresponding $\\mu_a$ and go back to step 1."
   ]
  },
  {
   "cell_type": "code",
   "execution_count": null,
   "id": "3e746bc9",
   "metadata": {},
   "outputs": [],
   "source": []
  }
 ],
 "metadata": {
  "kernelspec": {
   "display_name": "Python 3 (ipykernel)",
   "language": "python",
   "name": "python3"
  },
  "language_info": {
   "codemirror_mode": {
    "name": "ipython",
    "version": 3
   },
   "file_extension": ".py",
   "mimetype": "text/x-python",
   "name": "python",
   "nbconvert_exporter": "python",
   "pygments_lexer": "ipython3",
   "version": "3.9.12"
  }
 },
 "nbformat": 4,
 "nbformat_minor": 5
}

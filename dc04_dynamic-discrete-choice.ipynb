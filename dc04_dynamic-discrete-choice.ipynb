{
 "cells": [
  {
   "cell_type": "markdown",
   "metadata": {},
   "source": [
    "# <center>Dynamic discrete choice</center>\n",
    "### <center>Alfred Galichon (NYU & Sciences Po)</center>\n",
    "## <center>'math+econ+code' masterclass series</center>\n",
    "#### <center>With python code examples</center>\n",
    "© 2018–2024 by Alfred Galichon. Past and present support from NSF grant DMS-1716489, ERC grant CoG-866274 are acknowledged, as well as inputs from contributors listed [here](http://www.math-econ-code.org/team).\n",
    "\n",
    "**If you reuse material from this masterclass, please cite as:**<br>\n",
    "Alfred Galichon, 'math+econ+code' masterclass series. https://www.math-econ-code.org/"
   ]
  },
  {
   "cell_type": "markdown",
   "metadata": {},
   "source": [
    "### Learning Objectives\n",
    "\n",
    "* Estimation of infinite-horizon dynamic discrete choice models\n",
    "\n",
    "### References\n",
    "\n",
    "* Ford Jr, L. R., & Fulkerson, D. R. (1958). Constructing maximal dynamic flows from static flows. *Operations research*, 6(3), 419-433.\n",
    "\n",
    "* Howard, R. (1960). *Dynamic programming and Markov processes*. Wiley.\n",
    "\n",
    "* Schrijver, A. (2003). *Combinatorial optimization: polyhedra and efficiency* Vol. A. Springer. Section 12.5.c.\n",
    "\n",
    "* Bertsekas, D. (2011), *Dynamic Programming and Optimal Control*, Vols. I and II. 3rd ed. Athena.\n",
    "\n",
    "* Ljungqvist, L., & Sargent, T. (2012), *Recursive Macroeconomic Theory* 3rd ed. MIT.\n",
    "\n",
    "* Rust (1987), Optimal replacement of GMC bus engines: an empirical model of Harold Zurcher. *Econometrica*.\n",
    "\n",
    "* Nazareth, J., & Kulkarni, R. (1986). Linear programming formulations of Markov decision processes. *Operations Research Letters*.\n",
    "\n",
    "* Ranie Lin, Rust (1987) replication. Python project, available on github https://github.com/ranielin/Rust-1987-Replication. \n",
    "\n"
   ]
  },
  {
   "cell_type": "markdown",
   "metadata": {},
   "source": [
    "### Libraries\n",
    "\n",
    "Let's start by loading the libraries we shall need for this course."
   ]
  },
  {
   "cell_type": "code",
   "execution_count": 1,
   "metadata": {},
   "outputs": [],
   "source": [
    "#!pip install nlopt # if from Colab\n",
    "import numpy as np\n",
    "import scipy.sparse as sp\n",
    "import nlopt"
   ]
  },
  {
   "cell_type": "markdown",
   "metadata": {},
   "source": [
    "## Loading the data\n",
    "\n",
    "The following function loads the data from John Rust's files, cleans them and returns them as a `np.array`. It outputs a three column array whose:\n",
    " - first column is the milage range (per 5,000 miles brackets)\n",
    " - second column is the decision to replace (1) or not (0)\n",
    " - third column is number of additional mileage brackets after running one period "
   ]
  },
  {
   "cell_type": "code",
   "execution_count": 2,
   "metadata": {},
   "outputs": [],
   "source": [
    "def load_Rust_data():\n",
    "    \n",
    "    thepath = 'https://raw.githubusercontent.com/math-econ-code/mec_datasets/main/dynamicchoice_Rust/datafiles/'\n",
    "    \n",
    "    def getcleandata(name,nrow):\n",
    "        filepath = thepath+name+'.asc'\n",
    "        thearray = np.genfromtxt(filepath, delimiter=None, dtype=float).reshape((nrow, -1), order='F')\n",
    "        odometer1 = thearray[5, :]  # mileage at first replacement (0 if no replacement)\n",
    "        odometer2 = thearray[8, :]  # mileage at second replacement (0 if no replacement)\n",
    "\n",
    "        thearray = thearray[11:, :]\n",
    "        \n",
    "        replaced1 = (thearray >= odometer1) * (odometer1 > 0)  # replaced once\n",
    "        replaced2 = (thearray >= odometer2) * (odometer2 > 0)  # replaced twice\n",
    "        \n",
    "        running_odometer = np.floor((thearray- odometer1 * replaced1 + (odometer1-odometer2)*replaced2 ) / 5000).astype(int)\n",
    "        T,B = thearray.shape\n",
    "        replact = np.array([[ (1 if (replaced1[t+1,b] and not replaced1[t,b]) or (replaced2[t+1,b] and not replaced2[t,b])  else 0) for b in range(B)]\n",
    "                for t in range(T-1)]+\n",
    "                        [[0 for b in range(B)]])\n",
    "        increment = np.array([[ 0 for b in range(B)]]+\n",
    "                            [[ running_odometer[t+1,b] - running_odometer[t,b] * (1-replact[t,b]) for b in range(B)] for t in range(T-1)])\n",
    "\n",
    "        return np.block([[running_odometer.reshape((-1,1) ),replact.reshape((-1,1) ), increment.reshape((-1,1) )]])\n",
    "    \n",
    "    return np.vstack([getcleandata(name,nrow) for (name, nrow) in [ ('g870',36),('rt50',60),('t8h203',81),('a530875',128) ]])"
   ]
  },
  {
   "cell_type": "markdown",
   "metadata": {},
   "source": [
    "Alternatively, one can get the `load_Rust_data` function from the `mec` package using: "
   ]
  },
  {
   "cell_type": "code",
   "execution_count": 3,
   "metadata": {},
   "outputs": [],
   "source": [
    "# !pip install mec\n",
    "# from mec.data import load_Rust_data"
   ]
  },
  {
   "cell_type": "markdown",
   "metadata": {},
   "source": [
    "We may now build the model used by Rust in the original 1987 paper. This model states that: \n",
    "* the operating cost (minus the payoff if $y=0$) is equal to $ 0.001 \\lambda_0 x $, and \n",
    "* the repair cost (minus the payoff if $y=1$) is equal to $\\lambda_1$.\n",
    "\n",
    "Hence $K=2$, and $\\lambda_0$ is the per period incremental operating cost, while $\\lambda_1$ is the repair cost.\n",
    "\n",
    "Further, if one lets the bus run, that is if $y=0$, there is a probability \n",
    "* $\\theta_{30}$ of transitioning from state $x$ to state $x$\n",
    "* $\\theta_{31}$ of transitioning from state $x$ to state $x+1$\n",
    "* $\\theta_{32}$ of transitioning from state $x$ to state $x+2$\n",
    "\n",
    "and if $y=1$, the bus returns to the initial state $x=0$ and then runs, so there is a probability \n",
    "* $\\theta_{30}$ of transitioning from state $x$ to state $0$\n",
    "* $\\theta_{31}$ of transitioning from state $x$ to state $1$\n",
    "* $\\theta_{32}$ of transitioning from state $x$ to state $2$\n",
    "\n",
    "The following code estimates $\\theta_{30}$, $\\theta_{31}$, and $\\theta_{32}$, and sets up the payoff function $\\phi_{xyk}$."
   ]
  },
  {
   "cell_type": "code",
   "execution_count": 4,
   "metadata": {},
   "outputs": [],
   "source": [
    "thedataset = load_Rust_data()\n",
    "\n",
    "def build_rust_model_primitives(thedata, X=90):\n",
    "    theta30 = (thedataset[:,2]==0).mean()\n",
    "    theta31 = (thedataset[:,2]==1).mean()\n",
    "    theta32 = 1-theta30 - theta31\n",
    "    P_xp_x = theta30 * np.eye(X) + np.diag([theta31]*(X-1),-1) + np.diag([theta32]*(X-2),-2)\n",
    "    P_xp_x[X-1,X-2] += theta32\n",
    "    P_xp_x[X-1,X-1] = 1\n",
    "    P_xp_x_y = np.zeros((X,X,2))\n",
    "    P_xp_x_y[:,:,0] = P_xp_x\n",
    "    P_xp_x_y[:,:,1] = P_xp_x[:,0][:,None] \n",
    "    #\n",
    "    phi_x_y_k = np.zeros((X,2,2))\n",
    "    phi_x_y_k[:,1,0] = -1.0 # if repair, replacement cost is lambda_0\n",
    "    phi_x_y_k[:,1,1] = 0.0 # if repair, replacement cost does not depend on mileage \n",
    "    phi_x_y_k[:,0,0] = 0.0 # if no repair, operating cost independent of the repair cost\n",
    "    phi_x_y_k[:,0,1] = -0.001 * np.arange(X,dtype = np.float64) # if no repair, operating cost proportional to mileage   \n",
    "    muhat_x_y = np.zeros((X,2))\n",
    "    for x in range(X):\n",
    "        muhat_x_y[x,0] = ((thedata[:,0] ==x) & (thedata[:,1]==0)).sum()\n",
    "        muhat_x_y[x,1] = ((thedata[:,0] ==x) & (thedata[:,1]==1)).sum()\n",
    "    return sp.csr_matrix(P_xp_x_y.reshape((X,-1))), phi_x_y_k, muhat_x_y.flatten()\n"
   ]
  },
  {
   "cell_type": "markdown",
   "metadata": {},
   "source": [
    "We define the important elements of the model, which encode the log-likelihood:"
   ]
  },
  {
   "cell_type": "code",
   "execution_count": 5,
   "metadata": {},
   "outputs": [],
   "source": [
    "X,Y,K = 90,2,2\n",
    "P_xprime_xy,phi_x_y_k,muhat_xy = build_rust_model_primitives(thedataset,X)\n",
    "beta = 0.9999\n",
    "rel_tol = 1e-5\n",
    "\n",
    "# Computing:\n",
    "phi_xy_k = phi_x_y_k.reshape((-1,K))\n",
    "SigmaY = sp.kron( sp.eye(X),np.ones((1,Y))).tocsr()\n",
    "P_xy_xprime = P_xprime_xy.T.tocsr()\n",
    "Psi = (beta* P_xy_xprime - SigmaY.T.tocsr())\n",
    "phi_x_y_k = phi_xy_k.reshape((X,Y,K))\n",
    "#tol_lambda = rel_tol* np.abs(phi_x_y_k).max()*muhat_xy.sum()\n",
    "\n",
    "def fu_x(lambda_k, tol_u=1e-6,max_it = 1000000):\n",
    "    u_x = np.zeros(X)\n",
    "    phi_x_y = (phi_xy_k @ lambda_k).reshape((X,Y))\n",
    "    for s in range(max_it):\n",
    "        m_x = (phi_x_y + beta * (P_xy_xprime @ u_x).reshape((X,Y))).max(axis = 1)\n",
    "        unew_x = m_x + np.log( np.exp(phi_x_y + beta * (P_xy_xprime @ u_x).reshape((X,Y)) -m_x[:,None] ).sum(axis = 1) )\n",
    "        if np.abs(u_x - unew_x).max()<tol_u:\n",
    "            break\n",
    "        u_x = unew_x\n",
    "    if s==max_it-1:\n",
    "        print(s)\n",
    "    return(u_x)\n",
    "\n",
    "def fdu_x(lambda_k, u_x = None):\n",
    "    if u_x is None:\n",
    "        u_x = fu_x(lambda_k).flatten()\n",
    "    pi_xy = np.exp( phi_xy_k @ lambda_k + Psi @ u_x)\n",
    "    return - sp.linalg.spsolve(SigmaY @ sp.diags(pi_xy) @ Psi , SigmaY @ sp.diags(pi_xy) @ phi_xy_k)\n",
    "\n",
    "def hessF(lambda_k, u_x = None):\n",
    "    if u_x is None:\n",
    "        u_x = fu_x(lambda_k).flatten()\n",
    "    pi_xy = np.exp( phi_xy_k @ lambda_k + Psi @ u_x)\n",
    "    dlogpi = phi_xy_k + Psi @ fdu_x(lambda_k,u_x)\n",
    "    XY = X*Y\n",
    "    TTT = sp.csr_matrix( ([1]*XY,(list(range(XY)), [a*(XY+1) for a in range(XY)])),shape = (XY,XY*XY) )\n",
    "    Tdlogpisquare =  TTT @ sp.kron(dlogpi,dlogpi )\n",
    "    d2u = - sp.linalg.spsolve( SigmaY @ sp.diags(pi_xy) @ Psi , (SigmaY @ sp.diags(pi_xy) @  Tdlogpisquare).todense() )\n",
    "    return ( muhat_xy.T @ Psi @ d2u).reshape((K,K))\n",
    "\n",
    "def F(lambda_k, grad): # sample log-likelihood\n",
    "    u_x = fu_x(lambda_k)\n",
    "    if grad.size > 0:\n",
    "        grad[:] = muhat_xy @ ( Psi @ fdu_x(lambda_k,u_x) + phi_xy_k)\n",
    "    return  muhat_xy @ ( phi_xy_k @ lambda_k + Psi @ u_x)\n",
    "\n"
   ]
  },
  {
   "cell_type": "markdown",
   "metadata": {},
   "source": [
    "We run the maximum likelihood estimation program using:"
   ]
  },
  {
   "cell_type": "code",
   "execution_count": 6,
   "metadata": {},
   "outputs": [
    {
     "name": "stdout",
     "output_type": "stream",
     "text": [
      "lambdahat: [9.78513363 2.60375824]\n",
      "Log-likelihood: -300.23752495157146\n",
      "Nb observations=\n",
      "8260.0\n",
      "Cov(lambdahat)=\n",
      "[[5.35249297e-05 2.49830904e-05]\n",
      " [2.49830904e-05 1.62135559e-05]]\n"
     ]
    }
   ],
   "source": [
    "opt = nlopt.opt(nlopt.LD_SLSQP, K) \n",
    "opt.set_max_objective(F)\n",
    "opt.set_xtol_rel(1e-4)\n",
    "x0 = np.zeros(K)\n",
    "lambdahat_k = opt.optimize(x0)\n",
    "max_F = opt.last_optimum_value()\n",
    "print(f\"lambdahat: {lambdahat_k}\")\n",
    "print(f\"Log-likelihood: {max_F}\")\n",
    "I = muhat_xy.sum()\n",
    "V = np.diag(muhat_xy) / I - muhat_xy[:,None] @ muhat_xy[None,:] / (I*I)\n",
    "u_x = fu_x(lambdahat_k)\n",
    "HinvB = - np.linalg.solve(hessF(lambdahat_k,u_x), (phi_xy_k + Psi @ fdu_x(lambdahat_k,u_x)).T)\n",
    "print('Nb observations=')\n",
    "print(I)\n",
    "print('Cov(lambdahat)=')\n",
    "print(HinvB @ V @ HinvB.T)\n"
   ]
  }
 ],
 "metadata": {
  "kernelspec": {
   "display_name": "Python 3 (ipykernel)",
   "language": "python",
   "name": "python3"
  },
  "language_info": {
   "codemirror_mode": {
    "name": "ipython",
    "version": 3
   },
   "file_extension": ".py",
   "mimetype": "text/x-python",
   "name": "python",
   "nbconvert_exporter": "python",
   "pygments_lexer": "ipython3",
   "version": "3.11.4"
  }
 },
 "nbformat": 4,
 "nbformat_minor": 2
}

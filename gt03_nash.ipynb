{
 "cells": [
  {
   "cell_type": "markdown",
   "metadata": {},
   "source": [
    "# <center>Nash equilibria in bimatrix games</center>\n",
    "### <center>Alfred Galichon (NYU & Sciences Po) and Antoine Jacquet (Sciences Po)</center>\n",
    "## <center>'math+econ+code' masterclass series</center>\n",
    "#### <center>With python code examples</center>\n",
    "© 2018–2024 by Alfred Galichon.\n",
    "Past and present support from NSF grant DMS-1716489, ERC grant CoG-866274 are acknowledged, as well as inputs from contributors listed [here](http://www.math-econ-code.org/team).\n",
    "\n",
    "**If you reuse material from this masterclass, please cite as:**<br>\n",
    "Alfred Galichon and Antoine Jacquet, 'Nash equilibria in bimatrix games', 'math+econ+code' masterclass series. https://www.math-econ-code.org/\n"
   ]
  },
  {
   "cell_type": "markdown",
   "metadata": {},
   "source": [
    "### References\n",
    "\n",
    "* Mangasarian and Stone (1964). \"Two-person nonzero-sum games and quadratic programming.\" *Journal of Mathematical Analysis and Applications*.  \n",
    "* Lemke and Howson (1964). \"Equilibrium points of bimatrix games.\" *SIAM Journal on Applied Mathematics*.\n",
    "* Bruno Codenotti. *Computational Aspects of Game Theory* Bertinoro Spring School 2011. Lecture 11: The Lemke-Howson Algorithm\n",
    "http://wwwold.iit.cnr.it/staff/bruno.codenotti/lecture11p.pdf\n",
    "\n",
    "### Learning objectives\n",
    "\n",
    "* LCP formulation of Nash equilibria\n",
    "* Mangasarian–Stone quadratic programming formulation\n",
    "* Lemke–Howson algorithm\n"
   ]
  },
  {
   "cell_type": "code",
   "execution_count": 1,
   "metadata": {},
   "outputs": [],
   "source": [
    "#!pip install mec --upgrade\n",
    "import numpy as np\n",
    "import gurobipy as grb\n"
   ]
  },
  {
   "cell_type": "markdown",
   "metadata": {},
   "source": [
    "# Nash equilibrium in a two-player bimatrix game\n",
    "\n",
    "Consider a two-player game where if player 1 plays $i \\in \\mathcal I$ and player 2 plays $j \\in \\mathcal J$, the payoff to player 1 is $A_{ij} > 0$ and the payoff to player 2 is $B_{ij} > 0$. (Assuming positive payoffs is without loss of generality.)\n"
   ]
  },
  {
   "cell_type": "markdown",
   "metadata": {},
   "source": [
    "Let's begin by defining a Python class for bimatrix games."
   ]
  },
  {
   "cell_type": "code",
   "execution_count": 2,
   "metadata": {},
   "outputs": [],
   "source": [
    "class Bimatrix_game:\n",
    "    def __init__(self, A_i_j, B_i_j):\n",
    "        if A_i_j.shape != B_i_j.shape:\n",
    "            raise ValueError(\"A_i_j and B_i_j must be of the same size.\")\n",
    "        self.A_i_j, self.B_i_j = A_i_j, B_i_j\n",
    "        self.nbi,self.nbj = A_i_j.shape\n",
    "    "
   ]
  },
  {
   "cell_type": "markdown",
   "metadata": {},
   "source": [
    "Now recall the definition of a Nash equilibrium: it is a pair of vectors $p = (p_i)_{i \\in \\mathcal I}$ and $q = (q_j)_{j \\in \\mathcal J}$ which simultaneously solve\n",
    "\n",
    "\\begin{equation}\n",
    "\\max_{p \\geq 0} \\left\\{ p^\\top A q \\mid \\textstyle\\sum_i p_i = 1 \\right\\},\n",
    "\\qquad\n",
    "\\max_{q \\geq 0} \\left\\{ p^\\top B q \\mid \\textstyle\\sum_j q_j = 1 \\right\\}.\n",
    "\\end{equation}\n",
    "\n",
    "By writing the KKT conditions for these two linear programs we obtain necessary and sufficient conditions for $p$ and $q$ to be a Nash equilibrium: there must exist two real numbers $\\alpha$ and $\\beta$ (the dual variables associated with the equality constraints) such that\n",
    "\n",
    "\\begin{align}\n",
    "p_i &\\geq 0 \\\\\n",
    "q_j &\\geq 0 \\\\\n",
    "\\textstyle\\sum_i p_i &= 1 \\\\\n",
    "\\textstyle\\sum_j q_j &= 1 \\\\\n",
    "\\alpha - (A q)_i &\\geq 0 \\quad (\\forall i) \\\\\n",
    "\\beta - (B^\\top p)_j &\\geq 0 \\quad (\\forall j) \\\\\n",
    "p_i \\big( \\alpha - (Aq)_i \\big) &= 0 \\quad (\\forall i) \\\\\n",
    "q_j \\big( \\beta - (B^\\top p)_j \\big) &= 0 \\quad (\\forall j).\n",
    "\\end{align}\n",
    "\n",
    "\n",
    "\n",
    "*Question.* What is the interpretation of $\\alpha$ and $\\beta$?"
   ]
  },
  {
   "cell_type": "markdown",
   "metadata": {},
   "source": [
    "## LCP formulation\n",
    "\n",
    "The above problem is not a LCP in a strict sense for two reasons:  \n",
    "(i) there are no nonnegativity constraints on $\\alpha$ and $\\beta$ a priori,  \n",
    "(ii) there are equality constraints $\\sum_i p_i = 1$ and $\\sum_j q_j = 1$.  \n",
    "This is sometimes called a *mixed linear complementarity problem*.\n",
    "Still, it can be turned into a bona fide LCP:\n",
    "\n",
    "$0 \\leq p \\perp \\alpha 1_{\\mathcal I} - Aq \\geq 0$\n",
    "\n",
    "$0 \\leq q \\perp \\beta 1_{\\mathcal J} - B^\\top p \\geq 0$ \n",
    "\n",
    "$0 \\leq \\alpha \\perp - 1 + 1_{\\mathcal I}^\\top p \\geq 0$\n",
    "\n",
    "$0 \\leq \\beta \\perp - 1 + 1_{\\mathcal J}^\\top q \\geq 0$.\n",
    "\n",
    "The difference with the previous formulation is that we enforce $\\alpha \\geq 0$ and $\\beta \\geq 0$, and we relax the equalities to inequalities: $\\sum_i p_i \\geq 1$ and $\\sum_j q_j \\geq 1$.\n",
    "\n",
    "*Exercise.* Show that the solutions $(p, q, \\alpha, \\beta)$ of this LCP coincide with those of the KKT conditions above. (Recall that $A_{ij} > 0$ and $B_{ij} > 0$.)\n",
    "<!--\n",
    "In practice this is not a problem for our solutions.\n",
    "Indeed, since $- 1 + 1_{\\mathcal J}^\\top q \\geq 0$ there must be at least one $q_j > 0$.  \n",
    "Then, because $A_{ij} > 0$ for all $ij$ and $\\alpha 1_{\\mathcal I} - Aq \\geq 0$, we must have $\\alpha > 0$, hence imposing $\\alpha \\geq 0$ is not an issue.  \n",
    "Furthermore, since $\\alpha > 0$ the equality $- 1 + 1_{\\mathcal I}^\\top p = 0$ must hold.  \n",
    "By a similar argument, we must have $\\beta > 0$ and $- 1 + 1_{\\mathcal J}^\\top q = 0$.\n",
    "-->\n"
   ]
  },
  {
   "cell_type": "markdown",
   "metadata": {},
   "source": [
    "## Mangasarian and Stone formulation\n",
    "\n",
    "Let's look at the quadratic program associated with this LCP. It is\n",
    "\n",
    "\\begin{align}\n",
    "\\min_{p \\geq 0, q \\geq 0, \\alpha \\geq 0, \\beta \\geq 0}\n",
    "&\\Big\\{\n",
    "p^\\top (\\alpha 1_{\\mathcal I} - Aq )\n",
    "+ q^\\top (\\beta 1_{\\mathcal J} - B^\\top p)\n",
    "+ \\alpha (-1 + 1_{\\mathcal I}^\\top p) + \\beta (-1 + 1_{\\mathcal J}^\\top q) \n",
    "\\Big\\} \\\\\n",
    "\\text{s.t.} ~ & \\alpha 1_{\\mathcal I} - Aq \\geq 0 \\\\\n",
    "              & \\beta 1_{\\mathcal J} - B^\\top p \\geq 0 \\\\\n",
    "              & -1 + 1_{\\mathcal I}^\\top p \\geq 0 \\\\\n",
    "              & -1 + 1_{\\mathcal J}^\\top q \\geq 0.\n",
    "\\end{align}\n",
    "\n",
    "The constraint $-1 + 1_{\\mathcal I}^\\top p \\geq 0$ must bind: if not, we can take $\\tilde p$ such that $\\tilde p_i = p_i / 1_{\\mathcal I}^\\top p < p_i$ and $\\tilde \\beta = \\beta / 1_{\\mathcal I}^\\top p < \\beta$ to decrease our objective.  \n",
    "Similarly, the constraint $-1 + 1_{\\mathcal J}^\\top q \\geq 0$ must also bind.\n",
    "\n",
    "Thus, after simplification we obtain Mangasarian and Stone's formulation:\n",
    "\n",
    "\\begin{align}\n",
    "\\min_{p \\geq 0, q \\geq 0, \\alpha, \\beta}\n",
    "&\\left\\{\n",
    "\\alpha + \\beta - p^\\top (A + B) q\n",
    "\\right\\} \\\\\n",
    "\\text{s.t.} ~ & \\alpha 1_{\\mathcal I} - Aq \\geq 0 \\\\\n",
    "              & \\beta 1_{\\mathcal J} - B^\\top p \\geq 0 \\\\\n",
    "              & -1 + 1_{\\mathcal I}^\\top p = 0 \\\\\n",
    "              & -1 + 1_{\\mathcal J}^\\top q = 0.\n",
    "\\end{align}\n",
    "\n",
    "*Remark.* This formulation is actually valid even when the matrices $A$ and $B$ are not positive.\n"
   ]
  },
  {
   "cell_type": "markdown",
   "metadata": {},
   "source": [
    "## Abridged LCP representation\n",
    "\n",
    "\n",
    "*Exercise.* Show that if $(p,q)$ is a Nash equilibrium with associated values $\\alpha$ and $\\beta$, then $x$ and $y$ defined by $x_i = \\dfrac{p_i}{\\beta}$ and $y_j = \\dfrac{q_j}{\\alpha}$ satisfy the LCP:  \n",
    "$0 \\leq x \\perp 1_{\\mathcal I} - A y \\geq 0$\n",
    "\n",
    "$0 \\leq y \\perp 1_{\\mathcal J} - B^\\top x \\geq 0$.\n",
    "\n",
    "Conversely, show that if $(x,y)$ satisfies this LCP, then either:\n",
    "- $x=0$ and $y=0$, or \n",
    "- $p_i = \\dfrac{x_i}{\\sum_k x_k}$ and $q_j = \\dfrac{y_j}{\\sum_l y_l}$ is a Nash equilibrium, and in that case, $\\alpha = \\dfrac{1}{\\sum_l y_l}$ and $\\beta = \\dfrac{1}{\\sum_k x_k}$.\n"
   ]
  },
  {
   "cell_type": "markdown",
   "metadata": {},
   "source": [
    "# Zero-sum games\n",
    "\n",
    "Assume $B = c - A$ with $c$ a constant.\n",
    "\n",
    "We use the data from Palacios–Huerta (2003) on penalty kicks. (See the [lecture on zero-sum games](https://www.math-econ-code.org/matrix-games).)"
   ]
  },
  {
   "cell_type": "code",
   "execution_count": 3,
   "metadata": {},
   "outputs": [
    {
     "name": "stdout",
     "output_type": "stream",
     "text": [
      "A_i_j =\n",
      " [[ 53.21  71.35  93.8 ]\n",
      " [ 90.26  42.81  86.12]\n",
      " [ 96.88 100.    75.43]]\n"
     ]
    }
   ],
   "source": [
    "penalty_data = np.array([[53.21, 71.35, 93.80], \n",
    "                         [90.26, 42.81, 86.12], \n",
    "                         [96.88, 100.0, 75.43]])\n",
    "\n",
    "penalty_zero_sum = Bimatrix_game(A_i_j = penalty_data, B_i_j = 100 - penalty_data)\n",
    "print('A_i_j =\\n', penalty_zero_sum.A_i_j)"
   ]
  },
  {
   "cell_type": "markdown",
   "metadata": {},
   "source": [
    "Here only $A_{ij}$ is used. $B_{ij}$ is ignored, and the game is solved as a zero-sum game, i.e. as a LP from one of the two players' perspective.  \n",
    "Recall for instance, from the perspective of player 1:\n",
    "\\begin{align}\n",
    "\\min_{x_i \\geq 0} ~& \\textstyle\\sum_i x_i \\\\\n",
    "\\text{s.t.} ~& \\textstyle\\sum_i A_{ij} x_i \\geq 1 \\quad [y_j \\geq 0].\n",
    "\\end{align}\n",
    "\n",
    "We then recover the strategy using $p_i = \\dfrac{x_i}{\\sum_i x_i}$, $q_j = \\dfrac{y_j}{\\sum_i x_i}$ (since $\\sum_i x_i = \\sum_j y_j$ by strong duality)."
   ]
  },
  {
   "cell_type": "markdown",
   "metadata": {},
   "source": [
    "## Solution using Gurobi\n",
    "\n",
    "We can adapt the Gurobi solver from the `Matrix_game` class."
   ]
  },
  {
   "cell_type": "code",
   "execution_count": 4,
   "metadata": {},
   "outputs": [],
   "source": [
    "from mec.gt import Matrix_game\n",
    "\n",
    "def Bimatrix_game_zero_sum_solve(self, verbose=0):\n",
    "    return Matrix_game(self.A_i_j).solve(verbose)\n",
    "\n",
    "Bimatrix_game.zero_sum_solve = Bimatrix_game_zero_sum_solve"
   ]
  },
  {
   "cell_type": "code",
   "execution_count": 5,
   "metadata": {},
   "outputs": [],
   "source": [
    "from scipy import sparse"
   ]
  },
  {
   "cell_type": "code",
   "execution_count": 6,
   "metadata": {},
   "outputs": [
    {
     "name": "stdout",
     "output_type": "stream",
     "text": [
      "Set parameter Username\n",
      "Academic license - for non-commercial use only - expires 2025-01-21\n"
     ]
    },
    {
     "data": {
      "text/plain": [
       "{'p_i': array([0.3033884 , 0.15180727, 0.54480433]),\n",
       " 'q_j': array([0.21908541, 0.10161508, 0.67929951]),\n",
       " 'val': 82.62606457928055}"
      ]
     },
     "execution_count": 6,
     "metadata": {},
     "output_type": "execute_result"
    }
   ],
   "source": [
    "penalty_zero_sum.zero_sum_solve()"
   ]
  },
  {
   "cell_type": "markdown",
   "metadata": {},
   "source": [
    "# Solving non-zero-sum games\n",
    "\n",
    "Now we consider a version of the game with another $B$, such that the game is not zero-sum anymore.  \n",
    "Imagine for instance that the goalkeeper gets a bonus if he jumps in the correct direction of the penalty kick, whether or not he catches the ball."
   ]
  },
  {
   "cell_type": "code",
   "execution_count": 7,
   "metadata": {},
   "outputs": [
    {
     "name": "stdout",
     "output_type": "stream",
     "text": [
      "A_i_j =\n",
      " [[ 53.21  71.35  93.8 ]\n",
      " [ 90.26  42.81  86.12]\n",
      " [ 96.88 100.    75.43]]\n",
      "B_i_j =\n",
      " [[ 96.79  28.65   6.2 ]\n",
      " [  9.74 107.19  13.88]\n",
      " [  3.12   0.    74.57]]\n"
     ]
    }
   ],
   "source": [
    "penalty_nonzero_sum = Bimatrix_game(A_i_j = penalty_data,\n",
    "                                    B_i_j = np.array([[150, 100, 100],\n",
    "                                                      [100, 150, 100],\n",
    "                                                      [100, 100, 150]]) - penalty_data)\n",
    "print('A_i_j =\\n', penalty_nonzero_sum.A_i_j)\n",
    "print('B_i_j =\\n', penalty_nonzero_sum.B_i_j)"
   ]
  },
  {
   "cell_type": "markdown",
   "metadata": {},
   "source": [
    "## Mangasarian–Stone\n",
    "\n",
    "We implement the Mangasarian–Stone formulation using Gurobi."
   ]
  },
  {
   "cell_type": "code",
   "execution_count": 8,
   "metadata": {},
   "outputs": [
    {
     "data": {
      "text/plain": [
       "array([[1.],\n",
       "       [1.],\n",
       "       [1.]])"
      ]
     },
     "execution_count": 8,
     "metadata": {},
     "output_type": "execute_result"
    }
   ],
   "source": [
    "tst = np.array([1] ).reshape(1)\n",
    "tst * np.ones((3,1))"
   ]
  },
  {
   "cell_type": "code",
   "execution_count": 9,
   "metadata": {},
   "outputs": [],
   "source": [
    "def Bimatrix_game_mangasarian_stone_solve(self, verbose=0):\n",
    "    model=grb.Model()\n",
    "    model.Params.OutputFlag = 0\n",
    "    model.params.NonConvex = 2\n",
    "    p_i = model.addMVar(shape = self.nbi)\n",
    "    q_j = model.addMVar(shape = self.nbj)\n",
    "    α = model.addMVar(shape = 1, lb = -grb.GRB.INFINITY)\n",
    "    β = model.addMVar(shape = 1, lb = -grb.GRB.INFINITY)\n",
    "    model.setObjective( α + β  - p_i @ (self.A_i_j + self.B_i_j) @ q_j , sense=grb.GRB.MINIMIZE)\n",
    "    model.addConstr(np.ones((self.nbi,1)) @ α  - self.A_i_j @ q_j >= 0)\n",
    "    model.addConstr(np.ones((self.nbj,1)) @ β - self.B_i_j.T @ p_i >= 0)\n",
    "    model.addConstr(p_i.sum() == 1)\n",
    "    model.addConstr(q_j.sum() == 1)\n",
    "    model.optimize()\n",
    "    sol = np.array(model.getAttr('x'))\n",
    "    if verbose > 0: print('p_i =', sol[:self.nbi], '\\nq_j =', sol[self.nbi:(self.nbi+self.nbj)])\n",
    "    return {'p_i': sol[:self.nbi], 'q_j': sol[self.nbi:(self.nbi+self.nbj)],\n",
    "            'val1': sol[-2], 'val2': sol[-1]}\n",
    "\n",
    "Bimatrix_game.mangasarian_stone_solve = Bimatrix_game_mangasarian_stone_solve"
   ]
  },
  {
   "cell_type": "code",
   "execution_count": 10,
   "metadata": {
    "scrolled": true
   },
   "outputs": [
    {
     "data": {
      "text/plain": [
       "{'p_i': array([0.3374337 , 0.24917907, 0.41338723]),\n",
       " 'q_j': array([0.21908541, 0.10161508, 0.67929951]),\n",
       " 'val1': 82.62606457928057,\n",
       " 'val2': 36.37698012002112}"
      ]
     },
     "execution_count": 10,
     "metadata": {},
     "output_type": "execute_result"
    }
   ],
   "source": [
    "penalty_nonzero_sum.mangasarian_stone_solve()"
   ]
  },
  {
   "cell_type": "code",
   "execution_count": 11,
   "metadata": {},
   "outputs": [
    {
     "data": {
      "text/plain": [
       "{'p_i': array([0.3033884 , 0.15180727, 0.54480433]),\n",
       " 'q_j': array([0.21908541, 0.10161508, 0.67929951]),\n",
       " 'val1': 82.62606457928057,\n",
       " 'val2': 17.373935420719445}"
      ]
     },
     "execution_count": 11,
     "metadata": {},
     "output_type": "execute_result"
    }
   ],
   "source": [
    "penalty_zero_sum.mangasarian_stone_solve()"
   ]
  },
  {
   "cell_type": "markdown",
   "metadata": {},
   "source": [
    "Notice that the goalkeeper (player 2) keeps the same strategy, and his payoff increases.  \n",
    "Conversely, the kicker (player 1) changes strategy, but his payoff stays the same. Why?"
   ]
  },
  {
   "cell_type": "markdown",
   "metadata": {},
   "source": [
    "## Lemke–Howson algorithm"
   ]
  },
  {
   "cell_type": "markdown",
   "metadata": {},
   "source": [
    "The Lemke–Howson algorithm was developed in 1964 to solve bimatrix games. \n",
    "It was later extended by Lemke to solve LCPs (see previous lecture).\n",
    "\n",
    "This algorithm finds a non-trivial solution to the abridged representation LCP seen above:\n",
    "\n",
    "$0 \\leq x \\perp 1_{\\mathcal I} - A y \\geq 0$\n",
    "\n",
    "$0 \\leq y \\perp 1_{\\mathcal J} - B^\\top x \\geq 0$.\n",
    "\n",
    "Write $z = \\binom{x}{y}$ and define\n",
    "\\begin{equation}\n",
    "    C =\n",
    "    \\begin{pmatrix}\n",
    "    0_{\\mathcal I \\times \\mathcal I} & A \\\\\n",
    "    B^\\top & 0_{\\mathcal J \\times \\mathcal J}\n",
    "    \\end{pmatrix}.\n",
    "\\end{equation}\n",
    "Then the problem is to find $z$ and $w$ such that\n",
    "\n",
    "\\begin{equation}\n",
    "    z \\geq 0,\n",
    "    \\qquad\n",
    "    w \\geq 0,\n",
    "    \\qquad\n",
    "    w + Cz = 1_{\\mathcal I + \\mathcal J},\n",
    "    \\qquad\n",
    "    z_k w_k = 0 \\quad (\\forall k).\n",
    "\\end{equation}\n",
    "\n",
    "Because the right-hand vector in $w + Cz = 1_{\\mathcal I + \\mathcal J}$ is positive, we can begin by setting the basic variables as $(w_1, \\dots, w_{\\mathcal I + \\mathcal J})$, and the nonbasic variables as $(z_1, \\dots, z_{\\mathcal I + \\mathcal J})$.\n",
    "This is a complemetary basis, in the sense that it includes exactly one variable from the pair $(z_k, w_k)$ for all $k$.\n",
    "Its associated solution is the trivial one, $z = 0$ (which is the only solution not corresponding to a Nash equilibrium).\n",
    "\n",
    "We use the equation $w + Cz = 1_{\\mathcal I + \\mathcal J}$ to build an initial tableau associated with our LCP. \n",
    "We then choose an arbitrary variable $z_k$ to enter the basis, and we perform complementary pivot operations until we find another complementary basis.\n",
    "This end basis will necessarily correspond to a nontrivial solution.\n",
    "\n",
    "*Question.* Why can't this algorithm end with ray termination?\n"
   ]
  },
  {
   "cell_type": "markdown",
   "metadata": {},
   "source": [
    "---\n",
    "\n",
    "*Lemke–Howson algorithm*\n",
    "\n",
    "**Step 0.**\n",
    "Choose some nonbasic variable, for instance $z_1$, which enters the basis.\n",
    "\n",
    "**Step 1.**\n",
    "Determine the departing variable using the minimum-ratio rule in the current tableau, and update the tableau.  \n",
    "Now, check if the new basis is complementary:\n",
    "if yes, we have found a solution;\n",
    "if not, update the tableau for the new basis and go to step 2.\n",
    "\n",
    "**Step 2.**\n",
    "The new entering variable is the complement of the one which just left. \n",
    "Go back to step 1.\n",
    "\n",
    "---\n",
    "\n",
    "Note that since we maintain almost-complementarity of the basis throughout, it is enough to check that:  \n",
    "(i) the complement of the variable which just departed *is* in the basis,  \n",
    "(ii) the complement of the variable which just entered *is not* in the basis.\n",
    "\n",
    "*Remark.* The Lemke–Howson algorithm actually works for LCPs not only associated with bimatrix games, but for any matrix $C$ which is nonnegative with at least one positive entry per column, and a nonnegative right-hand vector."
   ]
  },
  {
   "cell_type": "code",
   "execution_count": 12,
   "metadata": {},
   "outputs": [],
   "source": [
    "def Bimatrix_game_is_nondegenerate(self):\n",
    "    Aprime = np.block( [[self.A_i_j,np.ones((self.nbi,1))], [-np.eye(self.nbj),np.zeros((self.nbj,1))]] )\n",
    "    Bprime = np.block( [[-np.eye(self.nbi),self.B_i_j], [np.zeros((1,self.nbi)),np.ones((1,self.nbj))]] )\n",
    "    return (np.linalg.matrix_rank(Aprime) == min(Aprime.shape)) and (np.linalg.matrix_rank(Bprime) == min(Bprime.shape))\n",
    "\n",
    "Bimatrix_game.is_nondegenerate = Bimatrix_game_is_nondegenerate"
   ]
  },
  {
   "cell_type": "code",
   "execution_count": 13,
   "metadata": {},
   "outputs": [
    {
     "data": {
      "text/plain": [
       "True"
      ]
     },
     "execution_count": 13,
     "metadata": {},
     "output_type": "execute_result"
    }
   ],
   "source": [
    "penalty_nonzero_sum.is_nondegenerate()"
   ]
  },
  {
   "cell_type": "code",
   "execution_count": 14,
   "metadata": {},
   "outputs": [],
   "source": [
    "from mec.lp import Tableau\n",
    "\n",
    "def Bimatrix_game_lemke_howson_solve(self,verbose = 0):\n",
    "    A_i_j = self.A_i_j - np.min(self.A_i_j) + 1     # ensures that matrices are positive\n",
    "    B_i_j = self.B_i_j - np.min(self.B_i_j) + 1\n",
    "    zks = ['x_' + str(i+1) for i in range(self.nbi)] + ['y_' + str(j+1) for j in range(self.nbj)]\n",
    "    wks = ['r_' + str(i+1) for i in range(self.nbi)] + ['s_' + str(j+1) for j in range(self.nbj)]\n",
    "    complements = list(len(zks)+np.arange(len(zks))) + list(np.arange(len(zks)))\n",
    "    C_k_l = np.block([[np.zeros((self.nbi, self.nbi)), A_i_j],\n",
    "                      [B_i_j.T, np.zeros((self.nbj, self.nbj))]])\n",
    "    tab = Tableau(C_k_l, np.ones(self.nbi + self.nbj), np.zeros(self.nbi + self.nbj), wks, zks)\n",
    "    kent = len(wks) # z_1 enters\n",
    "    while True:\n",
    "        kdep = tab.determine_departing(kent)\n",
    "        if verbose > 1:\n",
    "            print('Basis: ', [(wks+zks)[i] for i in tab.k_b])\n",
    "            print((wks+zks)[kent], 'enters,', (wks+zks)[kdep], 'departs')\n",
    "        tab.update(kent, kdep)\n",
    "        if (complements[kent] not in tab.k_b) and (complements[kdep] in tab.k_b):\n",
    "            break\n",
    "        else:\n",
    "            kent = complements[kdep]\n",
    "    z_k, _, _ = tab.solution() # solution() returns: x_j, y_i, x_j @ self.c_j\n",
    "    x_i, y_j = z_k[:self.nbi], z_k[self.nbi:]\n",
    "    α = 1 / y_j.sum()\n",
    "    β = 1 / x_i.sum()\n",
    "    p_i = x_i * β\n",
    "    q_j = y_j * α\n",
    "    return {'p_i': p_i, 'q_j': q_j,\n",
    "            'val1': α + np.min(self.A_i_j) - 1,\n",
    "            'val2': β + np.min(self.B_i_j) - 1}\n",
    "\n",
    "Bimatrix_game.lemke_howson_solve = Bimatrix_game_lemke_howson_solve"
   ]
  },
  {
   "cell_type": "code",
   "execution_count": 15,
   "metadata": {},
   "outputs": [
    {
     "name": "stdout",
     "output_type": "stream",
     "text": [
      "Basis:  ['r_1', 'r_2', 'r_3', 's_1', 's_2', 's_3']\n",
      "x_1 enters, s_1 departs\n",
      "Basis:  ['r_1', 'r_2', 'r_3', 'x_1', 's_2', 's_3']\n",
      "y_1 enters, r_3 departs\n",
      "Basis:  ['r_1', 'r_2', 'y_1', 'x_1', 's_2', 's_3']\n",
      "x_3 enters, s_3 departs\n",
      "Basis:  ['r_1', 'r_2', 'y_1', 'x_1', 's_2', 'x_3']\n",
      "y_3 enters, r_2 departs\n",
      "Basis:  ['r_1', 'y_3', 'y_1', 'x_1', 's_2', 'x_3']\n",
      "x_2 enters, s_2 departs\n",
      "Basis:  ['r_1', 'y_3', 'y_1', 'x_1', 'x_2', 'x_3']\n",
      "y_2 enters, r_1 departs\n"
     ]
    },
    {
     "data": {
      "text/plain": [
       "{'p_i': array([0.3374337 , 0.24917907, 0.41338723]),\n",
       " 'q_j': array([0.21908541, 0.10161508, 0.67929951]),\n",
       " 'val1': 82.62606457928055,\n",
       " 'val2': 36.37698012002113}"
      ]
     },
     "execution_count": 15,
     "metadata": {},
     "output_type": "execute_result"
    }
   ],
   "source": [
    "penalty_nonzero_sum.lemke_howson_solve(verbose=2)"
   ]
  },
  {
   "cell_type": "markdown",
   "metadata": {},
   "source": [
    "To compare with the solution from Mangasarian–Stone:"
   ]
  },
  {
   "cell_type": "code",
   "execution_count": 16,
   "metadata": {},
   "outputs": [
    {
     "data": {
      "text/plain": [
       "{'p_i': array([0.3374337 , 0.24917907, 0.41338723]),\n",
       " 'q_j': array([0.21908541, 0.10161508, 0.67929951]),\n",
       " 'val1': 82.62606457928057,\n",
       " 'val2': 36.37698012002112}"
      ]
     },
     "execution_count": 16,
     "metadata": {},
     "output_type": "execute_result"
    }
   ],
   "source": [
    "penalty_nonzero_sum.mangasarian_stone_solve()"
   ]
  },
  {
   "cell_type": "markdown",
   "metadata": {},
   "source": [
    "# Benchmarking\n",
    "\n",
    "## Pritchard's example"
   ]
  },
  {
   "cell_type": "code",
   "execution_count": 17,
   "metadata": {},
   "outputs": [],
   "source": [
    "# example from David Pritchard (EPFL)'s lecture notes. \n",
    "pritchard_ex = Bimatrix_game(np.array([[1,3,0],[0,0,2],[2,1,1]]),\n",
    "                             np.array([[2,1,0],[1,3,1],[0,0,3]])) "
   ]
  },
  {
   "cell_type": "code",
   "execution_count": 18,
   "metadata": {},
   "outputs": [
    {
     "name": "stdout",
     "output_type": "stream",
     "text": [
      "Basis:  ['r_1', 'r_2', 'r_3', 's_1', 's_2', 's_3']\n",
      "x_1 enters, s_1 departs\n",
      "Basis:  ['r_1', 'r_2', 'r_3', 'x_1', 's_2', 's_3']\n",
      "y_1 enters, r_3 departs\n",
      "Basis:  ['r_1', 'r_2', 'y_1', 'x_1', 's_2', 's_3']\n",
      "x_3 enters, s_3 departs\n",
      "Basis:  ['r_1', 'r_2', 'y_1', 'x_1', 's_2', 'x_3']\n",
      "y_3 enters, r_2 departs\n",
      "Basis:  ['r_1', 'y_3', 'y_1', 'x_1', 's_2', 'x_3']\n",
      "x_2 enters, s_2 departs\n",
      "Basis:  ['r_1', 'y_3', 'y_1', 'x_1', 'x_2', 'x_3']\n",
      "y_2 enters, r_1 departs\n"
     ]
    },
    {
     "data": {
      "text/plain": [
       "{'p_i': array([0.46153846, 0.23076923, 0.30769231]),\n",
       " 'q_j': array([0.11111111, 0.33333333, 0.55555556]),\n",
       " 'val1': 1.1111111111111112,\n",
       " 'val2': 1.1538461538461537}"
      ]
     },
     "execution_count": 18,
     "metadata": {},
     "output_type": "execute_result"
    }
   ],
   "source": [
    "pritchard_ex.lemke_howson_solve(verbose=2)"
   ]
  },
  {
   "cell_type": "code",
   "execution_count": 19,
   "metadata": {},
   "outputs": [
    {
     "data": {
      "text/plain": [
       "{'p_i': array([0.46153846, 0.23076923, 0.30769231]),\n",
       " 'q_j': array([0.11111111, 0.33333333, 0.55555556]),\n",
       " 'val1': 1.1111111111111112,\n",
       " 'val2': 1.1538461538461537}"
      ]
     },
     "execution_count": 19,
     "metadata": {},
     "output_type": "execute_result"
    }
   ],
   "source": [
    "pritchard_ex.mangasarian_stone_solve()"
   ]
  },
  {
   "cell_type": "markdown",
   "metadata": {},
   "source": [
    "## Random example"
   ]
  },
  {
   "cell_type": "code",
   "execution_count": 20,
   "metadata": {},
   "outputs": [],
   "source": [
    "I, J = 5, 4\n",
    "random_game = Bimatrix_game(A_i_j = 100*np.random.rand(I,J),\n",
    "                            B_i_j = 100*np.random.rand(I,J))"
   ]
  },
  {
   "cell_type": "code",
   "execution_count": 21,
   "metadata": {},
   "outputs": [
    {
     "data": {
      "text/plain": [
       "{'p_i': array([1., 0., 0., 0., 0.]),\n",
       " 'q_j': array([1., 0., 0., 0.]),\n",
       " 'val1': 93.72236043429095,\n",
       " 'val2': 89.56188907069242}"
      ]
     },
     "execution_count": 21,
     "metadata": {},
     "output_type": "execute_result"
    }
   ],
   "source": [
    "random_game.mangasarian_stone_solve() "
   ]
  },
  {
   "cell_type": "code",
   "execution_count": 22,
   "metadata": {},
   "outputs": [
    {
     "name": "stdout",
     "output_type": "stream",
     "text": [
      "Basis:  ['r_1', 'r_2', 'r_3', 'r_4', 'r_5', 's_1', 's_2', 's_3', 's_4']\n",
      "x_1 enters, s_1 departs\n",
      "Basis:  ['r_1', 'r_2', 'r_3', 'r_4', 'r_5', 'x_1', 's_2', 's_3', 's_4']\n",
      "y_1 enters, r_1 departs\n"
     ]
    },
    {
     "data": {
      "text/plain": [
       "{'p_i': array([1., 0., 0., 0., 0.]),\n",
       " 'q_j': array([1., 0., 0., 0.]),\n",
       " 'val1': 93.72236043429095,\n",
       " 'val2': 89.56188907069243}"
      ]
     },
     "execution_count": 22,
     "metadata": {},
     "output_type": "execute_result"
    }
   ],
   "source": [
    "sol = random_game.lemke_howson_solve(verbose=2)\n",
    "sol"
   ]
  },
  {
   "cell_type": "code",
   "execution_count": 23,
   "metadata": {},
   "outputs": [],
   "source": [
    "def Bimatrix_game_is_NashEq(self, p_i, q_j, tol=1e-5):\n",
    "        for i in range(self.nbi):\n",
    "            if np.eye(self.nbi)[i] @ self.A_i_j @ q_j > p_i @ self.A_i_j @ q_j + tol:\n",
    "                print('Pure strategy i =', i, 'beats p_i.')\n",
    "                return False\n",
    "        for j in range(self.nbj):\n",
    "            if p_i @ self.B_i_j @ np.eye(self.nbj)[j] > p_i @ self.B_i_j @ q_j + tol:\n",
    "                print('Pure strategy j =', j, 'beats q_j.')\n",
    "                return False\n",
    "        return True\n",
    "\n",
    "Bimatrix_game.is_NashEq = Bimatrix_game_is_NashEq"
   ]
  },
  {
   "cell_type": "code",
   "execution_count": 24,
   "metadata": {},
   "outputs": [
    {
     "data": {
      "text/plain": [
       "True"
      ]
     },
     "execution_count": 24,
     "metadata": {},
     "output_type": "execute_result"
    }
   ],
   "source": [
    "random_game.is_NashEq(sol['p_i'], sol['q_j'])"
   ]
  }
 ],
 "metadata": {
  "kernelspec": {
   "display_name": "Python 3 (ipykernel)",
   "language": "python",
   "name": "python3"
  },
  "language_info": {
   "codemirror_mode": {
    "name": "ipython",
    "version": 3
   },
   "file_extension": ".py",
   "mimetype": "text/x-python",
   "name": "python",
   "nbconvert_exporter": "python",
   "pygments_lexer": "ipython3",
   "version": "3.9.12"
  }
 },
 "nbformat": 4,
 "nbformat_minor": 4
}

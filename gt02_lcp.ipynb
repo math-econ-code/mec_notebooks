{
 "cells": [
  {
   "cell_type": "markdown",
   "id": "604e1d5b",
   "metadata": {},
   "source": [
    "# <center>Linear Complementarity Problems</center>\n",
    "### <center>Alfred Galichon (NYU & Sciences Po) and Antoine Jacquet (Sciences Po)</center>\n",
    "## <center>'math+econ+code' masterclass on linear complementarity</center>\n",
    "#### <center>With python code examples</center>\n",
    "© 2018–2024 by Alfred Galichon with contributions by Antoine Jacquet. Past and present support from NSF grant DMS-1716489, ERC grant CoG-866274 are acknowledged, as well as inputs from contributors listed [here](http://www.math-econ-code.org/team).\n"
   ]
  },
  {
   "cell_type": "markdown",
   "id": "4fd5ed0b",
   "metadata": {},
   "source": [
    "### References\n",
    "\n",
    "* Murty (1997). *Linear Complementarity, Linear and Nonlinear Programming: Internet Edition*.\n",
    "* Cottle, Pang, Stone (2008). *The Linear Complementarity Problem*.\n",
    "\n",
    "### Learning objectives\n",
    "\n",
    "* Lemke algorithm\n"
   ]
  },
  {
   "cell_type": "code",
   "execution_count": 1,
   "id": "810fca1d",
   "metadata": {},
   "outputs": [],
   "source": [
    "#!pip install mec --upgrade\n",
    "\n",
    "import numpy as np\n",
    "import gurobipy as grb\n",
    "import matplotlib.pyplot as plt\n"
   ]
  },
  {
   "cell_type": "markdown",
   "id": "3de2dc75",
   "metadata": {},
   "source": [
    "# The Linear complementarity problem\n",
    "\n",
    "Let $q \\in \\mathbf R^n$ and $M$ a square matrix of size $n$. \n",
    "The linear complementarity problem $(M, q)$ consists in finding two vectors $z \\in \\mathbf R^n$ and $w \\in \\mathbf R^n$ such that:\n",
    "\n",
    "- $z \\geq 0$ and $w \\geq 0$,\n",
    "- $w = M z + q$,\n",
    "- $z^\\top w = 0$, i.e. $\\forall i, \\; z_i \\, w_i = 0$.\n",
    "\n",
    "A common shortened notation for this problem is:\n",
    "\n",
    "$0 \\leq z \\perp Mz + q \\geq 0$.\n",
    "\n",
    "*Remark.* If $q \\geq 0$, then the LCP has a trivial solution: $z = 0$, $w = q$.\n",
    "\n",
    "\n",
    "## Quadratic programming formulation\n",
    "\n",
    "Closely related to the LCP above is the quadratic programming (QP) problem:\n",
    "\n",
    "\\begin{align}\n",
    "\\min_{z, w \\geq 0} ~& z^\\top w \\\\\n",
    "\\text{s.t.} ~& w = Mz + q.\n",
    "\\end{align}\n",
    "\n",
    "If $z, w$ is a solution to this QP problem which achieves an objective value of 0, then it is a solution to the LCP."
   ]
  },
  {
   "cell_type": "markdown",
   "id": "fa5c7d7c",
   "metadata": {},
   "source": [
    "We start by defining a class `LCP`, along with a method `qp_solve` which solves LCPs using the QP formulation and Gurobi."
   ]
  },
  {
   "cell_type": "code",
   "execution_count": 2,
   "id": "3ef58507",
   "metadata": {},
   "outputs": [],
   "source": [
    "class LCP: # z >= 0, w = M z + q >= 0, z.w = 0\n",
    "    def __init__(self, M_i_j, q_i, z_names_i = None, w_names_i = None):\n",
    "        if M_i_j.shape[0] != M_i_j.shape[1]:\n",
    "            raise ValueError(\"M_i_j must be square.\")\n",
    "        if M_i_j.shape[0] != len(q_i):\n",
    "            raise ValueError(\"M_i_j and q_i must be of the same size.\")\n",
    "        self.M_i_j, self.q_i = M_i_j, q_i\n",
    "        self.nbi = len(q_i)\n",
    "        if z_names_i is None :\n",
    "            z_names_i = ['z_'+str(i+1) for i in range(self.nbi)]\n",
    "        if w_names_i is None :\n",
    "            w_names_i = ['w_'+str(i+1) for i in range(self.nbi)]\n",
    "        self.z_names_i, self.w_names_i = z_names_i, w_names_i\n",
    "    \n",
    "    def qp_solve(self, silent=True, verbose=0):\n",
    "        qp = grb.Model()\n",
    "        if silent:\n",
    "            qp.Params.OutputFlag = 0\n",
    "        qp.Params.NonConvex = 2\n",
    "        z = qp.addMVar(shape = self.nbi)\n",
    "        w = qp.addMVar(shape = self.nbi)\n",
    "        qp.addConstr(w - self.M_i_j @ z == self.q_i)\n",
    "        qp.setObjective(z @ w, sense = grb.GRB.MINIMIZE)\n",
    "        qp.optimize()\n",
    "        zsol, wsol, obj = z.x, w.x, qp.ObjVal\n",
    "        print('z.w =', obj)\n",
    "        if verbose > 0:\n",
    "            print('z =', zsol)\n",
    "            print('w =', wsol)\n",
    "        return zsol, wsol, obj"
   ]
  },
  {
   "cell_type": "markdown",
   "id": "cc4e8b5d",
   "metadata": {},
   "source": [
    "Let's look at a few examples."
   ]
  },
  {
   "cell_type": "code",
   "execution_count": 3,
   "id": "925f96ad",
   "metadata": {},
   "outputs": [
    {
     "name": "stdout",
     "output_type": "stream",
     "text": [
      "Set parameter Username\n",
      "Academic license - for non-commercial use only - expires 2025-01-21\n",
      "z.w = 0.0\n",
      "z = [   0.         4914.97458044 4913.97458044]\n",
      "w = [19659.89832177     0.             0.        ]\n"
     ]
    },
    {
     "data": {
      "text/plain": [
       "(array([   0.        , 4914.97458044, 4913.97458044]),\n",
       " array([19659.89832177,     0.        ,     0.        ]),\n",
       " 0.0)"
      ]
     },
     "execution_count": 3,
     "metadata": {},
     "output_type": "execute_result"
    }
   ],
   "source": [
    "kostreva_ex = LCP(M_i_j = np.array([[0, 3, 1], [-3, 2, -2], [-1, -2, 2]]),\n",
    "                  q_i = np.array([1, -2, 2]))\n",
    "\n",
    "kostreva_ex.qp_solve(verbose=1)"
   ]
  },
  {
   "cell_type": "code",
   "execution_count": 4,
   "id": "9b8cb8d6",
   "metadata": {},
   "outputs": [
    {
     "name": "stdout",
     "output_type": "stream",
     "text": [
      "z.w = 0.0\n",
      "z = [0.33333333 0.33333333 0.33333333]\n",
      "w = [0. 0. 0.]\n"
     ]
    },
    {
     "data": {
      "text/plain": [
       "(array([0.33333333, 0.33333333, 0.33333333]), array([0., 0., 0.]), 0.0)"
      ]
     },
     "execution_count": 4,
     "metadata": {},
     "output_type": "execute_result"
    }
   ],
   "source": [
    "kostreva_ex2 = LCP(M_i_j = np.array([[1, 2, 0],[0, 1, 2],[2, 0, 1]]),\n",
    "                   q_i = np.array([-1, -1, -1])) # supposed to cause cycling and to have unique solution?!?\n",
    "                                                 # but we find different solutions here and later\n",
    "kostreva_ex2.qp_solve(verbose=1)"
   ]
  },
  {
   "cell_type": "code",
   "execution_count": 5,
   "id": "38cac692",
   "metadata": {},
   "outputs": [
    {
     "name": "stdout",
     "output_type": "stream",
     "text": [
      "z.w = 0.0\n",
      "z = [3.  2.5 0. ]\n",
      "w = [0.  0.  7.5]\n"
     ]
    },
    {
     "data": {
      "text/plain": [
       "(array([3. , 2.5, 0. ]), array([0. , 0. , 7.5]), 0.0)"
      ]
     },
     "execution_count": 5,
     "metadata": {},
     "output_type": "execute_result"
    }
   ],
   "source": [
    "murty_ex_2_9 = LCP(M_i_j = np.array([[1,0,3],[-1,2,5],[2,1,2]]),\n",
    "                   q_i = np.array([-3,-2,-1])) # supposed to ray-terminate\n",
    "\n",
    "murty_ex_2_9.qp_solve(verbose=2)"
   ]
  },
  {
   "cell_type": "code",
   "execution_count": 6,
   "id": "eba36bd2",
   "metadata": {},
   "outputs": [
    {
     "name": "stdout",
     "output_type": "stream",
     "text": [
      "z.w = 0.0\n",
      "z = [8. 0. 0.]\n",
      "w = [0. 4. 2.]\n"
     ]
    },
    {
     "data": {
      "text/plain": [
       "(array([8., 0., 0.]), array([0., 4., 2.]), 0.0)"
      ]
     },
     "execution_count": 6,
     "metadata": {},
     "output_type": "execute_result"
    }
   ],
   "source": [
    "murty_ex_2_10 = LCP(M_i_j = np.array([[1,0,0],[2,1,0],[2,2,1]]),\n",
    "                    q_i = np.array([-8,-12,-14]))\n",
    "\n",
    "murty_ex_2_10.qp_solve(verbose=2)"
   ]
  },
  {
   "cell_type": "markdown",
   "id": "9a962279",
   "metadata": {},
   "source": [
    "## Linear programming as LCP\n",
    "\n",
    "Consider the linear program $P$ together with its dual $D$:\n",
    "\n",
    "\\begin{align}\n",
    "    P: \\; \\max_{x \\geq 0} & ~ c^\\top x &\\qquad D : \\; \\min_{y \\geq 0} & ~ b^{\\top} y \\\\\n",
    "          \\text{s.t.} & ~ A x \\leq b   &              \\text{s.t.} & ~ A^\\top y \\geq c,\n",
    "\\end{align}\n",
    "\n",
    "where $b \\in \\mathbf R^m$, $c \\in \\mathbf R^n$, and $A$ is a $m \\times n$ matrix. \n",
    "\n",
    "Introducing $v \\in \\mathbf R^m$ the primal slack variables, and $u \\in \\mathbf R^n$ the dual slack variables, the optimality conditions are\n",
    "\n",
    "**Primal feasibility.** $x \\geq 0$, $v \\geq 0$, $A x + v = b$\n",
    "\n",
    "**Dual feasibility.** $y \\geq 0$, $u \\geq 0$, $A^\\top y - u = c$\n",
    "\n",
    "**Complementary slackness.** $x^\\top u = 0$ and $y^\\top v = 0$\n",
    "\n",
    "We can rearrange this as\n",
    "\n",
    "\\begin{equation}\n",
    "    \\begin{pmatrix} x \\\\ y \\end{pmatrix} \\geq 0,\n",
    "    \\quad\n",
    "    \\begin{pmatrix} u \\\\ v \\end{pmatrix} \\geq 0,\n",
    "    \\quad\n",
    "    \\begin{pmatrix} u \\\\ v \\end{pmatrix} = \n",
    "    \\begin{pmatrix} 0 & A^\\top \\\\ -A & 0 \\end{pmatrix}\n",
    "    \\begin{pmatrix} x \\\\ y \\end{pmatrix}\n",
    "    + \\begin{pmatrix} -c \\\\ b \\end{pmatrix},\n",
    "    \\quad\n",
    "    \\begin{pmatrix} x \\\\ y \\end{pmatrix}^\\top \\begin{pmatrix} u \\\\ v \\end{pmatrix} = 0\n",
    "\\end{equation}\n",
    "\n",
    "which is a LCP of order $n + m$ with\n",
    "\\begin{equation}\n",
    "    M = \\begin{pmatrix} 0 & A^\\top \\\\ -A & 0 \\end{pmatrix},\n",
    "    \\quad\n",
    "    q = \\begin{pmatrix} -c \\\\ b \\end{pmatrix}.\n",
    "\\end{equation}"
   ]
  },
  {
   "cell_type": "markdown",
   "id": "aa6e05a1",
   "metadata": {},
   "source": [
    "## Geometry of the LCP\n",
    "\n",
    "One can see the LCP as a combinatorial problem, where for each $i = 1,\\dots,n$ we are able to choose either the variable $z_i$ or the variable $w_i$.  \n",
    "In the equation $w - Mz = q$, each one of these variables is associated with a vector:\n",
    "- for $w_i$, the column vector $E_i$ defined as column $i$ of the identity matrix $\\text I_n$ (the vectors $E_i$ form the canonical basis of $\\mathbf R^n$),\n",
    "- for $z_i$, the column vector $-M_{\\cdot i}$, where $M_{\\cdot i}$ is column $i$ of matrix $M$.\n",
    "\n",
    "Therefore, it is as if we were searching for $n$ coefficients $\\alpha_i \\geq 0$ and $n$ vectors $J_i \\in \\{E_i, -M_{\\cdot i}\\}$ such that\n",
    "\n",
    "\\begin{equation}\n",
    "    \\alpha_1 J_1 + \\dots + \\alpha_n J_n = q.\n",
    "\\end{equation}\n",
    "\n",
    "When the coefficients $\\alpha_i$ describe $\\mathbf R_+$, the left-hand side of this equation is actually the *cone* generated by the vectors $(J_1, \\dots, J_n)$.\n",
    "Hence the LCP is equivalent to finding a combination of $n$ vectors, with vector $i$ being either $E_i$ or $-M_{\\cdot i}$, such that the vector $q$ is in the cone generated by these $n$ vectors.\n",
    "\n",
    "*Remark.* Since the cone generated by the columns of $\\text I_n$ is the positive quadrant $\\{ q \\in \\mathbf R^n : q \\geq 0 \\}$, we notice again with this geometric interpretation that the problem is trivial when $q \\geq 0$.\n",
    "\n",
    "This geometric formulation actually provides a way to solve the LCP, called the *exhaustive search*: \n",
    "\n",
    "\\begin{equation}\n",
    "    \\text{find $\\alpha_1, \\dots, \\alpha_n \\geq 0$ such that }\n",
    "    \\alpha_1 J_1 + \\dots + \\alpha_n J_n = q\n",
    "\\end{equation}\n",
    "\n",
    "for all combinations of $J_i \\in \\{E_i, -M_{\\cdot i}\\}$. In practice however this method is not useful, because it requires to solve $2^n$ linear systems with positivity constraints on the coefficients."
   ]
  },
  {
   "cell_type": "markdown",
   "id": "07fb8d3b",
   "metadata": {},
   "source": [
    "Let's illustrate the geometry using a simple problem of order 2, \n",
    "\n",
    "\\begin{equation}\n",
    "    M = \\begin{pmatrix}\n",
    "        5 & -10 \\\\ -10 & 4\n",
    "    \\end{pmatrix},\n",
    "    \\qquad\n",
    "    q = \\begin{pmatrix}\n",
    "        8 \\\\ -1\n",
    "    \\end{pmatrix}.\n",
    "\\end{equation}\n",
    "\n",
    "We attach a method `plot_cones` to the `LCP` class: for problems of order 2, it plots the (normalized) column vectors from the matrices $\\text I_2$ and $-M$, as well as $q$, and the four cones generated by the process described above."
   ]
  },
  {
   "cell_type": "code",
   "execution_count": 7,
   "id": "9ac67301",
   "metadata": {},
   "outputs": [],
   "source": [
    "def LCP_plot_cones(self):\n",
    "    if self.nbi != 2:\n",
    "        raise ValueError('Can\\'t plot in 2D because the problem is of order different from 2.')\n",
    "    A, q = -self.M_i_j, self.q_i\n",
    "    I = np.eye(2)\n",
    "    fig = plt.figure(figsize=(5, 5))\n",
    "    ax = fig.add_subplot(1, 1, 1)\n",
    "    ax.spines['left'].set_position('zero'), ax.spines['bottom'].set_position('zero')\n",
    "    ax.spines['right'].set_color('none'), ax.spines['top'].set_color('none')\n",
    "    r = np.array([[.6,.7],[.8,.9]])\n",
    "    angles = np.array([[0, np.pi/2], [None, None]])\n",
    "    for j in range(2):\n",
    "        if any(A[:,j] != 0): angles[1,j] = (-1)**(A[1,j]<0) * np.arccos(A[0,j]/np.linalg.norm(A[:,j]))\n",
    "    for i in range(2):\n",
    "        for j in range(2):\n",
    "            angle_1 = angles[i,0]\n",
    "            angle_2 = angles[j,1]\n",
    "            if angle_1 != None and angle_2 != None:\n",
    "                if abs(angle_1 - angle_2) < np.pi:\n",
    "                    theta = np.linspace(np.minimum(angle_1, angle_2), np.maximum(angle_1, angle_2), 100)\n",
    "                elif abs(angle_1 - angle_2) > np.pi:\n",
    "                    theta = np.linspace(np.maximum(angle_1, angle_2), np.minimum(angle_1, angle_2) + 2*np.pi, 100)\n",
    "                ax.fill(np.append(0, r[i,j]*np.cos(theta)), np.append(0, r[i,j]*np.sin(theta)), 'b', alpha=0.1)\n",
    "    for i in range(2):\n",
    "        ax.quiver(0, 0, I[0,i], I[1,i], scale=1, scale_units='xy', color='b')\n",
    "        ax.text(I[0,i], I[1,i], r'$E_{{{}}}$'.format(i+1), fontsize=12, ha='left', va='bottom')\n",
    "        if any(A[:,i] != 0):\n",
    "            ax.quiver(0, 0, A[0,i]/np.linalg.norm(A[:,i]), A[1,i]/np.linalg.norm(A[:,i]), scale=1, scale_units='xy', color='b')\n",
    "            ax.text(A[0,i]/np.linalg.norm(A[:,i]), A[1,i]/np.linalg.norm(A[:,i]), r'$-M_{{\\cdot{}}}$'.format(i+1), fontsize=12, ha='left', va='bottom')\n",
    "    ax.quiver(0, 0, q[0]/np.linalg.norm(q), q[1]/np.linalg.norm(q), angles='xy', scale_units='xy', scale=1, color='r')\n",
    "    plt.xlim(-1.2, 1.2), plt.ylim(-1.2, 1.2)\n",
    "    plt.show()\n",
    "\n",
    "LCP.plot_cones = LCP_plot_cones"
   ]
  },
  {
   "cell_type": "code",
   "execution_count": 8,
   "id": "2c16b13f",
   "metadata": {},
   "outputs": [
    {
     "name": "stdout",
     "output_type": "stream",
     "text": [
      "z.w = 3.298488253446001e-09\n",
      "z = [0.275  0.9375]\n",
      "w = [5.99660626e-09 1.75938297e-09]\n"
     ]
    },
    {
     "data": {
      "image/png": "[encoded data removed]",
      "text/plain": [
       "<Figure size 500x500 with 1 Axes>"
      ]
     },
     "metadata": {},
     "output_type": "display_data"
    }
   ],
   "source": [
    "ex_lcp = LCP(M_i_j = np.array([[5, -10], [-10, 4]]), \n",
    "             q_i = np.array([8, -1]))\n",
    "ex_lcp.qp_solve(verbose=1)\n",
    "ex_lcp.plot_cones()"
   ]
  },
  {
   "cell_type": "markdown",
   "id": "cbd2d3ff",
   "metadata": {},
   "source": [
    "Here the vector $q$ lies in two of the cones, and therefore the LCP has a solution.  \n",
    "We also see that if we decrease $q_1$ enough, the problem does not have a solution anymore."
   ]
  },
  {
   "cell_type": "code",
   "execution_count": 9,
   "id": "29173d70",
   "metadata": {},
   "outputs": [
    {
     "data": {
      "image/png": "[encoded data removed]",
      "text/plain": [
       "<Figure size 500x500 with 1 Axes>"
      ]
     },
     "metadata": {},
     "output_type": "display_data"
    }
   ],
   "source": [
    "ex_lcp.q_i = np.array([1, -2])\n",
    "#ex_lcp.qp_solve(verbose=1, silent=False)  # problem is not feasible\n",
    "#ex_lcp.lemke_solve(verbose=2)    # ray termination\n",
    "ex_lcp.plot_cones()"
   ]
  },
  {
   "cell_type": "markdown",
   "id": "4b957849",
   "metadata": {},
   "source": [
    "# Lemke algorithm\n",
    "\n",
    "The Lemke algorithm works in a manner similar to the simplex algorithm: at each step, it chooses an entering variable, a departing variable, and performs a pivot operation to update the tableau accordingly.\n",
    "Its specificity is that it always chooses the entering variable so as to maintain a property of the basis called *almost complementarity*.\n",
    "Let's provide a quick description here.\n",
    "\n",
    "---\n",
    "\n",
    "*Lemke algorithm*\n",
    "\n",
    "**Step 0.**\n",
    "Introduce an artificial variable $z_0$ associated with the column vector $-1_n$.\n",
    "Let $i^* = \\arg\\min_i q_i$, and choose the initial basic variables as $w_1, \\dots, w_{i^* - 1}, z_0, w_{i^* + 1}, \\dots, w_n$.\n",
    "Update the tableau.\n",
    "\n",
    "**Step 1.** Choose the entering variable as the complement of the last departing variable.\n",
    "(Right after step 0, this is $z_{i^*}$.)\n",
    "\n",
    "**Step 2.**\n",
    "Determine the departing variable using the minimum-ratio rule in the current tableau.\n",
    "If there is no admissible departing variable, stop (this is called *ray termination*).\n",
    "\n",
    "**Step 3.**\n",
    "Update the tableau.\n",
    "If the departing variable is $z_0$, stop and find the solution.\n",
    "If not, go back to step 1.\n",
    "\n",
    "---"
   ]
  },
  {
   "cell_type": "markdown",
   "id": "5404f4aa",
   "metadata": {},
   "source": [
    "**Step 0. Finding an initial basic feasible vector**\n",
    "\n",
    "We saw that the case $q \\geq 0$ is trivial, and therefore we will assume that there is at least one $q_i < 0$.\n",
    "For this reason, we cannot take $w_i = q_i$, $z_i = 0$ as our initial basic feasible vector.\n",
    "\n",
    "Instead, we introduce an artificial variable $z_0 \\geq 0$ associated with the column vector $-1_n = ( -1, \\dots, -1)^\\top$, yielding the system \n",
    "\n",
    "\\begin{equation}\n",
    "    w - M z - z_0 1_n = q.\n",
    "\\end{equation}\n",
    "\n",
    "Denoting $i^* = \\arg\\min_i q_i$, we can then choose the initial basic feasible vector\n",
    "\n",
    "\\begin{align}\n",
    "    z_0 &= -q_{i^*} & ~ \\\\\n",
    "    z_i &= 0 &(\\forall i \\geq 1) \\\\\n",
    "    w_i &= q_i - q_{i^*} &(\\forall i \\neq i^*) \\\\\n",
    "    w_{i^*} &= 0, & ~\n",
    "\\end{align}\n",
    "\n",
    "and our initial basic variables are $w_1, \\dots, w_{i^* - 1}, z_0, w_{i^* + 1}, \\dots, w_n$.\n",
    "\n",
    "We say that this basis is *almost complementary*, because it contains exactly one variable from each complementary pair $(z_i, w_i)$, except for one, namely $(z_{i^*}, w_{i^*})$.\n",
    "This is a property of the basis that we want to maintain throughout: for this reason, we choose $z_{i^*}$ as the first entering variable.\n",
    "\n",
    "By maintaining almost complementarity of the basis, if at some point $z_0$ is chosen as the departing variable, our basis will become *complementary*, and we will have found a solution to the LCP.\n"
   ]
  },
  {
   "cell_type": "markdown",
   "id": "df482869",
   "metadata": {},
   "source": [
    "We will make use of the class `Tableau` from the linear programming lectures to implement the algorithm.\n",
    "We start with a method to create the tableau associated with a LCP, including the artificial variable $z_0$."
   ]
  },
  {
   "cell_type": "code",
   "execution_count": 10,
   "id": "d6fc04dd",
   "metadata": {},
   "outputs": [
    {
     "name": "stdout",
     "output_type": "stream",
     "text": [
      "+-----+-------+-------+-------+-------+-------+-------+-------+-------+\n",
      "|     |   w_1 |   w_2 |   w_3 |   z_1 |   z_2 |   z_3 |   z_0 |   RHS |\n",
      "+=====+=======+=======+=======+=======+=======+=======+=======+=======+\n",
      "| Obj |     0 |     0 |     0 |     0 |     0 |     0 |     0 |     0 |\n",
      "+-----+-------+-------+-------+-------+-------+-------+-------+-------+\n",
      "| w_1 |     1 |     0 |     0 |    -1 |    -0 |    -3 |    -1 |    -3 |\n",
      "+-----+-------+-------+-------+-------+-------+-------+-------+-------+\n",
      "| w_2 |     0 |     1 |     0 |     1 |    -2 |    -5 |    -1 |    -2 |\n",
      "+-----+-------+-------+-------+-------+-------+-------+-------+-------+\n",
      "| w_3 |     0 |     0 |     1 |    -2 |    -1 |    -2 |    -1 |    -1 |\n",
      "+-----+-------+-------+-------+-------+-------+-------+-------+-------+\n"
     ]
    }
   ],
   "source": [
    "from mec.lp import Tableau\n",
    "\n",
    "def LCP_create_tableau(self, display=False):\n",
    "    tab = Tableau(A_i_j = -np.block([self.M_i_j, np.ones((self.nbi,1))]),\n",
    "                  d_i = self.q_i, c_j = None,\n",
    "                  decision_var_names_j=self.z_names_i+['z_0'], slack_var_names_i=self.w_names_i)\n",
    "    self.tableau = tab\n",
    "    if display: tab.display()\n",
    "\n",
    "LCP.create_tableau = LCP_create_tableau\n",
    "\n",
    "murty_ex_2_9.create_tableau(display=True)"
   ]
  },
  {
   "cell_type": "markdown",
   "id": "6aad2a51",
   "metadata": {},
   "source": [
    "We update the tableau according to our initial basis."
   ]
  },
  {
   "cell_type": "code",
   "execution_count": 11,
   "id": "7d96d2d2",
   "metadata": {},
   "outputs": [],
   "source": [
    "def LCP_initialize_basis(self, verbose=0, display=False):\n",
    "    self.create_tableau()\n",
    "    zis = self.tableau.decision_var_names_j\n",
    "    wis = self.tableau.slack_var_names_i\n",
    "    kent = 2*self.nbi # z_0 enters\n",
    "    kdep = np.argmin(self.q_i) # w_istar departs\n",
    "    if verbose>0: print((wis+zis)[kent] + ' enters, ' + (wis+zis)[kdep] + ' departs')\n",
    "    self.tableau.update(kent, kdep)\n",
    "    if display: self.tableau.display()\n",
    "    return kdep\n",
    "\n",
    "LCP.initialize_basis = LCP_initialize_basis"
   ]
  },
  {
   "cell_type": "code",
   "execution_count": 12,
   "id": "ecdc340b",
   "metadata": {},
   "outputs": [
    {
     "name": "stdout",
     "output_type": "stream",
     "text": [
      "z_0 enters, w_1 departs\n",
      "+-----+-------+-------+-------+-------+-------+-------+-------+-------+\n",
      "|     |   w_1 |   w_2 |   w_3 |   z_1 |   z_2 |   z_3 |   z_0 |   RHS |\n",
      "+=====+=======+=======+=======+=======+=======+=======+=======+=======+\n",
      "| Obj |     0 |     0 |     0 |     0 |     0 |     0 |     0 |     0 |\n",
      "+-----+-------+-------+-------+-------+-------+-------+-------+-------+\n",
      "| z_0 |    -1 |    -0 |    -0 |     1 |     0 |     3 |     1 |     3 |\n",
      "+-----+-------+-------+-------+-------+-------+-------+-------+-------+\n",
      "| w_2 |    -1 |     1 |     0 |     2 |    -2 |    -2 |     0 |     1 |\n",
      "+-----+-------+-------+-------+-------+-------+-------+-------+-------+\n",
      "| w_3 |    -1 |     0 |     1 |    -1 |    -1 |     1 |     0 |     2 |\n",
      "+-----+-------+-------+-------+-------+-------+-------+-------+-------+\n"
     ]
    }
   ],
   "source": [
    "kdep = murty_ex_2_9.initialize_basis(verbose=1, display=True)"
   ]
  },
  {
   "cell_type": "markdown",
   "id": "fb93c377",
   "metadata": {},
   "source": [
    "**Step 1. Entering variable**\n",
    "\n",
    "In the Lemke algorithm, the entering variable is chosen so as to maintain an almost complementary basis.\n",
    "With this rule, there is a single choice for the entering variable at each iteration.\n",
    "For instance, since $w_{i^*}$ left the basis in step 0 (it was replaced by $z_0$), the next entering variable must be $z_{i^*}$.\n",
    "\n",
    "In general, as long as $z_0$ still belongs to the basis, the last departing variable must have been some $w_{i^*}$ or $z_{i^*}$ ($i^* \\neq 0$). Then, in order to maintain an almost complementary basis, our choice for the next entering variable must be $z_{i^\\star}$ or $w_{i^\\star}$, respectively."
   ]
  },
  {
   "cell_type": "code",
   "execution_count": 13,
   "id": "ec8ef25d",
   "metadata": {},
   "outputs": [
    {
     "name": "stdout",
     "output_type": "stream",
     "text": [
      "z_1 enters\n"
     ]
    }
   ],
   "source": [
    "complements = list(murty_ex_2_9.nbi+np.arange(murty_ex_2_9.nbi)) + list(np.arange(murty_ex_2_9.nbi))\n",
    "kent = complements[kdep]\n",
    "\n",
    "print((murty_ex_2_9.tableau.slack_var_names_i + murty_ex_2_9.tableau.decision_var_names_j)[kent], 'enters')"
   ]
  },
  {
   "cell_type": "markdown",
   "id": "607c38bb",
   "metadata": {},
   "source": [
    "**Step 2. Departing variable**\n",
    "\n",
    "The departing variable is chosen according to the minimum ratio rule, similar to the simplex algorithm.\n",
    "\n",
    "If there is no such departing variable (because the column vector associated with the entering variable has all  its entries nonnegative) then the algorithm stops without finding a solution.\n",
    "This is called **ray termination**, because all values of the entering variable lead to a feasible vector, creating a half-line of feasible vectors (but which are not solutions to the LCP).\n",
    "\n",
    "Importantly, ray termination can occur even if the LCP *has* a solution.\n",
    "Here, additional assumptions on the matrix $M$ can ensure that the Lemke algorithm finds a solution if one exists.\n",
    "We come back to this below.\n"
   ]
  },
  {
   "cell_type": "markdown",
   "id": "dd95648e",
   "metadata": {},
   "source": [
    "The choice of a departing variable will be implemented using the method `determine_departing` from the `Tableau` class."
   ]
  },
  {
   "cell_type": "code",
   "execution_count": 14,
   "id": "70e0d451",
   "metadata": {},
   "outputs": [
    {
     "name": "stdout",
     "output_type": "stream",
     "text": [
      "w_2 departs\n"
     ]
    }
   ],
   "source": [
    "kdep = murty_ex_2_9.tableau.determine_departing(kent)\n",
    "\n",
    "print((murty_ex_2_9.tableau.slack_var_names_i + murty_ex_2_9.tableau.decision_var_names_j)[kdep], 'departs')"
   ]
  },
  {
   "cell_type": "markdown",
   "id": "15401cec",
   "metadata": {},
   "source": [
    "**Step 3: Pivot**\n",
    "\n",
    "The tableau is updated using the `update` method from the `Tableau` class.\n",
    "\n",
    "Here, one of two cases can arise:\n",
    "1. *The departing variable was not $z_0$.* The algorithm proceeds normally, back to step 1.\n",
    "2. *The departing variable was $z_0$.* Then our new basis is complementary, leading to a complementary basic feasible vector, i.e. a solution to the LCP that we recover using the `solution` method."
   ]
  },
  {
   "cell_type": "code",
   "execution_count": 15,
   "id": "f6f42fe9",
   "metadata": {},
   "outputs": [
    {
     "name": "stdout",
     "output_type": "stream",
     "text": [
      "+-----+-------+-------+-------+-------+-------+-------+-------+-------+\n",
      "|     |   w_1 |   w_2 |   w_3 |   z_1 |   z_2 |   z_3 |   z_0 |   RHS |\n",
      "+=====+=======+=======+=======+=======+=======+=======+=======+=======+\n",
      "| Obj |   0   |   0   |     0 |     0 |     0 |     0 |     0 |   0   |\n",
      "+-----+-------+-------+-------+-------+-------+-------+-------+-------+\n",
      "| z_0 |  -0.5 |  -0.5 |    -0 |     0 |     1 |     4 |     1 |   2.5 |\n",
      "+-----+-------+-------+-------+-------+-------+-------+-------+-------+\n",
      "| z_1 |  -0.5 |   0.5 |     0 |     1 |    -1 |    -1 |     0 |   0.5 |\n",
      "+-----+-------+-------+-------+-------+-------+-------+-------+-------+\n",
      "| w_3 |  -1.5 |   0.5 |     1 |     0 |    -2 |     0 |     0 |   2.5 |\n",
      "+-----+-------+-------+-------+-------+-------+-------+-------+-------+\n"
     ]
    }
   ],
   "source": [
    "murty_ex_2_9.tableau.update(kent, kdep)\n",
    "murty_ex_2_9.tableau.display()"
   ]
  },
  {
   "cell_type": "markdown",
   "id": "316ba896",
   "metadata": {},
   "source": [
    "We are now ready to implement the algorithm using `lemke_solve`."
   ]
  },
  {
   "cell_type": "code",
   "execution_count": 16,
   "id": "64fd4e6d",
   "metadata": {},
   "outputs": [],
   "source": [
    "def LCP_lemke_solve(self, verbose=0, maxit=100):\n",
    "    counter = 0\n",
    "    if all(self.q_i >= 0):\n",
    "        print('==========')\n",
    "        print('Solution found: trivial LCP (q >= 0).')\n",
    "        zsol, wsol = np.zeros(self.nbi), self.q_i\n",
    "        return zsol, wsol\n",
    "    kdep = self.initialize_basis(verbose=verbose-1)\n",
    "    zis = self.tableau.decision_var_names_j\n",
    "    wis = self.tableau.slack_var_names_i\n",
    "    complements = list(self.nbi+np.arange(self.nbi)) + list(np.arange(self.nbi))\n",
    "    while counter < maxit:\n",
    "        counter += 1\n",
    "        kent = complements[kdep]\n",
    "        kdep = self.tableau.determine_departing(kent)\n",
    "        if kdep is None:\n",
    "            break\n",
    "        self.tableau.update(kent, kdep)\n",
    "        if verbose > 1:\n",
    "            print('Basis: ', [(wis+zis)[i] for i in self.tableau.k_b])\n",
    "            print((wis+zis)[kent], 'enters,', (wis+zis)[kdep], 'departs')\n",
    "        if kdep == 2*self.nbi:\n",
    "            break\n",
    "    print('==========')\n",
    "    if kdep == 2*self.nbi:\n",
    "        print('Solution found: z_0 departed basis.')\n",
    "        zsol, _, _ = self.tableau.solution()\n",
    "        wsol = self.M_i_j @ zsol[:-1] + self.q_i\n",
    "        if verbose > 0:\n",
    "            print('Complementarity: z.w = ' + str(zsol[:-1] @ wsol))\n",
    "            for i in range(self.nbi): print('z_'+str(i+1)+' = ' + str(zsol[i]))\n",
    "            for i in range(self.nbi): print('w_'+str(i+1)+' = ' + str(wsol[i]))\n",
    "        return zsol[:-1], wsol\n",
    "    elif counter == maxit:\n",
    "        print('Solution not found: maximum number of iterations (' + str(maxit) + ') reached.')\n",
    "        return None\n",
    "    else:\n",
    "        print('Solution not found: Ray termination.')\n",
    "        return None\n",
    "\n",
    "LCP.lemke_solve = LCP_lemke_solve"
   ]
  },
  {
   "cell_type": "code",
   "execution_count": 17,
   "id": "f9bc69d6",
   "metadata": {},
   "outputs": [
    {
     "name": "stdout",
     "output_type": "stream",
     "text": [
      "z_0 enters, w_1 departs\n",
      "Basis:  ['z_0', 'z_1', 'w_3']\n",
      "z_1 enters, w_2 departs\n",
      "Basis:  ['z_2', 'z_1', 'w_3']\n",
      "z_2 enters, z_0 departs\n",
      "==========\n",
      "Solution found: z_0 departed basis.\n",
      "Complementarity: z.w = 0.0\n",
      "z_1 = 3.0\n",
      "z_2 = 2.5\n",
      "z_3 = 0.0\n",
      "w_1 = 0.0\n",
      "w_2 = 0.0\n",
      "w_3 = 7.5\n"
     ]
    },
    {
     "data": {
      "text/plain": [
       "(array([3. , 2.5, 0. ]), array([0. , 0. , 7.5]))"
      ]
     },
     "execution_count": 17,
     "metadata": {},
     "output_type": "execute_result"
    }
   ],
   "source": [
    "murty_ex_2_9.lemke_solve(verbose=2)"
   ]
  },
  {
   "cell_type": "markdown",
   "id": "a4de7e97",
   "metadata": {},
   "source": [
    "## More examples"
   ]
  },
  {
   "cell_type": "code",
   "execution_count": 18,
   "id": "0e3ba1e1",
   "metadata": {},
   "outputs": [
    {
     "name": "stdout",
     "output_type": "stream",
     "text": [
      "==========\n",
      "Solution found: z_0 departed basis.\n",
      "Complementarity: z.w = 0.0\n",
      "z_1 = 8.0\n",
      "z_2 = 0.0\n",
      "z_3 = 0.0\n",
      "w_1 = 0.0\n",
      "w_2 = 4.0\n",
      "w_3 = 2.0\n"
     ]
    },
    {
     "data": {
      "text/plain": [
       "(array([8., 0., 0.]), array([0., 4., 2.]))"
      ]
     },
     "execution_count": 18,
     "metadata": {},
     "output_type": "execute_result"
    }
   ],
   "source": [
    "murty_ex_2_10.lemke_solve(verbose=1)"
   ]
  },
  {
   "cell_type": "code",
   "execution_count": 19,
   "id": "17882fbc",
   "metadata": {},
   "outputs": [
    {
     "name": "stdout",
     "output_type": "stream",
     "text": [
      "==========\n",
      "Solution found: z_0 departed basis.\n"
     ]
    },
    {
     "data": {
      "text/plain": [
       "(array([0., 1., 0.]), array([4., 0., 0.]))"
      ]
     },
     "execution_count": 19,
     "metadata": {},
     "output_type": "execute_result"
    }
   ],
   "source": [
    "kostreva_ex.lemke_solve()"
   ]
  },
  {
   "cell_type": "code",
   "execution_count": 20,
   "id": "49cec043",
   "metadata": {},
   "outputs": [
    {
     "name": "stdout",
     "output_type": "stream",
     "text": [
      "z_0 enters, w_1 departs\n",
      "Basis:  ['z_0', 'z_1', 'w_3']\n",
      "z_1 enters, w_2 departs\n",
      "Basis:  ['z_0', 'z_2', 'w_3']\n",
      "z_2 enters, z_1 departs\n",
      "Basis:  ['z_0', 'z_2', 'w_1']\n",
      "w_1 enters, w_3 departs\n",
      "Basis:  ['z_0', 'z_3', 'w_1']\n",
      "z_3 enters, z_2 departs\n",
      "Basis:  ['z_0', 'z_3', 'w_2']\n",
      "w_2 enters, w_1 departs\n",
      "Basis:  ['z_0', 'z_1', 'w_2']\n",
      "z_1 enters, z_3 departs\n",
      "Basis:  ['z_0', 'z_1', 'w_3']\n",
      "w_3 enters, w_2 departs\n",
      "Basis:  ['z_0', 'z_2', 'w_3']\n",
      "z_2 enters, z_1 departs\n",
      "Basis:  ['z_0', 'z_2', 'w_1']\n",
      "w_1 enters, w_3 departs\n",
      "Basis:  ['z_0', 'z_3', 'w_1']\n",
      "z_3 enters, z_2 departs\n",
      "==========\n",
      "Solution not found: maximum number of iterations (10) reached.\n"
     ]
    }
   ],
   "source": [
    "kostreva_ex2.lemke_solve(verbose=2, maxit=10) # cycles"
   ]
  },
  {
   "cell_type": "markdown",
   "id": "621dc2e9",
   "metadata": {},
   "source": [
    "# Appendix\n",
    "\n",
    "### Sufficient conditions for convergence\n",
    "\n",
    "The Lemke algorithm always finds a solution (if it exists) when:\n",
    "* the matrix $M$ is copositive plus,\n",
    "* the matrix $M$ is an $L$-matrix,\n",
    "* the matrix $M$ is positive-definite: $z^\\top M z > 0$ for all $z \\neq 0$\n",
    "* the matrix $M$ is a P-matrix\n",
    "\n",
    "**Copositive matrices.** $M$ is a copositive matrix iff $\\forall z \\geq 0, \\; z^\\top M z \\geq 0$.\n",
    "\n",
    "**Copositive plus matrices.** $M$ is a copositive plus matrix iff it is a copositive matrix and whenever $y \\geq 0$  satisfies $y^\\top M y = 0$ we have $y^\\top (M + M^\\top) = 0$.\n",
    "\n",
    "**Theorem (Murty 2.1).** If $M$ is a copositive plus matrix and there is a feasible vector to the LCP $(M,q)$ (i.e. there exist $z, w \\geq 0$ such that $w = Mz + q$), then this LCP has a solution and the Lemke algorithm terminates with a solution.  \n",
    "(In particular when $M$ is strictly copositive, it always terminates with a solution.)\n",
    "\n"
   ]
  },
  {
   "cell_type": "markdown",
   "id": "cca889ba",
   "metadata": {},
   "source": [
    "### LCPs and P-matrices\n",
    "\n",
    "**Definition.** A square matrix $M$ is a P-matrix if it satisfies one of following equivalent properties.\n",
    "* Every principal minor of $M$ is positive.  \n",
    "* For any vector $z \\neq 0$, there is a nonzero diagonal matrix $D_z$ with nonnegative coefficients such that $z^\\top D_z M z > 0$.\n",
    "* For any vector $z \\neq 0$, there is an index $i$ such that $z_i \\neq 0$ and $z_i (M z)_i > 0$.\n",
    "\n",
    "Linear complementarity problems have a natural relationship with P-matrices, given by the following theorem.\n",
    "\n",
    "---\n",
    "\n",
    "**Theorem.** The linear complementarity problem $(M,q)$ has a unique solution for all vectors $q$ if and only if the matrix $M$ is a P-matrix.\n",
    "\n",
    "*Proof.*  \n",
    "Let's show that if $M$ is a P-matrix, then the LCP $(M,q)$ has at most one solution.  \n",
    "Suppose that $z$ and $z'$ are both solutions. Then for all $i$, \n",
    "\n",
    "\\begin{aligned}\n",
    "(z - z')_i \\big( M(z-z') \\big)_i\n",
    "&= (z - z')_i \\big( (Mz + q) - (Mz' + q) \\big)_i \\\\\n",
    "&= z_i (Mz + q)_i - z_i (Mz' + q)_i - z'_i (Mz + q)_i + z'_i (Mz' + q)_i \\\\\n",
    "&= - z_i (Mz' + q)_i - z'_i (Mz + q)_i \\leq 0\n",
    "\\end{aligned}\n",
    "\n",
    "since $z_i (Mz + q)_i = z'_i (Mz' + q)_i = 0$ and because of the positivity constraints of the LCP.  \n",
    "Finally, since $M$ is a P-matrix, the inequality above implies that we must have $z - z' = 0$, i.e. $z = z'$.\n",
    "\n",
    "To do: existence, reverse implication.\n",
    "\n",
    "---\n",
    "\n",
    "In particular, it means that if $M$ is *not* a P-matrix, then there exists $q$ such that either:\n",
    "1. the LCP $(M,q)$ has no solution, or\n",
    "2. the LCP $(M,q)$ has more than one solution.\n",
    "\n",
    "*Note: can the proof somehow apply to the case where the matrix is non-reversing?*"
   ]
  }
 ],
 "metadata": {
  "kernelspec": {
   "display_name": "Python 3 (ipykernel)",
   "language": "python",
   "name": "python3"
  },
  "language_info": {
   "codemirror_mode": {
    "name": "ipython",
    "version": 3
   },
   "file_extension": ".py",
   "mimetype": "text/x-python",
   "name": "python",
   "nbconvert_exporter": "python",
   "pygments_lexer": "ipython3",
   "version": "3.9.12"
  }
 },
 "nbformat": 4,
 "nbformat_minor": 5
}

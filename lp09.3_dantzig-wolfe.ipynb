{
 "cells": [
  {
   "cell_type": "markdown",
   "metadata": {
    "id": "btS1bfjiNb7F"
   },
   "source": [
    "# <center>Dantzig-Wolfe decomposition</center>\n",
    "### <center>Alfred Galichon (NYU & Sciences Po)</center>\n",
    "## <center>'math+econ+code' masterclass series</center>\n",
    "#### <center>With python code examples</center>\n",
    "© 2018–2023 by Alfred Galichon. Past and present support from NSF grant DMS-1716489, ERC grant CoG-866274 are acknowledged, as well as inputs from contributors listed [here](http://www.math-econ-code.org/team).\n",
    "\n",
    "**If you reuse material from this masterclass, please cite as:**<br>\n",
    "Alfred Galichon, 'math+econ+code' masterclass series. https://www.math-econ-code.org/\n",
    "\n",
    "\n",
    "### References\n",
    "\n",
    "* Dantzig, G.B. and Wolfe, P. (1960). \"Decomposition Principle for Linear Programs\". *Operations Research*. 8: 101–111.\n",
    "\n",
    "* Luenberger, D. and Ye, Y. (2008). *Linear and Nonlinear Optimization*. Springer."
   ]
  },
  {
   "cell_type": "code",
   "execution_count": 6,
   "metadata": {},
   "outputs": [],
   "source": [
    "import numpy as np\n",
    "from mec.lp import Tableau\n",
    "import gurobipy as grb\n"
   ]
  },
  {
   "cell_type": "code",
   "execution_count": 2,
   "metadata": {},
   "outputs": [],
   "source": [
    "class Pivoter():\n",
    "    def __init__(self,B_i_b,x_b):\n",
    "        self.nbb = B_i_b.shape[0]\n",
    "        self.B_i_b = B_i_b\n",
    "        self.x_b = x_b\n",
    "    \n",
    "    def determine_departing(self,Nent_i):\n",
    "        z_b = np.linalg.solve(self.B_i_b,Nent_i) \n",
    "        thedic = {b: self.x_b[b] / z_b[b] for b in range(self.nbb) if z_b[b]>0}\n",
    "        bdep = min(thedic, key = thedic.get)\n",
    "        epsilon = thedic[bdep]\n",
    "        return bdep,epsilon\n",
    "    \n",
    "    def update(self,bdep,epsilon,Nent_i):\n",
    "        self.x_b = self.x_b - epsilon * np.linalg.solve(self.B_i_b,Nent_i) \n",
    "        self.x_b[bdep] = epsilon\n",
    "        self.B_i_b[:,bdep] = Nent_i"
   ]
  },
  {
   "cell_type": "code",
   "execution_count": 41,
   "metadata": {},
   "outputs": [],
   "source": [
    "class DantzigWolfe():\n",
    "    def __init__(self,Lks,b0_i,Aks,bks,cks):\n",
    "        self.nbk = len(Lks)\n",
    "        self.nbi0 = Lks[0].shape[0]\n",
    "        self.nbb = self.nbk + self.nbi0\n",
    "        self.Lks = Lks\n",
    "        self.b0_i = b0_i\n",
    "        self.Aks = Aks\n",
    "        self.bks = bks\n",
    "        self.cks = cks\n",
    "        self.pivot = None\n",
    "        \n",
    "    def solve_gurobi(self,outputFlag=0):\n",
    "        m=grb.Model()\n",
    "        m.setParam('OutputFlag', outputFlag)\n",
    "        xks = [m.addMVar(len(self.cks)) for k in range(self.nbk)]\n",
    "        m.setObjective(sum ([ self.cks[k] @ xks[k] for k in range(self.nbk)]) ,sense = grb.GRB.MAXIMIZE)\n",
    "        linking_constr = m.addConstr(sum ([ self.Lks[k] @ xks[k] for k in range(self.nbk)]) == self.b0_i)\n",
    "        local_constrs = [m.addConstr(self.Aks[k] @xks[k] <= self.bks[k] ) for k in range(self.nbk)]\n",
    "        m.optimize()\n",
    "        print('objVal=',m.objVal)\n",
    "        for k in range(self.nbk):\n",
    "            print('x'+str(k)+'_j=',xks[k].x)\n",
    "\n",
    "        \n",
    "    def init_feasible(self,xbs, kbs, alphabs):\n",
    "        self.xbs = xbs\n",
    "        self.kbs = kbs\n",
    "        Qbs = [np.concatenate([self.Lks[kbs[b]] @ xbs[b],np.array([1.0 if i == kbs[b] else 0.0 for i in range(self.nbk)])]) for b in range(self.nbb)]\n",
    "        self.pivot = Pivoter(np.column_stack(Qbs),np.array(alphabs))\n",
    "        \n",
    "\n",
    "    def determine_entering(self,verbose = 0):\n",
    "        p_b = np.array([  cks[self.kbs[b] ].dot(self.xbs[b] ) for b in range(self.nbb) ])\n",
    "        if verbose>0:\n",
    "            print('Objective=',self.pivot.x_b@p_b)\n",
    "        y = np.linalg.solve(self.pivot.B_i_b.T,p_b)\n",
    "\n",
    "        themax = -np.inf\n",
    "        kstar,xstar = None,None\n",
    "        for k in range(nbk):\n",
    "            x,obj = subproblem_solve(self.Aks[k],self.bks[k],self.cks[k] - self.Lks[k].T @ y[:nbi0] )\n",
    "            if  obj-y[nbi0+k] > themax: \n",
    "                themax,kstar,xstar_j = obj-y[nbi0+k],k,x\n",
    "        if (themax > -np.inf) & (themax > 0):\n",
    "            Nent_i =  np.concatenate( [self.Lks[kstar] @  xstar_j , np.array([1.0 if i == kstar else 0.0 for i in range(self.nbk)]) ])\n",
    "            return (True,xstar_j,kstar,Nent_i)\n",
    "        else:\n",
    "            return(False,None,None,None)\n",
    "        \n",
    "    def determine_departing(self,Nent_i):\n",
    "        return self.pivot.determine_departing(Nent_i)\n",
    "    \n",
    "    def update(self,x_j,kent,Nent_i,bdep,epsilon):\n",
    "        self.xbs[bdep] = x_j\n",
    "        self.kbs[bdep] = kent\n",
    "        self.pivot.update(bdep,epsilon,Nent_i)\n",
    "        \n",
    "        "
   ]
  },
  {
   "cell_type": "code",
   "execution_count": 33,
   "metadata": {},
   "outputs": [],
   "source": [
    "def subproblem_solve(A_i_j,b_i,c_j,outputFlag=0):\n",
    "    nbi,nbj = A_i_j.shape\n",
    "    m = grb.Model()\n",
    "    m.setParam('OutputFlag', outputFlag)\n",
    "    x_j = m.addMVar(nbj)\n",
    "    m.addConstr(A_i_j@x_j <= b_i)\n",
    "    m.setObjective(c_j@x_j,sense = grb.GRB.MAXIMIZE )\n",
    "    m.optimize()\n",
    "    return x_j.x,m.objVal"
   ]
  },
  {
   "cell_type": "markdown",
   "metadata": {},
   "source": [
    "\n",
    "Consider\n",
    "\\begin{eqnarray*}\n",
    "\\min_{x_{k}\\geq 0} &&\\sum_{k=1}^Kc_{k}^{\\top }x_{k} \\\\\n",
    "s.t.~ &&L_{1}x_{1}+...+L_{K}x_{k}=b_{0} \\\\\n",
    "&&A_{kk}x_{k}=b_{k},k=1,...,K\n",
    "\\end{eqnarray*}\n"
   ]
  },
  {
   "cell_type": "code",
   "execution_count": 7,
   "metadata": {},
   "outputs": [
    {
     "data": {
      "image/png": "[encoded data removed]",
      "text/plain": [
       "<Figure size 360x360 with 1 Axes>"
      ]
     },
     "metadata": {
      "needs_background": "light"
     },
     "output_type": "display_data"
    }
   ],
   "source": [
    "A1_i_j = np.array([[2, 1], [1, 2]])\n",
    "b1list = [2,2]\n",
    "b1_i = np.array(b1list)\n",
    "c1_j = np.array([2,2])\n",
    "t1 = Tableau(['s11','s12'],['x11','x12'], A1_i_j,[2,2],c1_j)\n",
    "t1.plot_path_so_far([])"
   ]
  },
  {
   "cell_type": "code",
   "execution_count": 8,
   "metadata": {},
   "outputs": [
    {
     "data": {
      "image/png": "[encoded data removed]",
      "text/plain": [
       "<Figure size 360x360 with 1 Axes>"
      ]
     },
     "metadata": {
      "needs_background": "light"
     },
     "output_type": "display_data"
    }
   ],
   "source": [
    "A2_i_j = np.array([[3, 1], [1, 3], [5,5]])\n",
    "b2list = [2,2,4]\n",
    "b2_i = np.array(b2list)\n",
    "c2_j = np.array([1,3])\n",
    "t2 = Tableau(['s21','s22','s23'],['x21','x22'], A2_i_j,b2list,c2_j)\n",
    "t2.plot_path_so_far([])"
   ]
  },
  {
   "cell_type": "markdown",
   "metadata": {},
   "source": [
    "For the linking constraint, we take:"
   ]
  },
  {
   "cell_type": "code",
   "execution_count": 42,
   "metadata": {},
   "outputs": [],
   "source": [
    "Lks = [np.array([[2,1]]),np.array([[1,3]])]\n",
    "b0_i = np.array([1])\n",
    "Aks = [A1_i_j,A2_i_j]\n",
    "bks = [b1_i,b2_i]\n",
    "cks = [c1_j,c2_j]\n",
    "nbk= len(Lks)\n",
    "nbi0 = Lks[0].shape[0]\n",
    "ls_program = DantzigWolfe(Lks,b0_i,Aks,bks,cks)"
   ]
  },
  {
   "cell_type": "markdown",
   "metadata": {},
   "source": [
    "# Solving the problem"
   ]
  },
  {
   "cell_type": "markdown",
   "metadata": {},
   "source": [
    "We solve using Gurobi for reference and we find:"
   ]
  },
  {
   "cell_type": "code",
   "execution_count": 10,
   "metadata": {},
   "outputs": [
    {
     "name": "stdout",
     "output_type": "stream",
     "text": [
      "Set parameter Username\n",
      "Academic license - for non-commercial use only - expires 2024-01-12\n",
      "objVal= 2.0\n",
      "x0_j= [0. 1.]\n",
      "x1_j= [0. 0.]\n"
     ]
    }
   ],
   "source": [
    "ls_program.solve_gurobi()"
   ]
  },
  {
   "cell_type": "markdown",
   "metadata": {},
   "source": [
    "Now we are back to the simplex. Let's compute the initial basis. We take \n"
   ]
  },
  {
   "cell_type": "code",
   "execution_count": 53,
   "metadata": {},
   "outputs": [],
   "source": [
    "ls_program.init_feasible(xbs = [np.zeros(2),np.array([1,0]),np.zeros(2)], #feasible solutions of program k\n",
    "                         kbs = [0,0,1], # corresponding k\n",
    "                         alphabs = [0.5,0.5,1]) #weights    "
   ]
  },
  {
   "cell_type": "markdown",
   "metadata": {},
   "source": [
    "We see that a basic feasible solution is a mix of columns "
   ]
  },
  {
   "cell_type": "code",
   "execution_count": 56,
   "metadata": {},
   "outputs": [
    {
     "name": "stdout",
     "output_type": "stream",
     "text": [
      "Objective= 2.0\n",
      "Optimal solution.\n"
     ]
    }
   ],
   "source": [
    "cont,x_j,kstar,Nent_i=ls_program.determine_entering(verbose=True)\n",
    "if cont:\n",
    "    bdep,epsilon = ls_program.determine_departing(Nent_i)\n",
    "    ls_program.update(x_j,kstar,Nent_i,bdep,epsilon)\n",
    "    print(ls_program.pivot.x_b)\n",
    "else:\n",
    "    print('Optimal solution.')"
   ]
  }
 ],
 "metadata": {
  "colab": {
   "provenance": [],
   "toc_visible": true
  },
  "kernelspec": {
   "display_name": "Python 3 (ipykernel)",
   "language": "python",
   "name": "python3"
  },
  "language_info": {
   "codemirror_mode": {
    "name": "ipython",
    "version": 3
   },
   "file_extension": ".py",
   "mimetype": "text/x-python",
   "name": "python",
   "nbconvert_exporter": "python",
   "pygments_lexer": "ipython3",
   "version": "3.9.12"
  }
 },
 "nbformat": 4,
 "nbformat_minor": 1
}

{
 "cells": [
  {
   "cell_type": "markdown",
   "metadata": {
    "id": "btS1bfjiNb7F"
   },
   "source": [
    "# <center>The simplex algorithm</center>\n",
    "### <center>Alfred Galichon (NYU & Sciences Po)</center>\n",
    "## <center>'math+econ+code' masterclass series</center>\n",
    "#### <center>With python code examples</center>\n",
    "© 2018–2023 by Alfred Galichon with contributions by Antoine Jacquet. Past and present support from NSF grant DMS-1716489, ERC grant CoG-866274 are acknowledged, as well as inputs from contributors listed [here](http://www.math-econ-code.org/team).\n",
    "\n",
    "**If you reuse material from this masterclass, please cite as:**<br>\n",
    "Alfred Galichon, 'math+econ+code' masterclass series. https://www.math-econ-code.org/"
   ]
  },
  {
   "cell_type": "markdown",
   "metadata": {
    "id": "NvpCAQSJNb7K"
   },
   "source": [
    "### Learning objectives\n",
    "\n",
    "* Standard form of a LP and slack variables\n",
    "* The simplex algorithm\n",
    "\n",
    "### References\n",
    "\n",
    "* Vanderbei (1996). *Linear programming.* Springer"
   ]
  },
  {
   "cell_type": "markdown",
   "metadata": {
    "id": "v59RjxfwP1iC"
   },
   "source": [
    "# 1. Primal simplex via dictionary\n",
    "\n",
    "The simplex algorithm was developed by G. B. Dantzig in 1947 as a way to solve linear programming problems of the canonical form\n",
    "\n",
    "\\begin{align}\n",
    "\\max_{x\\in\\mathbf R_+^J} & ~ c^\\top x \\\\\n",
    "\\text{s.t.} & ~ Ax \\leq d\n",
    "\\end{align}\n",
    "\n",
    "where $c \\in \\mathbf R^J$, $d \\in \\mathbf R^I$, and $A$ is a $I\\times J$ matrix. We assume that $I<J$, and that $A$ is of full rank, hence $rk(A) = I$.\n",
    "\n",
    "The idea of the algorithm is to start from a simple feasible point called a *basic feasible solution*, and then to iteratively identify directions along which the objective function increases."
   ]
  },
  {
   "cell_type": "markdown",
   "metadata": {
    "id": "XTwuussNv7T4"
   },
   "source": [
    "Let's begin by loading the usual packages."
   ]
  },
  {
   "cell_type": "code",
   "execution_count": 1,
   "metadata": {
    "colab": {
     "base_uri": "https://localhost:8080/"
    },
    "id": "JyB3iJlIMqBh",
    "outputId": "8345fa46-be96-458e-fcb9-5fe4e167e54b"
   },
   "outputs": [],
   "source": [
    "#!pip install gurobipy\n",
    "import pandas as pd\n",
    "import numpy as np\n",
    "import scipy.sparse as spr\n",
    "import gurobipy as grb\n",
    "import sympy\n",
    "from sympy.solvers import solve\n",
    "from sympy import *\n",
    "import matplotlib.pyplot as plt\n",
    "from mec.lp import LP,round_expr, limited_tabulate\n",
    "from mec.data import load_stigler_data\n"
   ]
  },
  {
   "cell_type": "markdown",
   "metadata": {
    "id": "tdbclc58UxRW"
   },
   "source": [
    "## 1.1 An example\n",
    "\n",
    "Consider the linear programming problem:\n",
    "\n",
    "\\begin{align*}\n",
    "\\max_{x_1, x_2 \\geq 0}  & ~ x_1 + x_2 \\\\\n",
    "\\text{s.t.} & ~ 2 x_1 + x_2 \\leq 2 \\\\\n",
    "            & ~ x_1 + 2 x_2 \\leq 2.\n",
    "\\end{align*}\n"
   ]
  },
  {
   "cell_type": "markdown",
   "metadata": {
    "id": "C7g2QwXL8v70"
   },
   "source": [
    "Before even starting the algorithm, we first need to transform this linear program into one in *standard form*, that is, to replace inequality constraints with equality ones. To achieve this, we introduce slack variables $s_i$ to rewrite the problem as\n",
    "\n",
    "\\begin{align*}\n",
    "\\max_{x_1, x_2, s_1, s_2 \\geq 0}  & ~ x_1 + x_2 \\\\\n",
    "\\text{s.t.} & ~ s_1 = 2 - 2 x_1 - x_2 \\\\\n",
    "            & ~ s_2 = 2 - x_1 - 2 x_2 .\n",
    "\\end{align*}\n",
    "\n",
    "The variables $s_i$ are called *slack variables*, and the variables $x_j$ are called *decision variables*."
   ]
  },
  {
   "cell_type": "markdown",
   "metadata": {},
   "source": [
    "Linear programming problems in this standard form can be summarized by a structure called a *dictionary*, which restates the constraints and the objective by expressing $I$ variables called *basic variables* as a function of the others called *nonbasic variables*. \n",
    "\n",
    "Given that in our example<br>\n",
    "$s_1 = 2 - 2 x_1 - x_2$ and<br>\n",
    "$s_2 = 2 - x_1 - 2 x_2 $,<br>\n",
    "we see that initially, the slack basic variables are the basic ones, and the decision variables are the nonbasic ones, but this will change over time.\n",
    "\n",
    "\n",
    "We shall call $K=I+J$ the total number of variables (slack or decision variables all together), and denote $z_k$ a generic variable (which concatenates slack and decision variable), so that $z^\\top = (s^\\top,x^\\top)$. We denote $\\{ z_b \\}$ the set of basic variables, and $\\{z_n\\}$ the set of nonbasic variables.\n",
    "\n",
    "We let $B$ be the matrix formed by the set of columns of $(\\mathbf{I}_I~A)$ corresponding to basic variables and $N$ the matrix formed by set of the columns of the same matrix corresponding to the nonbasic variables, so that we have $B (x_b) + N (x_n) = d$, and thus the dictionary is given by<br>\n",
    "$ (z_b) = (t_b) - T (z_n)$<br>\n",
    "where $t=B^{-1} d$ and $T=B^{-1} N$,<br> \n",
    "and the objective is<br>\n",
    "$Obj = (c_b)^\\top B^{-1} d + ((c_n)^\\top - (c_b)^\\top B^{-1} N )z_n$.  \n"
   ]
  },
  {
   "cell_type": "markdown",
   "metadata": {},
   "source": [
    "\n",
    "We begin by defining a `Dictionary` class in Python to handle this type of data.  The expressions of the objective and of the basic variables as a function of the nonbasic ones are encoded into a *dictionary*:"
   ]
  },
  {
   "cell_type": "code",
   "execution_count": 2,
   "metadata": {
    "id": "0XnmgEk58vB5"
   },
   "outputs": [],
   "source": [
    "class Dictionary(LP):\n",
    "    def __init__(self, A_i_j, d_i, c_j , slack_var_names_i=None,decision_var_names_j=None): # s_i = d_i - A_i_j @ x_j\n",
    "        LP.__init__(self,A_i_j, d_i, c_j,decision_var_names_j,slack_var_names_i)\n",
    "        self.nonbasic = symbols(self.decision_var_names_j)\n",
    "        self.base = { Symbol('obj') : c_j @ self.nonbasic }\n",
    "        slack_exprs_i = d_i  - A_i_j @ self.nonbasic\n",
    "        self.base.update({Symbol(name): slack_exprs_i[i] for (i,name) in enumerate(self.slack_var_names_i) })\n",
    "\n",
    "    def variables(self):\n",
    "        return( list(self.base.keys())[1:] + self.nonbasic)\n",
    "\n",
    "    def display(self):\n",
    "        print('-------------------------- \\nObjective and constraints:')\n",
    "        for var in self.base:\n",
    "            print(var, '=', round_expr(self.base[var],2))"
   ]
  },
  {
   "cell_type": "markdown",
   "metadata": {
    "id": "W_8CJG1l8t7u"
   },
   "source": [
    "We then define the dictionary corresponding to our example."
   ]
  },
  {
   "cell_type": "code",
   "execution_count": 3,
   "metadata": {
    "colab": {
     "base_uri": "https://localhost:8080/"
    },
    "id": "Bk4oGpt69TI9",
    "outputId": "0705f22d-ac67-449e-df30-daffdd2edc1b"
   },
   "outputs": [
    {
     "name": "stdout",
     "output_type": "stream",
     "text": [
      "-------------------------- \n",
      "Objective and constraints:\n",
      "obj = x_1 + x_2\n",
      "s_1 = -2*x_1 - x_2 + 2\n",
      "s_2 = -x_1 - 2*x_2 + 2\n"
     ]
    }
   ],
   "source": [
    "def build_simple_example():\n",
    "    return ({'A_i_j': np.array([[2, 1], [1, 2]]),\n",
    "            'd_i': np.array([2,2]),\n",
    "            'c_j': np.array([1,1])\n",
    "           })\n",
    "\n",
    "dictionary_example = Dictionary(**build_simple_example(),\n",
    "                                slack_var_names_i = ['s_1', 's_2'],\n",
    "                                decision_var_names_j = ['x_1', 'x_2']\n",
    "                                )\n",
    "\n",
    "dictionary_example.display()"
   ]
  },
  {
   "cell_type": "markdown",
   "metadata": {
    "id": "18VVg1KnOgp5"
   },
   "source": [
    "## 1.2 Description of the algorithm\n",
    "\n",
    "Let's take a step-by-step approach to understand the simplex algorithm.\n",
    "Along the way, we will also code these steps.\n",
    "\n",
    "#### **Step 1: Initialize.**\n",
    "Our first step is to establish a (feasible) starting point. There is an obvious one which consists in setting $x_1 = x_2 = 0$ and $s_1 = 2$, $s_2 = 2$. This starting point is called a *basic feasible solution* because it is zero outside of the basic variables. The value of the objective at this solution is $0$.\n",
    "\n",
    "We create a method which computes the basic feasible solution associated with a dictionary, as well as the value of the objective at this solution."
   ]
  },
  {
   "cell_type": "code",
   "execution_count": 4,
   "metadata": {
    "colab": {
     "base_uri": "https://localhost:8080/"
    },
    "id": "CzIHclYOOgp6",
    "outputId": "561b42d0-98c5-4e09-e4a3-ec5313ae1c58"
   },
   "outputs": [],
   "source": [
    "def Dictionary_primal_solution(self, verbose=0):\n",
    "    x_j = np.zeros(self.nbj)\n",
    "    for j,var in enumerate(symbols(self.decision_var_names_j)):\n",
    "        x_j[j]=float( self.base.get(var,sympy.Integer(0)).subs([(variable,0) for variable in self.nonbasic]) )\n",
    "        if verbose > 0:\n",
    "            print(var, '=', x_j[j])\n",
    "    return x_j\n",
    "\n",
    "Dictionary.primal_solution = Dictionary_primal_solution"
   ]
  },
  {
   "cell_type": "markdown",
   "metadata": {
    "id": "A9AV61IMOgp6"
   },
   "source": [
    "We plot the feasible region and our initial solution using:\n"
   ]
  },
  {
   "cell_type": "code",
   "execution_count": 5,
   "metadata": {
    "colab": {
     "base_uri": "https://localhost:8080/",
     "height": 435
    },
    "id": "iR-D9joP6NXb",
    "outputId": "88a9e1a3-6d1c-4e72-d53a-b57c261a4834"
   },
   "outputs": [
    {
     "name": "stdout",
     "output_type": "stream",
     "text": [
      "x_1 = 0.0\n",
      "x_2 = 0.0\n"
     ]
    },
    {
     "data": {
      "image/png": "[encoded data removed]",
      "text/plain": [
       "<Figure size 500x500 with 1 Axes>"
      ]
     },
     "metadata": {},
     "output_type": "display_data"
    }
   ],
   "source": [
    "path_example = [dictionary_example.primal_solution(verbose=1)]\n",
    "dictionary_example.plot2d(path_example)"
   ]
  },
  {
   "cell_type": "markdown",
   "metadata": {
    "id": "in7Rbjge88k7"
   },
   "source": [
    "#### **Step 2: Entering variable.**\n",
    "We want to grow a nonbasic variable in order to increase our objective. This variable is called *entering variable*. This growth will be offset by an adjustment in the basic variables. Any nonbasic variable whose coefficient in the objective is positive is therefore a potential entering variable.\n",
    "\n",
    "There are several ways to choose the entering variable. One possibility is to choose the variable that has the highest coefficient in the objective.\n",
    "\n",
    "Another method is to follow *Bland's rule*, i.e. to select the first variable (in the alphabetical order) which has a positive coefficient in the objective. This method is the safest as it prevents the algorithm from cycling in some pathological cases, and therefore we will implement it here.\n",
    "\n",
    "Recall that the objective in our example is $x_1 + x_2$, and therefore Bland's rule selects $x_1$ as the entering variable."
   ]
  },
  {
   "cell_type": "code",
   "execution_count": 6,
   "metadata": {
    "colab": {
     "base_uri": "https://localhost:8080/",
     "height": 36
    },
    "id": "0r30XChw1OaL",
    "outputId": "2dfcdf53-69bc-4459-cc11-7df6124d8f2b"
   },
   "outputs": [
    {
     "data": {
      "text/latex": [
       "$\\displaystyle x_{1}$"
      ],
      "text/plain": [
       "x_1"
      ]
     },
     "execution_count": 6,
     "metadata": {},
     "output_type": "execute_result"
    }
   ],
   "source": [
    "def Dictionary_determine_entering(self):\n",
    "    self.nonbasic.sort(key=str) # Bland's rule\n",
    "    for entering_var in self.nonbasic:\n",
    "        if diff(self.base[Symbol('obj')],entering_var) > 0 :\n",
    "            return entering_var\n",
    "    return None # If no entering variable found, None returned\n",
    "\n",
    "Dictionary.determine_entering = Dictionary_determine_entering\n",
    "\n",
    "entering_var = dictionary_example.determine_entering()\n",
    "entering_var"
   ]
  },
  {
   "cell_type": "markdown",
   "metadata": {
    "id": "INYg4--r1I3j"
   },
   "source": [
    "#### **Step 3: Departing variable.**\n",
    "Recall, the increase in the nonbasic variable $x_1$ needs to be offset by an adjustment in the basic variables. Here, the basic variables are the slack variables $s_i$. More precisely, if we set $x_1>0$, we need to adjust $s_i$ by $- A_{i1} x_1$. If $A_{i1}\\leq 0$, this does not threaten the feasibility constraint $s_i \\geq 0$, but if $A_{i1}>0$, it does. Hence we shall increase the value of $x_1$ until we hit any of the constraints $s_i \\geq 0$. Recall:\n",
    "\n",
    "\\begin{align*}\n",
    "s_1 &= 2 - 2 x_1 - x_2 \\\\\n",
    "s_2 &= 2 - x_1 - 2 x_2.\n",
    "\\end{align*}\n",
    "\n",
    "Note that we keep $x_2=0$ along the way. Here it is the constraint $s_1 \\geq 0$ which will hit first (for $x_1 = 1$). Therefore we choose $s_1$ as our *departing variable*.\n",
    "\n",
    "In general, if $n^\\star$ is the entering variable, the formula for determining the departing variable is\n",
    "\n",
    "$b^\\star = \\arg\\min_{b} \\left\\{ \\frac {t_b} {T_{b \\, n^\\star}} : T_{b \\, n^\\star} > 0  \\right\\}$.\n",
    "\n",
    "We code this into:"
   ]
  },
  {
   "cell_type": "code",
   "execution_count": 7,
   "metadata": {
    "colab": {
     "base_uri": "https://localhost:8080/",
     "height": 36
    },
    "id": "g2oygb0o6JEd",
    "outputId": "4c880339-441e-42e4-d9e2-c4f1a5d29398"
   },
   "outputs": [
    {
     "data": {
      "text/latex": [
       "$\\displaystyle s_{1}$"
      ],
      "text/plain": [
       "s_1"
      ]
     },
     "execution_count": 7,
     "metadata": {},
     "output_type": "execute_result"
    }
   ],
   "source": [
    "def Dictionary_determine_departing(self,entering_var):\n",
    "    runmin = float('inf')\n",
    "    departing_var = None\n",
    "    for var in self.base.keys() - {Symbol('obj')}:\n",
    "        the_expr_list = solve(self.base[var] - var,entering_var)\n",
    "        if the_expr_list: # if one can invert the previous expression\n",
    "            the_expr = the_expr_list[0] # express entering variable as a function of the other ones:\n",
    "            val_entering_var = the_expr.subs([ (variable,0) for variable in [var]+self.nonbasic])\n",
    "            if (val_entering_var >= 0) & (val_entering_var < runmin) :\n",
    "                runmin,departing_var = val_entering_var, var\n",
    "    return departing_var # if no variable is found, None returned\n",
    "\n",
    "Dictionary.determine_departing = Dictionary_determine_departing\n",
    "\n",
    "departing_var = dictionary_example.determine_departing(entering_var)\n",
    "departing_var"
   ]
  },
  {
   "cell_type": "markdown",
   "metadata": {
    "id": "3ZmiyS9e6KgT"
   },
   "source": [
    "#### **Step 4: Updating.**\n",
    "We reformulate our problem with our new basis $(x_1, s_2)$. We use the constraint associated with our departing variable $s_1$ as a pivot to eliminate the entering variable $x_1$ from the other equalities:\n",
    "\n",
    "\\begin{matrix}\n",
    "&\\tfrac{1}{2}s_1  &       &~+ x_1 &+~ \\tfrac{1}{2} x_2 &= 1 \\\\\n",
    "&-\\tfrac{1}{2}s_1 &+~ s_2 &       &+~ \\tfrac{3}{2} x_2 &= 1\n",
    "\\end{matrix}\n",
    "\n",
    "and we rewrite the objective as a function of the new nonbasic variables:\n",
    "\n",
    "\\begin{align*}\n",
    "x_1 + x_2\n",
    "&= \\left(1 - \\tfrac{1}{2}s_1 - \\tfrac{1}{2}x_2\\right) + x_2 \\\\\n",
    "&= 1 + \\tfrac{1}{2}x_2 - \\tfrac{1}{2}s_1.\n",
    "\\end{align*}\n",
    "\n",
    "In general, once the entering variable $n^\\star$ and the departing variable $b^\\star$ have been determined, we need to update our set of nonbasic variables by removing $b^\\star$ from it and adding $n^\\star$. We also need to update our dictionary with the expression of our entering variable,\n",
    "\n",
    "$z_{n^\\star}\n",
    "= \\frac {t_{b^\\star}} {T_{b^\\star n^\\star}}\n",
    "- \\sum_{n \\neq n^\\star} \\frac {T_{b^\\star n}} {T_{b^\\star n^\\star}} z_n\n",
    "- \\frac {z_{b^\\star}} {T_{b^\\star n^\\star}}$\n",
    "\n",
    "and substituting out this expression in\n",
    "\n",
    "$z_b = t_b - \\sum_n T_{bn} z_n, \\quad b \\neq b^\\star$\n",
    "\n",
    "yields the expression of the new basic variables as a function of the new nonbasic variables."
   ]
  },
  {
   "cell_type": "code",
   "execution_count": 8,
   "metadata": {
    "colab": {
     "base_uri": "https://localhost:8080/"
    },
    "id": "S6p_H4Vg8j8c",
    "outputId": "94c712ac-f571-4309-bd0c-d64d7b273ac4"
   },
   "outputs": [
    {
     "name": "stdout",
     "output_type": "stream",
     "text": [
      "Entering = x_1; departing = s_1\n",
      "x_1 = -0.5*s_1 - 0.5*x_2 + 1\n",
      "-------------------------- \n",
      "Objective and constraints:\n",
      "obj = -0.5*s_1 + 0.5*x_2 + 1\n",
      "s_2 = 0.5*s_1 - 1.5*x_2 + 1\n",
      "x_1 = -0.5*s_1 - 0.5*x_2 + 1\n"
     ]
    }
   ],
   "source": [
    "def Dictionary_pivot(self,entering_var,departing_var, verbose = 0):\n",
    "    expr_entering = solve(self.base[departing_var] - departing_var,entering_var)[0]\n",
    "    for var in self.base:\n",
    "        self.base[var] = self.base[var].subs([(entering_var, expr_entering)])\n",
    "    self.base[entering_var] = expr_entering\n",
    "    del self.base[departing_var]\n",
    "    self.nonbasic.remove(entering_var)\n",
    "    self.nonbasic.append(departing_var)\n",
    "    if verbose > 0:\n",
    "        print('Entering = ' + str( entering_var)+'; departing = '+ str( departing_var))\n",
    "    if verbose > 1:\n",
    "        print(str( entering_var)+' = '+str(round_expr(expr_entering,2)))\n",
    "    return expr_entering\n",
    "\n",
    "Dictionary.pivot = Dictionary_pivot\n",
    "\n",
    "expr_entering_var = dictionary_example.pivot(entering_var,departing_var,verbose = 2)\n",
    "\n",
    "dictionary_example.display()"
   ]
  },
  {
   "cell_type": "markdown",
   "metadata": {
    "id": "-iyU4tinYg75"
   },
   "source": [
    "This completes one iteration of the algorithm."
   ]
  },
  {
   "cell_type": "markdown",
   "metadata": {
    "id": "XjDwx93pq43z"
   },
   "source": [
    "### Iterating\n",
    "\n",
    "The transformed program is now:\n",
    "\n",
    "\\begin{align*}\n",
    "\\max_{x_1, x_2, s_1, s_2 \\geq 0}  & ~ 1 + \\tfrac{1}{2}x_2 - \\tfrac{1}{2}s_1 \\\\\n",
    "\\text{s.t.} & ~ x_1 = 1 - \\tfrac{1}{2} x_2 - \\tfrac{1}{2} s_1 \\\\\n",
    "            & ~ s_2 = 1 - \\tfrac{3}{2} x_2 + \\tfrac{1}{2}s_1 .\n",
    "\\end{align*}\n",
    "\n",
    "Our new basic feasible solution is $x_2 = s_1 = 0$ (nonbasic variables) and $x_1 = 1$, $s_2 = 1$ (basic variables). The value of the objective is $1$.\n"
   ]
  },
  {
   "cell_type": "markdown",
   "metadata": {
    "id": "AqFmiHtWDxBW"
   },
   "source": [
    "\n",
    "Let's look at the path that the algorithm took using the graph."
   ]
  },
  {
   "cell_type": "code",
   "execution_count": 9,
   "metadata": {
    "colab": {
     "base_uri": "https://localhost:8080/",
     "height": 517
    },
    "id": "DbPvkDxRYq8G",
    "outputId": "6bbde542-b9da-4d4d-e3e8-1193f125c986"
   },
   "outputs": [
    {
     "name": "stdout",
     "output_type": "stream",
     "text": [
      "x_1 = 1.0\n",
      "x_2 = 0.0\n"
     ]
    },
    {
     "data": {
      "image/png": "[encoded data removed]",
      "text/plain": [
       "<Figure size 500x500 with 1 Axes>"
      ]
     },
     "metadata": {},
     "output_type": "display_data"
    }
   ],
   "source": [
    "currentx_j = dictionary_example.primal_solution(verbose=2)\n",
    "path_example.append(currentx_j)\n",
    "dictionary_example.plot2d(path_example)"
   ]
  },
  {
   "cell_type": "markdown",
   "metadata": {
    "id": "IYLPRwSB9dx0"
   },
   "source": [
    "We can now repeat the process on the new program. Since the coefficient of $x_2$ in our new objective is positive, we now choose $x_2$ as an entering variable. In that case, the constraint associated with the basic variable $s_2$ will hit first, so $s_2$ will be our departing variable.\n",
    "\n",
    "The pivot operation yields\n",
    "\n",
    "\\begin{matrix}\n",
    "&\\tfrac{2}{3}s_1  &-~ \\tfrac{1}{3} s_2       &~+ x_1 & &= \\tfrac{2}{3} \\\\\n",
    "&-\\tfrac{1}{3}s_1 &+~ \\tfrac{2}{3} s_2 &       &+~ x_2 &= \\tfrac{2}{3}\n",
    "\\end{matrix}\n",
    "\n",
    "and the new objective is\n",
    "\n",
    "\\begin{align*}\n",
    "1 + \\tfrac{1}{2}x_2 - \\tfrac{1}{2}s_1\n",
    "&= 1 + \\tfrac{1}{2}\\left(\\tfrac{2}{3} + \\tfrac{1}{3}s_1 - \\tfrac{2}{3}s_2\\right) - \\tfrac{1}{2}s_1 \\\\\n",
    "&= \\tfrac{4}{3} - \\tfrac{1}{3}s_1 - \\tfrac{1}{3}s_2.\n",
    "\\end{align*}\n",
    "\n",
    "We encode this second iteration as:"
   ]
  },
  {
   "cell_type": "code",
   "execution_count": 10,
   "metadata": {},
   "outputs": [],
   "source": [
    "def Dictionary_step(self,verbose=0):\n",
    "    entering_var = self.determine_entering()\n",
    "    if entering_var is None:\n",
    "        print('Optimal solution found.\\n=======================')\n",
    "        self.primal_solution(verbose)\n",
    "    else:\n",
    "        departing_var = self.determine_departing(entering_var)\n",
    "        if departing_var is None:\n",
    "            print('Unbounded solution.')\n",
    "        else:\n",
    "            expr_entering_var = self.pivot(entering_var,departing_var, verbose)\n",
    "            return False # not finished\n",
    "    return True # finished\n",
    "\n",
    "Dictionary.step = Dictionary_step"
   ]
  },
  {
   "cell_type": "code",
   "execution_count": 11,
   "metadata": {
    "colab": {
     "base_uri": "https://localhost:8080/",
     "height": 550
    },
    "id": "-RwTfmmlhcFh",
    "outputId": "3c60656c-e6e2-4887-b240-b821f3df1115"
   },
   "outputs": [
    {
     "name": "stdout",
     "output_type": "stream",
     "text": [
      "Entering = x_2; departing = s_2\n",
      "x_2 = 0.33*s_1 - 0.67*s_2 + 0.67\n",
      "x_1 = 0.6666666666666666\n",
      "x_2 = 0.6666666666666666\n"
     ]
    },
    {
     "data": {
      "image/png": "[encoded data removed]",
      "text/plain": [
       "<Figure size 500x500 with 1 Axes>"
      ]
     },
     "metadata": {},
     "output_type": "display_data"
    }
   ],
   "source": [
    "dictionary_example.step( verbose=2)\n",
    "\n",
    "path_example.append( dictionary_example.primal_solution(verbose=1) )\n",
    "dictionary_example.plot2d(path_example)"
   ]
  },
  {
   "cell_type": "markdown",
   "metadata": {
    "id": "q_5eppZSiMXF"
   },
   "source": [
    "Our new basic feasible solution is $s_1 = s_2 = 0$ (nonbasic variables) and $x_1 = \\tfrac{2}{3}$, $x_2 = \\tfrac{2}{3}$ (basic variables). But because the coefficients of the nonbasic variables in the objective are negative, we cannot increase it anymore: the algorithm stops."
   ]
  },
  {
   "cell_type": "markdown",
   "metadata": {
    "id": "od8jJs_t9-Pl"
   },
   "source": [
    "### Geometric interpretation\n",
    "\n",
    "The simplex algorithm has a simple geometric interpretation.\n",
    "\n",
    "The feasible set of the linear programming problem, delimited by its constraints, forms a polygon in $\\mathbb R^2$ (a polyhedron in $\\mathbb R^3$, etc.).\n",
    "\n",
    "We start from one of the corners of this polygon. At each iteration of the algorithm, we move along the edge of the polygon to a neighboring corner, always moving in the direction that most increases the value of the objective function. When it reaches the corner with the highest possible value of the objective function, the algorithm stops, and we have our solution.\n",
    "\n",
    "The simplex algorithm must stop eventually since there is a finite limited number of corners. Furthermore, it can be shown that if a corner isn't a maximum, then there must be an adjoining edge leading to a higher value of the objective function. This guarantees that the end point of the algorithm is indeed an optimal solution."
   ]
  },
  {
   "cell_type": "markdown",
   "metadata": {},
   "source": [
    "We verify this with our code that there is no entering variable anymore."
   ]
  },
  {
   "cell_type": "code",
   "execution_count": 12,
   "metadata": {
    "colab": {
     "base_uri": "https://localhost:8080/"
    },
    "id": "yNS_h09LiFj5",
    "outputId": "d2dcf2b5-315b-4bc9-c83c-c3c03412309d"
   },
   "outputs": [
    {
     "name": "stdout",
     "output_type": "stream",
     "text": [
      "Entering = None\n"
     ]
    },
    {
     "data": {
      "text/plain": [
       "array([0.66666667, 0.66666667])"
      ]
     },
     "execution_count": 12,
     "metadata": {},
     "output_type": "execute_result"
    }
   ],
   "source": [
    "print('Entering =',dictionary_example.determine_entering())\n",
    "dictionary_example.primal_solution()"
   ]
  },
  {
   "cell_type": "markdown",
   "metadata": {
    "id": "ON3ZsdVrlASD"
   },
   "source": [
    "The value of the initial problem is thus $\\tfrac{4}{3}$, and the optimal solution is\n",
    "\n",
    "\\begin{equation}\n",
    "  x_1^* = x_2^* = \\tfrac{2}{3}.\n",
    "\\end{equation}"
   ]
  },
  {
   "cell_type": "markdown",
   "metadata": {},
   "source": [
    "# 2. Dual simplex\n",
    "\n",
    "The dual program is\n",
    "\n",
    "\n",
    "\\begin{align}\n",
    "\\min_{(y_j) \\geq 0} & d^\\top y  \\\\\n",
    "\\text{s.t.} & ~ A ^\\top y \\geq c\n",
    "\\end{align}\n",
    "\n",
    "and we introduce dual slack variables\n",
    "\n",
    "$t_j = (A^\\top y)_j - c_j$\n",
    "\n",
    "After adding the slack variables, the constraint matrix becomes $[A^\\top ~ I]$. This is a $J \\times (I+J)$ matrix, which has $J$ free columns, and thus it is of rank $J$. Therefore a dual basis will be of cardinality $J$ -- in contrast with the primal basis, which is of cardinality $I$.\n",
    "\n",
    "\n",
    "## 2.1 Dual dictionary\n",
    "An initial dual basis is provided by the dual slack variables $t_j$. We note that at step zero, the dual basis $(t_j)$ is in an a one-to-one correspondence with the complement of the primal basis, which is $(s_i)$. Indeed, we associate an nonbasic primal variable $x_j$ to each basic dual variable $t_j$, and a basic primal variable $t_i$ to each nonbasic dual variable $y_i$."
   ]
  },
  {
   "cell_type": "code",
   "execution_count": 13,
   "metadata": {},
   "outputs": [
    {
     "name": "stdout",
     "output_type": "stream",
     "text": [
      "{s_1: y_1, s_2: y_2, x_1: t_1, x_2: t_2}\n"
     ]
    }
   ],
   "source": [
    "A_i_j,d_i,c_j = build_simple_example().values()\n",
    "\n",
    "primal_dictionary = Dictionary(A_i_j,d_i,c_j ,\n",
    "                                slack_var_names_i = ['s_1', 's_2'],\n",
    "                                decision_var_names_j = ['x_1', 'x_2']\n",
    "                                )\n",
    "\n",
    "dual_dictionary = Dictionary(A_i_j.T,c_j ,d_i,\n",
    "                                slack_var_names_i = ['t_1', 't_2'],\n",
    "                                decision_var_names_j = ['y_1', 'y_2']\n",
    "                                )\n",
    "corresp = {Symbol(primalvar):Symbol(dualvar) \n",
    "           for (primalvar,dualvar) in zip(primal_dictionary.slack_var_names_i+primal_dictionary.decision_var_names_j,\n",
    "                                         dual_dictionary.decision_var_names_j+dual_dictionary.slack_var_names_i)}\n",
    "\n",
    "print(corresp)"
   ]
  },
  {
   "cell_type": "markdown",
   "metadata": {},
   "source": [
    "\n",
    "We will therefore re-run the simplex algorithm, but we will update the dual dictionary in addition to the primal dictionary. If a primal variable enters the primal basis, the corresponding dual variable will exit the dual basis, and conversely. "
   ]
  },
  {
   "cell_type": "code",
   "execution_count": 14,
   "metadata": {},
   "outputs": [
    {
     "name": "stdout",
     "output_type": "stream",
     "text": [
      "Entering = x_1; departing = s_1\n",
      "Entering = y_1; departing = t_1\n",
      "Entering = x_2; departing = s_2\n",
      "Entering = y_2; departing = t_2\n",
      "Optimal solution found.\n",
      "=======================\n",
      "x_1 = 0.6666666666666666\n",
      "x_2 = 0.6666666666666666\n",
      "y_1 = 0.3333333333333333\n",
      "y_2 = 0.3333333333333333\n",
      "-------------------------- \n",
      "Objective and constraints:\n",
      "obj = -0.33*s_1 - 0.33*s_2 + 1.33\n",
      "x_1 = -0.67*s_1 + 0.33*s_2 + 0.67\n",
      "x_2 = 0.33*s_1 - 0.67*s_2 + 0.67\n",
      "-------------------------- \n",
      "Objective and constraints:\n",
      "obj = -0.67*t_1 - 0.67*t_2 + 1.33\n",
      "y_1 = -0.67*t_1 + 0.33*t_2 + 0.33\n",
      "y_2 = 0.33*t_1 - 0.67*t_2 + 0.33\n"
     ]
    }
   ],
   "source": [
    "finished = False\n",
    "while not finished:    \n",
    "    entering_var = primal_dictionary.determine_entering()\n",
    "    if entering_var is None:\n",
    "        print('Optimal solution found.\\n=======================')\n",
    "        primal_dictionary.primal_solution(verbose=1)\n",
    "        dual_dictionary.primal_solution(verbose=1)\n",
    "        finished = True\n",
    "    else:\n",
    "        departing_var = primal_dictionary.determine_departing(entering_var)\n",
    "        primal_dictionary.pivot(entering_var,departing_var, verbose=1)\n",
    "        dual_dictionary.pivot(corresp[departing_var],corresp[entering_var], verbose=1)\n",
    "\n",
    "primal_dictionary.display()\n",
    "dual_dictionary.display()"
   ]
  },
  {
   "cell_type": "markdown",
   "metadata": {},
   "source": [
    "## 2.2 Recovering the dual solution from the primal dictionary\n",
    "\n",
    "In fact, we can recover the dual solution directly from the primal dictionary. Recall that the objective is<br>\n",
    "$Obj = (c_b)^\\top B^{-1} d + ((c_n)^\\top - y^\\top N )z_n$<br>\n",
    "where $y^\\top = (c_b)^\\top B^{-1}$.\n",
    "\n",
    "Therefore, we have:<br>\n",
    "$\\frac {\\partial Obj} {\\partial z_n} = c_n - (N^\\top y)_n$<br>\n",
    "but if $z_n$ is the slack variable $s_i$, we have $c_n=0$, and $N_{i^\\prime n} = 1\\{i = i^\\prime \\} $, and thus<br>\n",
    "$\\frac {\\partial Obj} {\\partial z_n} = -y_i$."
   ]
  },
  {
   "cell_type": "code",
   "execution_count": 15,
   "metadata": {},
   "outputs": [
    {
     "name": "stdout",
     "output_type": "stream",
     "text": [
      "pi_0= 0.3333333333333333\n",
      "pi_1= 0.3333333333333333\n"
     ]
    },
    {
     "data": {
      "text/plain": [
       "array([0.33333333, 0.33333333])"
      ]
     },
     "execution_count": 15,
     "metadata": {},
     "output_type": "execute_result"
    }
   ],
   "source": [
    "def Dictionary_dual_solution(self,verbose = 0):\n",
    "    y_i = np.zeros(self.nbi)\n",
    "    for i,slackvar in enumerate(self.slack_var_names_i):\n",
    "        y_i[i] = - diff(self.base[Symbol('obj')],slackvar)\n",
    "        if verbose > 0 and y_i[i] != 0:\n",
    "            print('pi_'+str(i)+'=', y_i[i])\n",
    "    return y_i\n",
    "\n",
    "Dictionary.dual_solution = Dictionary_dual_solution\n",
    "\n",
    "dictionary_example.dual_solution(verbose=1)"
   ]
  },
  {
   "cell_type": "markdown",
   "metadata": {
    "id": "RQiP_qF-Btrb"
   },
   "source": [
    "# 3. Complements\n",
    "\n",
    "## 3.1 A more complex example\n",
    "\n",
    "Consider a slightly more complex example:\n",
    "\n",
    "\\begin{align*}\n",
    "\\max_{x_1, x_2 \\geq 0}  & ~ 3 x_1 + 2 x_2 \\\\\n",
    "\\text{s.t.} & ~ \\cos\\left(\\tfrac{k}{K}\\tfrac{\\pi}{2}\\right) x_1 + \\sin\\left(\\tfrac{k}{K}\\tfrac{\\pi}{2}\\right) x_2 \\leq 1, \\quad k = 0, \\dots, K.\n",
    "\\end{align*}\n",
    "\n",
    "The constraints actually correspond to $K+1$ tangents to the circle of equation $x_1^2 + x_2^2 = 1$. Therefore, it is as if we were approximating the nonlinear constraint $x_1^2 + x_2^2 \\leq 1$."
   ]
  },
  {
   "cell_type": "markdown",
   "metadata": {
    "id": "1qLZKqLlfxCy"
   },
   "source": [
    "We code a complete iteration of the simplex algorithm with `Dictionary_loop`, and finally we code the complete simplex algorithm by repeating this loop until there is no entering variable anymore."
   ]
  },
  {
   "cell_type": "code",
   "execution_count": 16,
   "metadata": {},
   "outputs": [],
   "source": [
    "def Dictionary_simplex_loop(self,verbose = 0):\n",
    "    if verbose >2:\n",
    "        [x1,x2] = symbols(self.decision_var_names_j)\n",
    "        the_path = [self.primal_solution()]\n",
    "    finished = False\n",
    "    while not finished:\n",
    "        finished = self.step()\n",
    "        if verbose>2:\n",
    "            the_path.append(self.primal_solution())\n",
    "    objVal = self.base[Symbol('obj')].subs([ (variable,0) for variable in self.nonbasic])\n",
    "    if verbose>0:\n",
    "        print('\\nValue = ' + str(objVal))\n",
    "    if verbose >2:\n",
    "        self.plot2d(the_path, legend=False)\n",
    "    return (self.primal_solution(),self.dual_solution(),objVal)\n",
    "    \n",
    "\n",
    "Dictionary.simplex_loop = Dictionary_simplex_loop"
   ]
  },
  {
   "cell_type": "code",
   "execution_count": 17,
   "metadata": {
    "colab": {
     "base_uri": "https://localhost:8080/",
     "height": 814
    },
    "id": "KgQK6cAhBver",
    "outputId": "98eea75e-f2b3-4dfc-a563-0b00ea070157"
   },
   "outputs": [
    {
     "name": "stdout",
     "output_type": "stream",
     "text": [
      "Optimal solution found.\n",
      "=======================\n",
      "\n",
      "Value = 3.61405855890019\n"
     ]
    },
    {
     "data": {
      "image/png": "[encoded data removed]",
      "text/plain": [
       "<Figure size 500x500 with 1 Axes>"
      ]
     },
     "metadata": {},
     "output_type": "display_data"
    },
    {
     "data": {
      "text/plain": [
       "(array([0.8552767 , 0.52411423]),\n",
       " array([0.        , 0.        , 0.        , 0.9289626 , 2.68509595,\n",
       "        0.        , 0.        , 0.        , 0.        , 0.        ,\n",
       "        0.        ]),\n",
       " 3.61405855890019)"
      ]
     },
     "execution_count": 17,
     "metadata": {},
     "output_type": "execute_result"
    }
   ],
   "source": [
    "T = 10\n",
    "\n",
    "dictionary_example2 = Dictionary(A_i_j = np.array([(float(cos(t/T*pi/2)), float(sin(t/T*pi/2))) for t in range(0, T+1)]),\n",
    "                                 d_i = np.ones(T+1),\n",
    "                                 c_j = np.array([3,2]),\n",
    "                                 slack_var_names_i = ['s_'+str(t) for t in range(0,T+1)],\n",
    "                                 decision_var_names_j = ['x_1', 'x_2'])\n",
    "\n",
    "dictionary_example2.simplex_loop(verbose=3)\n"
   ]
  },
  {
   "cell_type": "code",
   "execution_count": 18,
   "metadata": {},
   "outputs": [
    {
     "data": {
      "text/plain": [
       "array([0.8552767 , 0.52411423])"
      ]
     },
     "execution_count": 18,
     "metadata": {},
     "output_type": "execute_result"
    }
   ],
   "source": [
    "dictionary_example2.primal_solution()"
   ]
  },
  {
   "cell_type": "markdown",
   "metadata": {
    "id": "F82rdD4vCgU9"
   },
   "source": [
    "Our algorithm still works -- however we see that it becomes quite slow for higher values of $K$ -- not surprising, given that it had to visit a large number of intermediate vertices before reaching the solution."
   ]
  },
  {
   "cell_type": "markdown",
   "metadata": {
    "id": "dEg6YXOkNb7N"
   },
   "source": [
    "\n",
    "## 3.2 Application to the diet problem\n",
    "\n",
    "Recall the diet problem:\n",
    "\n",
    "* Assume there are nutrients $i \\in \\{1,\\dots,I\\}$ (calories, protein, calcium, iron, etc.) that matter for a person's health, in such way that the minimum daily intake of nutrient $i$ should be $d_{i}$.\n",
    "\n",
    "* Nutrients do not come as standalone elements, but are combined into various foods. One dollar worth of food $j \\in \\{1,\\dots,J\\}$ yields a quantity $N_{ij}$ of nutrient $i \\in \\{1,\\dots,I\\}$.\n",
    "\n",
    "The problem is to find the diet that achieves the minimal intake of each nutrient for the cheapest price. If $q\\in\\mathbb{R}^{J}$ is a vector such that $q_{j}\\geq0$ is the quantity of food $j$ purchased, the quantity of nutrient $i$ ingested is $\\sum_{j=1}^{J}N_{ij}q_{j}$, and the cost of the diet is $\\sum_{j=1}^{J}q_{j}$. Letting $c_j = 1$ for all $j \\in \\{1,\\dots,n\\}$, the optimal diet is therefore given by\n",
    "\n",
    "\\begin{align*}\n",
    "\\min_{q\\geq 0} & ~ c^{\\top}q \\\\\n",
    "\\text{s.t.} & ~ Nq \\geq d\n",
    "\\end{align*}\n",
    "\n",
    "which has dual\n",
    "\n",
    "\\begin{align*}\n",
    "\\max_{\\pi\\geq0} & ~ d^{\\top}\\pi \\\\\n",
    "\\text{s.t.} & ~ N^{\\top}\\pi \\leq c.\n",
    "\\end{align*}"
   ]
  },
  {
   "cell_type": "markdown",
   "metadata": {
    "id": "hyCMGHTnNb7O"
   },
   "source": [
    "We load the data using:"
   ]
  },
  {
   "cell_type": "code",
   "execution_count": 19,
   "metadata": {
    "id": "CDcxAkpDNb7O"
   },
   "outputs": [],
   "source": [
    "[N_i_j,minallowance_i,unitcost_j,_,_] = load_stigler_data(7,5).values()"
   ]
  },
  {
   "cell_type": "markdown",
   "metadata": {
    "id": "5zpveeeyNb7S"
   },
   "source": [
    "We code this up as a `Dictionary`object. First, we define the basic dual variables (the $s_j$), and the nonbasic dual variables (the $\\pi_i$) ."
   ]
  },
  {
   "cell_type": "code",
   "execution_count": 20,
   "metadata": {
    "colab": {
     "base_uri": "https://localhost:8080/"
    },
    "id": "XZbRB6MUNb7S",
    "outputId": "82e0948b-1325-4224-b7b3-b813169109de"
   },
   "outputs": [
    {
     "name": "stdout",
     "output_type": "stream",
     "text": [
      "Optimal solution found.\n",
      "=======================\n",
      "\n",
      "Value = 0.227818067377138\n"
     ]
    },
    {
     "data": {
      "text/plain": [
       "array([0.03431968, 0.        , 0.03168609, 0.        , 0.1618123 ])"
      ]
     },
     "execution_count": 20,
     "metadata": {},
     "output_type": "execute_result"
    }
   ],
   "source": [
    "stigler_dictionary = Dictionary(N_i_j.T, unitcost_j , minallowance_i,\n",
    "                             ['s_' + str(j) for j in range(N_i_j.shape[1])],\n",
    "                             ['π_' + str(i) for i in range(N_i_j.shape[0])])\n",
    "stigler_dictionary.simplex_loop(verbose=2)[1]"
   ]
  },
  {
   "cell_type": "markdown",
   "metadata": {},
   "source": [
    "### Benchmark with Gurobi"
   ]
  },
  {
   "cell_type": "markdown",
   "metadata": {
    "id": "4_sTHq4ONb7Z"
   },
   "source": [
    "We benchmark our solution with the one obtained by `Gurobi`, and verify that it is the same:"
   ]
  },
  {
   "cell_type": "code",
   "execution_count": 21,
   "metadata": {},
   "outputs": [
    {
     "name": "stdout",
     "output_type": "stream",
     "text": [
      "Set parameter Username\n",
      "Academic license - for non-commercial use only - expires 2023-12-23\n"
     ]
    },
    {
     "data": {
      "text/plain": [
       "array([0.03431968, 0.        , 0.03168609, 0.        , 0.1618123 ])"
      ]
     },
     "execution_count": 21,
     "metadata": {},
     "output_type": "execute_result"
    }
   ],
   "source": [
    "stigler_dictionary.gurobi_solve()[1]"
   ]
  },
  {
   "cell_type": "markdown",
   "metadata": {
    "id": "dUbcFd4uq6Zo"
   },
   "source": [
    "Gurobi finds the same solution as our simplex algorithm coding — although significantly faster."
   ]
  },
  {
   "cell_type": "markdown",
   "metadata": {},
   "source": [
    "# 4. Alternative implementation via tableaux\n",
    "\n",
    "\n",
    "Our implementation so far of the simplex algorithm provides a quick and intuitive version of the simplex, but the fact that it relies on `sympy` makes it extremely slow. In the sequel, we shall see a different implementation of the same algorithm using *tableaux*. \n",
    "\n",
    "\n",
    "The program in standard form is thus\n",
    "\n",
    "\\begin{align*}\n",
    "\\max_{z \\geq 0}  & ~ (0^\\top_I, c^\\top) z \\\\\n",
    "\\text{s.t.}~& ~ (\\mathbf{I_I}~A )~z = d.\n",
    "\\end{align*}\n",
    "\n",
    "At each point in the algorithm, we denote $\\{z_b\\}$ the set of basic variables, and $\\{z_n \\}$ the set of nonbasic variables, and we have<br>\n",
    "$B (z_b) + N (z_n) = d$\n",
    "\n",
    "\n",
    "A tableau is a representation of the dictionary<br>\n",
    "$ (z_b) = B^{-1} d - B^{-1} N (z_n)$<br>\n",
    "under the form<br>\n",
    "$T z  = B^{-1} d$.\n",
    "Therefore, each row of the tableau will be associated with one basic variable $b\\in B$; each column before the last of the tableau will be associated with a variable (basic or nonbasic).\n",
    "\n",
    "Each row is associated with a basic variable $b$, the entry in the column associated with that basic variable is one; the column entries associated with the other basic variables are zero; and the column entries assocaited with nonbasic variables $n$ are equal with $(B^{-1} N)_{bn}$. \n",
    "\n",
    "The tableau also stores the objective in a similar fashion<br>\n",
    "$Obj = (c_b)^\\top( B^{-1} d )+ (c_n^\\top -  B^{-1} N) (z_n)  $\n",
    "\n",
    "For practical purposes, we will append a first row of the tableau where we store the expression of the objective, and add a last column where we store the right hand side $ B^{-1} d$.  "
   ]
  },
  {
   "cell_type": "code",
   "execution_count": 22,
   "metadata": {},
   "outputs": [],
   "source": [
    "#from tabulate import tabulate\n",
    "\n",
    "class Tableau(LP):\n",
    "    def __init__(self, A_i_j, d_i, c_j,slack_var_names_i=None, decision_var_names_j = None): # s_i = d_i - (A_i_j @ x_j\n",
    "        LP.__init__(self,A_i_j, d_i, c_j,decision_var_names_j,slack_var_names_i)\n",
    "        self.nbi,self.nbj = A_i_j.shape\n",
    "        self.nbk = self.nbi+self.nbj\n",
    "        self.names_all_variables =  self.slack_var_names_i + self.decision_var_names_j\n",
    "        self.tableau = np.block([[np.zeros((1,self.nbi)), c_j.reshape((1,-1)), 0],[np.eye(self.nbi),A_i_j,d_i.reshape((-1,1))]])\n",
    "        self.k_b = list(range(self.nbi)) # columns associated with basic variables\n",
    "        self.i_b = list(range(1,1+self.nbi)) # rows associated with basic variables\n",
    "\n",
    "    def display(self):\n",
    "        tableau = []\n",
    "        tableau.append(['Obj'] + list(self.tableau[0,:])  )\n",
    "        for b in range(self.nbi):\n",
    "             tableau.append([self.names_all_variables[self.k_b[b]]]+list(self.tableau[self.i_b[b],:]) )\n",
    "        \n",
    "        print(limited_tabulate(tableau, headers=[''] + self.names_all_variables + ['RHS'], tablefmt=\"grid\"))\n",
    "        \n",
    "\n",
    "    def determine_entering(self):\n",
    "        for k in range(self.nbk):\n",
    "            if self.tableau[0,k] > 0:\n",
    "                return k\n",
    "        return None # If no entering variable found, None returned\n",
    "\n",
    "    def determine_departing(self,kent):\n",
    "        thedic = {b: self.tableau[self.i_b[b],-1] / self.tableau[self.i_b[b],kent] \n",
    "                  for b in range(self.nbi) if self.tableau[self.i_b[b],kent]>0}\n",
    "        bdep = min(thedic, key = thedic.get)\n",
    "        return bdep\n",
    "\n",
    "    def update(self,kent,bdep):\n",
    "        idep = self.i_b[bdep]\n",
    "        self.tableau[idep,:] = self.tableau[idep,:] / self.tableau[idep,kent] \n",
    "        for i in range(1+self.nbi):\n",
    "            if i != idep:\n",
    "                self.tableau[i,:]= self.tableau[i,:] - self.tableau[idep,:] * self.tableau[i,kent] \n",
    "                \n",
    "        self.k_b[bdep] = kent\n",
    "        self.i_b[bdep] = idep\n",
    "        \n",
    "    def simplex_step(self,verbose=0):\n",
    "        if verbose>1:\n",
    "            self.display()\n",
    "        kent = self.determine_entering()\n",
    "        if kent is not None:\n",
    "            bdep= self.determine_departing(kent)\n",
    "            name_entering = self.names_all_variables[kent]\n",
    "            name_departing = self.names_all_variables[self.i_b[bdep]]\n",
    "            if verbose>0:\n",
    "                print('Entering=', name_entering, 'Departing=',name_departing,'Pivot=',(self.i_b[bdep],kent))\n",
    "            self.update(kent,bdep)\n",
    "        else:\n",
    "            if verbose>0:\n",
    "                print ('Optimal solution found.')\n",
    "            if verbose>1:\n",
    "                self.display()\n",
    "        return (kent is not None) # returns false  if optimal solution; true otherwise\n",
    "\n",
    "    def simplex_solve(self,verbose=0):\n",
    "        while self.simplex_step(verbose):\n",
    "            pass\n",
    "        return self.solution()\n",
    "        \n",
    "\n",
    "    def solution(self):\n",
    "        x_j = np.zeros(self.nbj)\n",
    "        s_i = np.zeros(self.nbi)\n",
    "        for b in range(self.nbi):\n",
    "            if self.k_b[b]<self.nbi:\n",
    "                s_i[self.k_b[b]] = self.tableau[self.i_b[b],-1]\n",
    "            else:\n",
    "                x_j[self.k_b[b]-self.nbi] = self.tableau[self.i_b[b],-1]\n",
    "        y_i = - self.tableau[0,:self.nbi] \n",
    "        return(x_j,y_i,x_j@self.c_j)\n",
    "    \n"
   ]
  },
  {
   "cell_type": "code",
   "execution_count": 23,
   "metadata": {},
   "outputs": [
    {
     "name": "stdout",
     "output_type": "stream",
     "text": [
      "+-----+-------+-------+-------+-------+-------+-------+\n",
      "|     |   s_0 |   s_1 |   s_2 |   x_0 |   x_1 |   RHS |\n",
      "+=====+=======+=======+=======+=======+=======+=======+\n",
      "| Obj |     0 |     0 |     0 |     1 |     3 |     0 |\n",
      "+-----+-------+-------+-------+-------+-------+-------+\n",
      "| s_0 |     1 |     0 |     0 |     3 |     1 |     2 |\n",
      "+-----+-------+-------+-------+-------+-------+-------+\n",
      "| s_1 |     0 |     1 |     0 |     1 |     3 |     2 |\n",
      "+-----+-------+-------+-------+-------+-------+-------+\n",
      "| s_2 |     0 |     0 |     1 |     5 |     5 |     4 |\n",
      "+-----+-------+-------+-------+-------+-------+-------+\n",
      "Entering= x_0 Departing= s_1 Pivot= (1, 3)\n",
      "+-----+-----------+-------+-------+-------+----------+-----------+\n",
      "|     |       s_0 |   s_1 |   s_2 |   x_0 |      x_1 |       RHS |\n",
      "+=====+===========+=======+=======+=======+==========+===========+\n",
      "| Obj | -0.333333 |     0 |     0 |     0 | 2.66667  | -0.666667 |\n",
      "+-----+-----------+-------+-------+-------+----------+-----------+\n",
      "| x_0 |  0.333333 |     0 |     0 |     1 | 0.333333 |  0.666667 |\n",
      "+-----+-----------+-------+-------+-------+----------+-----------+\n",
      "| s_1 | -0.333333 |     1 |     0 |     0 | 2.66667  |  1.33333  |\n",
      "+-----+-----------+-------+-------+-------+----------+-----------+\n",
      "| s_2 | -1.66667  |     0 |     1 |     0 | 3.33333  |  0.666667 |\n",
      "+-----+-----------+-------+-------+-------+----------+-----------+\n",
      "Entering= x_1 Departing= x_0 Pivot= (3, 4)\n",
      "+-----+-------+-------+-------+-------+-------+-------+\n",
      "|     |   s_0 |   s_1 |   s_2 |   x_0 |   x_1 |   RHS |\n",
      "+=====+=======+=======+=======+=======+=======+=======+\n",
      "| Obj |   1   |     0 |  -0.8 |     0 |     0 |  -1.2 |\n",
      "+-----+-------+-------+-------+-------+-------+-------+\n",
      "| x_0 |   0.5 |     0 |  -0.1 |     1 |     0 |   0.6 |\n",
      "+-----+-------+-------+-------+-------+-------+-------+\n",
      "| s_1 |   1   |     1 |  -0.8 |     0 |     0 |   0.8 |\n",
      "+-----+-------+-------+-------+-------+-------+-------+\n",
      "| x_1 |  -0.5 |     0 |   0.3 |     0 |     1 |   0.2 |\n",
      "+-----+-------+-------+-------+-------+-------+-------+\n",
      "Entering= s_0 Departing= s_2 Pivot= (2, 0)\n",
      "+-----+-------+-------+-------+-------+-------+-------+\n",
      "|     |   s_0 |   s_1 |   s_2 |   x_0 |   x_1 |   RHS |\n",
      "+=====+=======+=======+=======+=======+=======+=======+\n",
      "| Obj |     0 |  -1   |   0   |     0 |     0 |  -2   |\n",
      "+-----+-------+-------+-------+-------+-------+-------+\n",
      "| x_0 |     0 |  -0.5 |   0.3 |     1 |     0 |   0.2 |\n",
      "+-----+-------+-------+-------+-------+-------+-------+\n",
      "| s_0 |     1 |   1   |  -0.8 |     0 |     0 |   0.8 |\n",
      "+-----+-------+-------+-------+-------+-------+-------+\n",
      "| x_1 |     0 |   0.5 |  -0.1 |     0 |     1 |   0.6 |\n",
      "+-----+-------+-------+-------+-------+-------+-------+\n",
      "Optimal solution found.\n",
      "+-----+-------+-------+-------+-------+-------+-------+\n",
      "|     |   s_0 |   s_1 |   s_2 |   x_0 |   x_1 |   RHS |\n",
      "+=====+=======+=======+=======+=======+=======+=======+\n",
      "| Obj |     0 |  -1   |   0   |     0 |     0 |  -2   |\n",
      "+-----+-------+-------+-------+-------+-------+-------+\n",
      "| x_0 |     0 |  -0.5 |   0.3 |     1 |     0 |   0.2 |\n",
      "+-----+-------+-------+-------+-------+-------+-------+\n",
      "| s_0 |     1 |   1   |  -0.8 |     0 |     0 |   0.8 |\n",
      "+-----+-------+-------+-------+-------+-------+-------+\n",
      "| x_1 |     0 |   0.5 |  -0.1 |     0 |     1 |   0.6 |\n",
      "+-----+-------+-------+-------+-------+-------+-------+\n"
     ]
    },
    {
     "data": {
      "text/plain": [
       "(array([0.2, 0.6]), array([-0.,  1., -0.]), 2.0)"
      ]
     },
     "execution_count": 23,
     "metadata": {},
     "output_type": "execute_result"
    }
   ],
   "source": [
    "tableau_ex = Tableau(np.array([[3, 1], [1, 3], [5,5]]),np.array([2,2,4]),np.array([1,3]))\n",
    "tableau_ex.simplex_solve(verbose = 2)"
   ]
  },
  {
   "cell_type": "markdown",
   "metadata": {},
   "source": [
    "Compare with Gurobi:"
   ]
  },
  {
   "cell_type": "code",
   "execution_count": 24,
   "metadata": {},
   "outputs": [
    {
     "data": {
      "text/plain": [
       "(array([0.        , 0.66666667]), array([0., 1., 0.]), 2.0)"
      ]
     },
     "execution_count": 24,
     "metadata": {},
     "output_type": "execute_result"
    }
   ],
   "source": [
    "tableau_ex.gurobi_solve()"
   ]
  },
  {
   "cell_type": "markdown",
   "metadata": {},
   "source": [
    "## Another example"
   ]
  },
  {
   "cell_type": "code",
   "execution_count": 25,
   "metadata": {},
   "outputs": [
    {
     "name": "stdout",
     "output_type": "stream",
     "text": [
      "+-----+-------+-------+-------+-------+-------+\n",
      "|     |   s_0 |   s_1 |   x_0 |   x_1 |   RHS |\n",
      "+=====+=======+=======+=======+=======+=======+\n",
      "| Obj |     0 |     0 |     3 |     2 |     0 |\n",
      "+-----+-------+-------+-------+-------+-------+\n",
      "| s_0 |     1 |     0 |     1 |     1 |     4 |\n",
      "+-----+-------+-------+-------+-------+-------+\n",
      "| s_1 |     0 |     1 |     2 |     1 |     6 |\n",
      "+-----+-------+-------+-------+-------+-------+\n",
      "Entering= x_0 Departing= x_0 Pivot= (2, 2)\n",
      "+-----+-------+-------+-------+-------+-------+\n",
      "|     |   s_0 |   s_1 |   x_0 |   x_1 |   RHS |\n",
      "+=====+=======+=======+=======+=======+=======+\n",
      "| Obj |     0 |  -1.5 |     0 |   0.5 |    -9 |\n",
      "+-----+-------+-------+-------+-------+-------+\n",
      "| s_0 |     1 |  -0.5 |     0 |   0.5 |     1 |\n",
      "+-----+-------+-------+-------+-------+-------+\n",
      "| x_0 |     0 |   0.5 |     1 |   0.5 |     3 |\n",
      "+-----+-------+-------+-------+-------+-------+\n",
      "Entering= x_1 Departing= s_1 Pivot= (1, 3)\n",
      "+-----+-------+-------+-------+-------+-------+\n",
      "|     |   s_0 |   s_1 |   x_0 |   x_1 |   RHS |\n",
      "+=====+=======+=======+=======+=======+=======+\n",
      "| Obj |    -1 |    -1 |     0 |     0 |   -10 |\n",
      "+-----+-------+-------+-------+-------+-------+\n",
      "| x_1 |     2 |    -1 |     0 |     1 |     2 |\n",
      "+-----+-------+-------+-------+-------+-------+\n",
      "| x_0 |    -1 |     1 |     1 |     0 |     2 |\n",
      "+-----+-------+-------+-------+-------+-------+\n",
      "Optimal solution found.\n",
      "+-----+-------+-------+-------+-------+-------+\n",
      "|     |   s_0 |   s_1 |   x_0 |   x_1 |   RHS |\n",
      "+=====+=======+=======+=======+=======+=======+\n",
      "| Obj |    -1 |    -1 |     0 |     0 |   -10 |\n",
      "+-----+-------+-------+-------+-------+-------+\n",
      "| x_1 |     2 |    -1 |     0 |     1 |     2 |\n",
      "+-----+-------+-------+-------+-------+-------+\n",
      "| x_0 |    -1 |     1 |     1 |     0 |     2 |\n",
      "+-----+-------+-------+-------+-------+-------+\n"
     ]
    },
    {
     "data": {
      "text/plain": [
       "(array([2., 2.]), array([1., 1.]), 10.0)"
      ]
     },
     "execution_count": 25,
     "metadata": {},
     "output_type": "execute_result"
    }
   ],
   "source": [
    "other_ex = Tableau(np.array([[1, 1], [2, 1]]),np.array([4,6]),np.array([3,2]))\n",
    "other_ex.simplex_solve(verbose=2)"
   ]
  },
  {
   "cell_type": "code",
   "execution_count": 26,
   "metadata": {},
   "outputs": [
    {
     "data": {
      "text/plain": [
       "(array([2., 2.]), array([1., 1.]), 10.0)"
      ]
     },
     "execution_count": 26,
     "metadata": {},
     "output_type": "execute_result"
    }
   ],
   "source": [
    "other_ex.gurobi_solve()"
   ]
  },
  {
   "cell_type": "markdown",
   "metadata": {},
   "source": [
    "## Back to the diet problem\n",
    "\n",
    "If we go back to the Stigler diet problem, we can appreciate how much faster we are."
   ]
  },
  {
   "cell_type": "code",
   "execution_count": 27,
   "metadata": {},
   "outputs": [
    {
     "data": {
      "text/plain": [
       "array([ 0.03431968, -0.        ,  0.03168609, -0.        ,  0.1618123 ])"
      ]
     },
     "execution_count": 27,
     "metadata": {},
     "output_type": "execute_result"
    }
   ],
   "source": [
    "stigler_tableau = Tableau(N_i_j.T, unitcost_j , minallowance_i,\n",
    "                             ['s_' + str(j) for j in range(N_i_j.shape[1])],\n",
    "                             ['π_' + str(i) for i in range(N_i_j.shape[0])])\n",
    "\n",
    "stigler_tableau.simplex_solve()[1]"
   ]
  },
  {
   "cell_type": "code",
   "execution_count": 28,
   "metadata": {},
   "outputs": [
    {
     "data": {
      "text/plain": [
       "array([0.03431968, 0.        , 0.03168609, 0.        , 0.1618123 ])"
      ]
     },
     "execution_count": 28,
     "metadata": {},
     "output_type": "execute_result"
    }
   ],
   "source": [
    "stigler_tableau.gurobi_solve()[1]"
   ]
  }
 ],
 "metadata": {
  "colab": {
   "provenance": [],
   "toc_visible": true
  },
  "kernelspec": {
   "display_name": "Python 3 (ipykernel)",
   "language": "python",
   "name": "python3"
  },
  "language_info": {
   "codemirror_mode": {
    "name": "ipython",
    "version": 3
   },
   "file_extension": ".py",
   "mimetype": "text/x-python",
   "name": "python",
   "nbconvert_exporter": "python",
   "pygments_lexer": "ipython3",
   "version": "3.11.4"
  }
 },
 "nbformat": 4,
 "nbformat_minor": 1
}

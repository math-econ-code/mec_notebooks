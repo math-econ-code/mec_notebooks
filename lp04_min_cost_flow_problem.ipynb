{
 "cells": [
  {
   "cell_type": "markdown",
   "metadata": {
    "id": "hkFHm7XbuZZA"
   },
   "source": [
    "# <center>Min-cost flow problems</center>\n",
    "### <center>Alfred Galichon (NYU & Sciences Po)</center>\n",
    "## <center>'math+econ+code' masterclass series</center>\n",
    "#### <center>With python code examples</center>\n",
    "© 2018–2023 by Alfred Galichon. Past and present support from NSF grant DMS-1716489, ERC grant CoG-866274 are acknowledged, as well as inputs from contributors listed [here](http://www.math-econ-code.org/team).\n",
    "\n",
    "**If you reuse material from this masterclass, please cite as:**<br>\n",
    "Alfred Galichon, 'math+econ+code' masterclass series. https://www.math-econ-code.org/"
   ]
  },
  {
   "cell_type": "markdown",
   "metadata": {
    "id": "TbKiFNz0uZZD"
   },
   "source": [
    "### Learning Objectives\n",
    "\n",
    "* Basic concepts of directed networks\n",
    "\n",
    "* The min-cost flow problem\n",
    "\n",
    "* Duality, optimality and equilibrium\n",
    "\n",
    "### References\n",
    "\n",
    "* Galichon, *Optimal Transport Methods in Economics*. Ch.8.\n",
    "\n",
    "* Tolstoi (1930). Methods of finding the minimal total kilometrage in cargo transportation planning in space. *Transportation Planning* [in Russian]\n",
    "\n",
    "* Koopmans (1949). Optimum utilization of the transportation system. *Econometrica*.\n",
    "\n",
    "* Schrijver (2002). On the History of the Transportation and Maximum Flow Problems. *Mathematical programming*."
   ]
  },
  {
   "cell_type": "markdown",
   "metadata": {
    "id": "mPiV98_CuZZE"
   },
   "source": [
    "## Motivation\n",
    "\n",
    "### Motivation: network flow problems\n",
    "\n",
    "In 1930 Tolstoi, a Russian engineer, had to optimize the shipping of cement from factories to cities in the Soviet union through railway.\n",
    "\n",
    "* each factory produces a fixed number of tons;\n",
    "\n",
    "* each city needs a fixed number of tons — for now, we'll assume total production = total consumption;\n",
    "\n",
    "* each factory is connected by rail with a few cities, and the corresponding distance is given;\n",
    "\n",
    "* how to ship in order to minimize the total distance travelled?\n",
    "\n",
    "This problem belongs to the class of *min-cost flow problems*, an important class of linear programming problems, which are the focus of today's lecture. A decade before the invention of linear programming and the work of Kantorovich, Koopmans and Dantzig, Tolstoi described a heuristic method for solving the problem, which led to the optimal solution. As one can recover using modern tools, and will see that his solution was right.\n",
    "\n",
    "The *shortest path problem*, or how to find the path of minimal distance from a point to another in a network, also belongs in this class."
   ]
  },
  {
   "cell_type": "markdown",
   "metadata": {
    "id": "99-HbvJHuZZE"
   },
   "source": [
    "First, let's load libraries we'll need. We'll need `os` and `pandas` for data importation and manipulations, `numpy` and part of `scipy` for computations, `gurobipy` for linear programming using Gurobi, `osmnx` to import map data from [OpenStreetMap](https://www.openstreetmap.org/), `networkx` for operations on networks, parts of `matplotlib` for displays,\n"
   ]
  },
  {
   "cell_type": "markdown",
   "metadata": {
    "id": "gOnaCvQVuZZF"
   },
   "source": [
    "## Warning: on environments\n",
    "\n",
    "We will use the fantastic library `osmnx` which is great but is subject to subtle version conflicts, so the usual installation via `pip install osmnx` is likely not to work.\n",
    "\n",
    "The safest way out is to use an environment using Anaconda. First, make sure the kernel associated with the present notebook is shut down. Then, from your Anaconda prompt, type\n",
    "\n",
    "`conda create -n ox --strict-channel-priority osmnx networkx geopandas matplotlib jupyter pandas numpy scipy`\n",
    "\n",
    "which may take a while to run. Once the environment has been created, open your environment using\n",
    "\n",
    "`conda activate ox`\n",
    "\n",
    "next, open jupyter notebook with\n",
    "\n",
    "`jupyter notebook`\n",
    "\n",
    "and scroll through to open the present notebook."
   ]
  },
  {
   "cell_type": "code",
   "execution_count": 2,
   "metadata": {},
   "outputs": [
    {
     "name": "stdout",
     "output_type": "stream",
     "text": [
      "Collecting gurobipy\n",
      "  Downloading gurobipy-11.0.0-cp39-cp39-win_amd64.whl.metadata (16 kB)\n",
      "Downloading gurobipy-11.0.0-cp39-cp39-win_amd64.whl (10.2 MB)\n",
      "   ---------------------------------------- 0.0/10.2 MB ? eta -:--:--\n",
      "   ---------------------------------------- 0.0/10.2 MB 653.6 kB/s eta 0:00:16\n",
      "   - -------------------------------------- 0.5/10.2 MB 6.0 MB/s eta 0:00:02\n",
      "   ----- ---------------------------------- 1.3/10.2 MB 9.2 MB/s eta 0:00:01\n",
      "   ------- -------------------------------- 2.0/10.2 MB 10.5 MB/s eta 0:00:01\n",
      "   ----------- ---------------------------- 2.9/10.2 MB 12.2 MB/s eta 0:00:01\n",
      "   -------------- ------------------------- 3.6/10.2 MB 12.8 MB/s eta 0:00:01\n",
      "   -------------- ------------------------- 3.8/10.2 MB 11.4 MB/s eta 0:00:01\n",
      "   ------------------ --------------------- 4.6/10.2 MB 12.3 MB/s eta 0:00:01\n",
      "   --------------------- ------------------ 5.4/10.2 MB 12.9 MB/s eta 0:00:01\n",
      "   ------------------------ --------------- 6.2/10.2 MB 13.2 MB/s eta 0:00:01\n",
      "   --------------------------- ------------ 7.0/10.2 MB 13.6 MB/s eta 0:00:01\n",
      "   ------------------------------ --------- 7.9/10.2 MB 14.0 MB/s eta 0:00:01\n",
      "   --------------------------------- ------ 8.6/10.2 MB 14.1 MB/s eta 0:00:01\n",
      "   ------------------------------------ --- 9.4/10.2 MB 14.3 MB/s eta 0:00:01\n",
      "   ---------------------------------------  10.2/10.2 MB 14.5 MB/s eta 0:00:01\n",
      "   ---------------------------------------  10.2/10.2 MB 14.5 MB/s eta 0:00:01\n",
      "   ---------------------------------------  10.2/10.2 MB 14.5 MB/s eta 0:00:01\n",
      "   ---------------------------------------  10.2/10.2 MB 14.5 MB/s eta 0:00:01\n",
      "   ---------------------------------------- 10.2/10.2 MB 11.9 MB/s eta 0:00:00\n",
      "Installing collected packages: gurobipy\n",
      "Successfully installed gurobipy-11.0.0\n"
     ]
    }
   ],
   "source": [
    "!pip install gurobipy"
   ]
  },
  {
   "cell_type": "code",
   "execution_count": 5,
   "metadata": {
    "colab": {
     "base_uri": "https://localhost:8080/",
     "height": 368
    },
    "id": "qwOec_TCuZZF",
    "outputId": "d4551928-c848-4a83-c698-df42b00ca30c"
   },
   "outputs": [],
   "source": [
    "import os\n",
    "import pandas as pd\n",
    "import numpy as np\n",
    "import scipy.sparse as sp\n",
    "import osmnx as ox\n",
    "import networkx as nx\n",
    "%matplotlib inline\n",
    "import matplotlib as mpl\n",
    "import matplotlib.pyplot as plt\n",
    "from matplotlib.animation import FuncAnimation\n",
    "# !python -m pip install -i https://pypi.gurobi.com gurobipy ## only if Gurobi not here\n",
    "import gurobipy as grb\n",
    "#thepath = os.path.join(os.getcwd(),'data_mec_optim/')\n",
    "thepath = 'https://raw.githubusercontent.com/math-econ-code/mec_optim_2021-01/master/data_mec_optim/'"
   ]
  },
  {
   "cell_type": "markdown",
   "metadata": {
    "id": "LkeREhPFuZZG"
   },
   "source": [
    "\n",
    "# A look at our data\n",
    "\n",
    "We will be looking at 3 types of data, which we each briefly describe.\n",
    "\n",
    "\n",
    "\n",
    "## Soviet Planning Problem\n",
    "\n",
    "Tolstoi's original data, collected by Schrijver (2002). There are 68 Soviet cities and 10 factories, and 155 links connecting a factory to a city. This yields a sparse 68x10 matrix. Two vectors listing the demand of each city and the supply of each factory are also specified. This is stored in a 69x11 matrix, where we have appended the demand/supply vectors to the right and to the botton of the distance matrix.\n",
    "\n",
    "We read the data and display it."
   ]
  },
  {
   "cell_type": "code",
   "execution_count": 6,
   "metadata": {
    "id": "nZXb_ytWuZZG",
    "outputId": "739b7d17-1015-4b93-e7e8-3c7ec9bd95a2"
   },
   "outputs": [
    {
     "data": {
      "text/html": [
       "<div>\n",
       "<style scoped>\n",
       "    .dataframe tbody tr th:only-of-type {\n",
       "        vertical-align: middle;\n",
       "    }\n",
       "\n",
       "    .dataframe tbody tr th {\n",
       "        vertical-align: top;\n",
       "    }\n",
       "\n",
       "    .dataframe thead th {\n",
       "        text-align: right;\n",
       "    }\n",
       "</style>\n",
       "<table border=\"1\" class=\"dataframe\">\n",
       "  <thead>\n",
       "    <tr style=\"text-align: right;\">\n",
       "      <th></th>\n",
       "      <th>X</th>\n",
       "      <th>Arkhangelsk</th>\n",
       "      <th>Yaroslavl</th>\n",
       "      <th>Murom</th>\n",
       "      <th>Balakhonikha</th>\n",
       "      <th>Dzerzhinsk</th>\n",
       "      <th>Kishert</th>\n",
       "      <th>Sverdlovsk</th>\n",
       "      <th>Artemovsk</th>\n",
       "      <th>Iledzhk</th>\n",
       "      <th>Dekonskaya</th>\n",
       "      <th>demand:</th>\n",
       "    </tr>\n",
       "  </thead>\n",
       "  <tbody>\n",
       "    <tr>\n",
       "      <th>0</th>\n",
       "      <td>Agryz</td>\n",
       "      <td>NaN</td>\n",
       "      <td>NaN</td>\n",
       "      <td>NaN</td>\n",
       "      <td>709.0</td>\n",
       "      <td>1064.0</td>\n",
       "      <td>693.0</td>\n",
       "      <td>NaN</td>\n",
       "      <td>NaN</td>\n",
       "      <td>NaN</td>\n",
       "      <td>NaN</td>\n",
       "      <td>2.0</td>\n",
       "    </tr>\n",
       "    <tr>\n",
       "      <th>1</th>\n",
       "      <td>Aleksandrov</td>\n",
       "      <td>NaN</td>\n",
       "      <td>NaN</td>\n",
       "      <td>NaN</td>\n",
       "      <td>NaN</td>\n",
       "      <td>397.0</td>\n",
       "      <td>NaN</td>\n",
       "      <td>NaN</td>\n",
       "      <td>1180.0</td>\n",
       "      <td>NaN</td>\n",
       "      <td>NaN</td>\n",
       "      <td>4.0</td>\n",
       "    </tr>\n",
       "    <tr>\n",
       "      <th>2</th>\n",
       "      <td>Almaznaya</td>\n",
       "      <td>NaN</td>\n",
       "      <td>NaN</td>\n",
       "      <td>NaN</td>\n",
       "      <td>NaN</td>\n",
       "      <td>NaN</td>\n",
       "      <td>NaN</td>\n",
       "      <td>NaN</td>\n",
       "      <td>81.0</td>\n",
       "      <td>NaN</td>\n",
       "      <td>65.0</td>\n",
       "      <td>1.5</td>\n",
       "    </tr>\n",
       "    <tr>\n",
       "      <th>3</th>\n",
       "      <td>Alchevskaya</td>\n",
       "      <td>NaN</td>\n",
       "      <td>NaN</td>\n",
       "      <td>NaN</td>\n",
       "      <td>NaN</td>\n",
       "      <td>NaN</td>\n",
       "      <td>NaN</td>\n",
       "      <td>NaN</td>\n",
       "      <td>106.0</td>\n",
       "      <td>NaN</td>\n",
       "      <td>114.0</td>\n",
       "      <td>4.0</td>\n",
       "    </tr>\n",
       "    <tr>\n",
       "      <th>4</th>\n",
       "      <td>Baku</td>\n",
       "      <td>NaN</td>\n",
       "      <td>NaN</td>\n",
       "      <td>NaN</td>\n",
       "      <td>NaN</td>\n",
       "      <td>NaN</td>\n",
       "      <td>NaN</td>\n",
       "      <td>NaN</td>\n",
       "      <td>1554.0</td>\n",
       "      <td>NaN</td>\n",
       "      <td>1563.0</td>\n",
       "      <td>10.0</td>\n",
       "    </tr>\n",
       "    <tr>\n",
       "      <th>...</th>\n",
       "      <td>...</td>\n",
       "      <td>...</td>\n",
       "      <td>...</td>\n",
       "      <td>...</td>\n",
       "      <td>...</td>\n",
       "      <td>...</td>\n",
       "      <td>...</td>\n",
       "      <td>...</td>\n",
       "      <td>...</td>\n",
       "      <td>...</td>\n",
       "      <td>...</td>\n",
       "      <td>...</td>\n",
       "    </tr>\n",
       "    <tr>\n",
       "      <th>64</th>\n",
       "      <td>Shchigry</td>\n",
       "      <td>NaN</td>\n",
       "      <td>NaN</td>\n",
       "      <td>NaN</td>\n",
       "      <td>NaN</td>\n",
       "      <td>NaN</td>\n",
       "      <td>NaN</td>\n",
       "      <td>NaN</td>\n",
       "      <td>566.0</td>\n",
       "      <td>NaN</td>\n",
       "      <td>549.0</td>\n",
       "      <td>4.0</td>\n",
       "    </tr>\n",
       "    <tr>\n",
       "      <th>65</th>\n",
       "      <td>Yudino</td>\n",
       "      <td>NaN</td>\n",
       "      <td>NaN</td>\n",
       "      <td>NaN</td>\n",
       "      <td>403.0</td>\n",
       "      <td>757.0</td>\n",
       "      <td>999.0</td>\n",
       "      <td>NaN</td>\n",
       "      <td>NaN</td>\n",
       "      <td>NaN</td>\n",
       "      <td>NaN</td>\n",
       "      <td>0.5</td>\n",
       "    </tr>\n",
       "    <tr>\n",
       "      <th>66</th>\n",
       "      <td>Yama</td>\n",
       "      <td>NaN</td>\n",
       "      <td>NaN</td>\n",
       "      <td>NaN</td>\n",
       "      <td>NaN</td>\n",
       "      <td>NaN</td>\n",
       "      <td>NaN</td>\n",
       "      <td>NaN</td>\n",
       "      <td>44.0</td>\n",
       "      <td>NaN</td>\n",
       "      <td>52.0</td>\n",
       "      <td>5.0</td>\n",
       "    </tr>\n",
       "    <tr>\n",
       "      <th>67</th>\n",
       "      <td>Yasinovataya</td>\n",
       "      <td>NaN</td>\n",
       "      <td>NaN</td>\n",
       "      <td>NaN</td>\n",
       "      <td>NaN</td>\n",
       "      <td>NaN</td>\n",
       "      <td>NaN</td>\n",
       "      <td>NaN</td>\n",
       "      <td>85.0</td>\n",
       "      <td>NaN</td>\n",
       "      <td>93.0</td>\n",
       "      <td>6.0</td>\n",
       "    </tr>\n",
       "    <tr>\n",
       "      <th>68</th>\n",
       "      <td>supply:</td>\n",
       "      <td>5.0</td>\n",
       "      <td>11.5</td>\n",
       "      <td>8.5</td>\n",
       "      <td>12.0</td>\n",
       "      <td>100.0</td>\n",
       "      <td>12.0</td>\n",
       "      <td>15.0</td>\n",
       "      <td>314.0</td>\n",
       "      <td>10.0</td>\n",
       "      <td>55.0</td>\n",
       "      <td>543.0</td>\n",
       "    </tr>\n",
       "  </tbody>\n",
       "</table>\n",
       "<p>69 rows × 12 columns</p>\n",
       "</div>"
      ],
      "text/plain": [
       "               X  Arkhangelsk  Yaroslavl  Murom  Balakhonikha  Dzerzhinsk  \\\n",
       "0          Agryz          NaN        NaN    NaN         709.0      1064.0   \n",
       "1    Aleksandrov          NaN        NaN    NaN           NaN       397.0   \n",
       "2      Almaznaya          NaN        NaN    NaN           NaN         NaN   \n",
       "3    Alchevskaya          NaN        NaN    NaN           NaN         NaN   \n",
       "4           Baku          NaN        NaN    NaN           NaN         NaN   \n",
       "..           ...          ...        ...    ...           ...         ...   \n",
       "64      Shchigry          NaN        NaN    NaN           NaN         NaN   \n",
       "65        Yudino          NaN        NaN    NaN         403.0       757.0   \n",
       "66          Yama          NaN        NaN    NaN           NaN         NaN   \n",
       "67  Yasinovataya          NaN        NaN    NaN           NaN         NaN   \n",
       "68       supply:          5.0       11.5    8.5          12.0       100.0   \n",
       "\n",
       "    Kishert  Sverdlovsk  Artemovsk  Iledzhk  Dekonskaya  demand:  \n",
       "0     693.0         NaN        NaN      NaN         NaN      2.0  \n",
       "1       NaN         NaN     1180.0      NaN         NaN      4.0  \n",
       "2       NaN         NaN       81.0      NaN        65.0      1.5  \n",
       "3       NaN         NaN      106.0      NaN       114.0      4.0  \n",
       "4       NaN         NaN     1554.0      NaN      1563.0     10.0  \n",
       "..      ...         ...        ...      ...         ...      ...  \n",
       "64      NaN         NaN      566.0      NaN       549.0      4.0  \n",
       "65    999.0         NaN        NaN      NaN         NaN      0.5  \n",
       "66      NaN         NaN       44.0      NaN        52.0      5.0  \n",
       "67      NaN         NaN       85.0      NaN        93.0      6.0  \n",
       "68     12.0        15.0      314.0     10.0        55.0    543.0  \n",
       "\n",
       "[69 rows x 12 columns]"
      ]
     },
     "execution_count": 6,
     "metadata": {},
     "output_type": "execute_result"
    }
   ],
   "source": [
    "soviet_df = pd.read_csv(thepath+'networks_sovietplanning/distances.csv', sep=',',encoding = \"ISO-8859-1\")\n",
    "\n",
    "soviet_df"
   ]
  },
  {
   "cell_type": "markdown",
   "metadata": {
    "id": "ggsiEmQ0uZZH"
   },
   "source": [
    "Plants and cities are the *nodes* of our network.\n",
    "There are *arcs* directly connecting when there is a railway from the plant to the city. In that case, the entry of the corresponding cell is equal to the length of the arc. When there is none, the corresponding cell shows `NaN`.\n",
    "We will index the nodes from to `nbPlants+nbCities`, with the plants being indexed by 0,1,...`nbPlants-1`, and the cities being indexed by `nbPlants`, `nbPlants+1`, ... , `nbPlants+nbCities`.\n",
    "Let us collect the arcs and their corresponding distances.\n",
    "\n"
   ]
  },
  {
   "cell_type": "code",
   "execution_count": 7,
   "metadata": {
    "id": "oh9XCTVNuZZH"
   },
   "outputs": [],
   "source": [
    "nbPlants = soviet_df.shape[1]-2\n",
    "nbCities = soviet_df.shape[0]-1\n",
    "arcsList = []\n",
    "costslist = []\n",
    "nodesList = [soviet_df.columns.values[plant+1]+' Plant' for plant in range(nbPlants)] + [soviet_df.iloc[city,0]+' city' for city in range(nbCities)]\n",
    "for plant in range(nbPlants):\n",
    "    for city in range(nbCities):\n",
    "        if not pd.isna(soviet_df.iloc[city,plant+1]):\n",
    "            #arcsList.append((plant,nbPlants+city))\n",
    "            arcsList.append((nodesList[plant],nodesList[nbPlants+city]))\n",
    "            costslist.append(soviet_df.iloc[city,plant+1])\n",
    "nodesList = [soviet_df.columns.values[plant+1]+' Plant' for plant in range(nbPlants)] + [soviet_df.iloc[city,0]+' city' for city in range(nbCities)]"
   ]
  },
  {
   "cell_type": "markdown",
   "metadata": {
    "id": "XJ65G4B2uZZI"
   },
   "source": [
    "We will create a class `network_problem` to collect and store the relevant information we need: nodes, arcs, and arcs length. We will add methods later."
   ]
  },
  {
   "cell_type": "code",
   "execution_count": 8,
   "metadata": {
    "id": "JKlXPV5wuZZI",
    "outputId": "fe5e3791-26a7-4715-930e-0fe625e3c2ff"
   },
   "outputs": [
    {
     "name": "stdout",
     "output_type": "stream",
     "text": [
      "Number of nodes=78; number of arcs=155.\n"
     ]
    }
   ],
   "source": [
    "class network_problem:\n",
    "    def __init__(self,nodesList,arcsList,costsList):\n",
    "        self.nbNodes = len(nodesList)\n",
    "        self.nbArcs = len(arcsList)\n",
    "        self.nodesList = nodesList\n",
    "        self.arcsList = arcsList\n",
    "        self.costsList = costsList\n",
    "        self.nodesDict = {node:node_ind for (node,node_ind) in zip(self.nodesList,range(self.nbNodes))}\n",
    "        self.arcsDict = {arc:arc_ind for (arc,arc_ind) in zip(self.arcsList,range(self.nbArcs))}\n",
    "        print('Number of nodes='+str(self.nbNodes)+'; number of arcs='+str(self.nbArcs)+'.')\n",
    "\n",
    "soviet_pb = network_problem(nodesList,arcsList,costslist)"
   ]
  },
  {
   "cell_type": "markdown",
   "metadata": {
    "id": "bVTLR1ThuZZI"
   },
   "source": [
    "## NYC subway network\n",
    "\n",
    "NYC subway network data: the network data are available on http://www.mta.info. This data is made of two files. The file `nodes.csv` lists the stations: each station is indexed by the line number; each line has the name of the station, and its spatial coordinates. The file `arcs.csv` lists the links between stations: each link specifies the index of the origin, the index of the destination, and the length of the segment.\n",
    "\n",
    "We shall store this information in a `network_problem` object called `subway_pb`."
   ]
  },
  {
   "cell_type": "code",
   "execution_count": 9,
   "metadata": {
    "id": "T1C2_4xzuZZI",
    "outputId": "eea9729d-274b-4193-a9f6-f7a2357935d3"
   },
   "outputs": [
    {
     "name": "stdout",
     "output_type": "stream",
     "text": [
      "Number of nodes=501; number of arcs=1290.\n"
     ]
    }
   ],
   "source": [
    "arcs = pd.read_csv(thepath+'networks_subway/NYC/arcs.csv', sep=',')#.sort_values(by=['route_id'])\n",
    "nodes = pd.read_csv(thepath+ 'networks_subway/NYC/nodes.csv', sep=',')\n",
    "stopnames = [i+' '+j for i,j in zip(nodes.stop_name,nodes.route_id)]\n",
    "arcsList = [(stopnames[o-1],stopnames[d-1]) for (o,d) in list(zip(arcs.from_stop_nb,arcs.to_stop_nb))]\n",
    "subway_pb = network_problem(stopnames,arcsList,list(arcs.dis_line))"
   ]
  },
  {
   "cell_type": "markdown",
   "metadata": {
    "id": "Ne-lc-9ruZZJ"
   },
   "source": [
    "Stations' caracteristics are contained in `nodes` dataframe. The relevant information for us will be the name of the station, the horizontal spatial coordinate, and the vertical coordinates."
   ]
  },
  {
   "cell_type": "code",
   "execution_count": 10,
   "metadata": {
    "id": "8TzgeltxuZZJ",
    "outputId": "160ec4ab-e4b2-4145-e451-6c735c601863"
   },
   "outputs": [
    {
     "data": {
      "text/html": [
       "<div>\n",
       "<style scoped>\n",
       "    .dataframe tbody tr th:only-of-type {\n",
       "        vertical-align: middle;\n",
       "    }\n",
       "\n",
       "    .dataframe tbody tr th {\n",
       "        vertical-align: top;\n",
       "    }\n",
       "\n",
       "    .dataframe thead th {\n",
       "        text-align: right;\n",
       "    }\n",
       "</style>\n",
       "<table border=\"1\" class=\"dataframe\">\n",
       "  <thead>\n",
       "    <tr style=\"text-align: right;\">\n",
       "      <th></th>\n",
       "      <th>stop_name</th>\n",
       "      <th>flow</th>\n",
       "      <th>stop_lat</th>\n",
       "      <th>stop_lon</th>\n",
       "      <th>stop_id</th>\n",
       "      <th>stop_nb</th>\n",
       "      <th>route_id</th>\n",
       "    </tr>\n",
       "  </thead>\n",
       "  <tbody>\n",
       "    <tr>\n",
       "      <th>0</th>\n",
       "      <td>Van Cortlandt Park - 242 St</td>\n",
       "      <td>1000</td>\n",
       "      <td>40.889248</td>\n",
       "      <td>-73.898583</td>\n",
       "      <td>101</td>\n",
       "      <td>1</td>\n",
       "      <td>(1)</td>\n",
       "    </tr>\n",
       "    <tr>\n",
       "      <th>1</th>\n",
       "      <td>238 St</td>\n",
       "      <td>1000</td>\n",
       "      <td>40.884667</td>\n",
       "      <td>-73.900870</td>\n",
       "      <td>103</td>\n",
       "      <td>2</td>\n",
       "      <td>(1)</td>\n",
       "    </tr>\n",
       "    <tr>\n",
       "      <th>2</th>\n",
       "      <td>231 St</td>\n",
       "      <td>1000</td>\n",
       "      <td>40.878856</td>\n",
       "      <td>-73.904834</td>\n",
       "      <td>104</td>\n",
       "      <td>3</td>\n",
       "      <td>(1)</td>\n",
       "    </tr>\n",
       "  </tbody>\n",
       "</table>\n",
       "</div>"
      ],
      "text/plain": [
       "                     stop_name  flow   stop_lat   stop_lon stop_id  stop_nb  \\\n",
       "0  Van Cortlandt Park - 242 St  1000  40.889248 -73.898583     101        1   \n",
       "1                       238 St  1000  40.884667 -73.900870     103        2   \n",
       "2                       231 St  1000  40.878856 -73.904834     104        3   \n",
       "\n",
       "  route_id  \n",
       "0      (1)  \n",
       "1      (1)  \n",
       "2      (1)  "
      ]
     },
     "execution_count": 10,
     "metadata": {},
     "output_type": "execute_result"
    }
   ],
   "source": [
    "nodes.head(3)"
   ]
  },
  {
   "cell_type": "markdown",
   "metadata": {
    "id": "IGcSaaoXuZZJ"
   },
   "source": [
    "Routes between stations are contained in `arcs` dataframe--the first column is the origin node, the second one is the destination node, and the third one is the length of the arc in meters."
   ]
  },
  {
   "cell_type": "code",
   "execution_count": 11,
   "metadata": {
    "id": "1uJJ3pi6uZZJ",
    "outputId": "67319564-aff6-446e-85e2-c28252109d8b"
   },
   "outputs": [
    {
     "data": {
      "text/html": [
       "<div>\n",
       "<style scoped>\n",
       "    .dataframe tbody tr th:only-of-type {\n",
       "        vertical-align: middle;\n",
       "    }\n",
       "\n",
       "    .dataframe tbody tr th {\n",
       "        vertical-align: top;\n",
       "    }\n",
       "\n",
       "    .dataframe thead th {\n",
       "        text-align: right;\n",
       "    }\n",
       "</style>\n",
       "<table border=\"1\" class=\"dataframe\">\n",
       "  <thead>\n",
       "    <tr style=\"text-align: right;\">\n",
       "      <th></th>\n",
       "      <th>from_stop_nb</th>\n",
       "      <th>to_stop_nb</th>\n",
       "      <th>dis_line</th>\n",
       "      <th>min_time_elapsed</th>\n",
       "      <th>from_stop_id</th>\n",
       "      <th>to_stop_id</th>\n",
       "      <th>route_id</th>\n",
       "    </tr>\n",
       "  </thead>\n",
       "  <tbody>\n",
       "    <tr>\n",
       "      <th>0</th>\n",
       "      <td>185</td>\n",
       "      <td>10</td>\n",
       "      <td>15000.0</td>\n",
       "      <td>0.18</td>\n",
       "      <td>A09</td>\n",
       "      <td>112</td>\n",
       "      <td>NaN</td>\n",
       "    </tr>\n",
       "    <tr>\n",
       "      <th>1</th>\n",
       "      <td>198</td>\n",
       "      <td>23</td>\n",
       "      <td>15000.0</td>\n",
       "      <td>0.18</td>\n",
       "      <td>A24</td>\n",
       "      <td>125</td>\n",
       "      <td>NaN</td>\n",
       "    </tr>\n",
       "    <tr>\n",
       "      <th>2</th>\n",
       "      <td>448</td>\n",
       "      <td>25</td>\n",
       "      <td>15000.0</td>\n",
       "      <td>0.18</td>\n",
       "      <td>R16</td>\n",
       "      <td>127</td>\n",
       "      <td>NaN</td>\n",
       "    </tr>\n",
       "  </tbody>\n",
       "</table>\n",
       "</div>"
      ],
      "text/plain": [
       "   from_stop_nb  to_stop_nb  dis_line  min_time_elapsed from_stop_id  \\\n",
       "0           185          10   15000.0              0.18          A09   \n",
       "1           198          23   15000.0              0.18          A24   \n",
       "2           448          25   15000.0              0.18          R16   \n",
       "\n",
       "  to_stop_id route_id  \n",
       "0        112      NaN  \n",
       "1        125      NaN  \n",
       "2        127      NaN  "
      ]
     },
     "execution_count": 11,
     "metadata": {},
     "output_type": "execute_result"
    }
   ],
   "source": [
    "arcs.head(3)"
   ]
  },
  {
   "cell_type": "markdown",
   "metadata": {
    "id": "iVTqm1_zuZZK"
   },
   "source": [
    "## Paris streets\n",
    "\n",
    "Next, we gather data on the network of the Paris streets. To to this, we use the `osmnx` package to retrieve data from [OpenStreetMap](https://www.openstreetmap.org/). Doing this is as simple as specifying an address, and calling the `graph_from_address` function, specifying the desired distance (in meters) around this address."
   ]
  },
  {
   "cell_type": "code",
   "execution_count": 12,
   "metadata": {
    "id": "63ui-VdJuZZK",
    "outputId": "cf124157-aaae-4159-db54-1121019aa793"
   },
   "outputs": [
    {
     "ename": "RuntimeError",
     "evalue": "pyproj 3+ required for estimate_utm_crs.",
     "output_type": "error",
     "traceback": [
      "\u001b[1;31m---------------------------------------------------------------------------\u001b[0m",
      "\u001b[1;31mModuleNotFoundError\u001b[0m                       Traceback (most recent call last)",
      "File \u001b[1;32m~\\anaconda3\\envs\\ox\\lib\\site-packages\\geopandas\\array.py:821\u001b[0m, in \u001b[0;36mGeometryArray.estimate_utm_crs\u001b[1;34m(self, datum_name)\u001b[0m\n\u001b[0;32m    820\u001b[0m \u001b[38;5;28;01mtry\u001b[39;00m:\n\u001b[1;32m--> 821\u001b[0m     \u001b[38;5;28;01mfrom\u001b[39;00m \u001b[38;5;21;01mpyproj\u001b[39;00m\u001b[38;5;21;01m.\u001b[39;00m\u001b[38;5;21;01maoi\u001b[39;00m \u001b[38;5;28;01mimport\u001b[39;00m AreaOfInterest\n\u001b[0;32m    822\u001b[0m     \u001b[38;5;28;01mfrom\u001b[39;00m \u001b[38;5;21;01mpyproj\u001b[39;00m\u001b[38;5;21;01m.\u001b[39;00m\u001b[38;5;21;01mdatabase\u001b[39;00m \u001b[38;5;28;01mimport\u001b[39;00m query_utm_crs_info\n",
      "\u001b[1;31mModuleNotFoundError\u001b[0m: No module named 'pyproj.aoi'",
      "\nDuring handling of the above exception, another exception occurred:\n",
      "\u001b[1;31mRuntimeError\u001b[0m                              Traceback (most recent call last)",
      "Cell \u001b[1;32mIn[12], line 2\u001b[0m\n\u001b[0;32m      1\u001b[0m nyu_address\u001b[38;5;241m=\u001b[39m\u001b[38;5;124m'\u001b[39m\u001b[38;5;124m57 boulevard Saint-Germain, 75005 Paris, France\u001b[39m\u001b[38;5;124m'\u001b[39m\n\u001b[1;32m----> 2\u001b[0m streets_network \u001b[38;5;241m=\u001b[39m \u001b[43mox\u001b[49m\u001b[38;5;241;43m.\u001b[39;49m\u001b[43mgraph\u001b[49m\u001b[38;5;241;43m.\u001b[39;49m\u001b[43mgraph_from_address\u001b[49m\u001b[43m(\u001b[49m\u001b[43mnyu_address\u001b[49m\u001b[43m,\u001b[49m\u001b[43m \u001b[49m\u001b[43mdist\u001b[49m\u001b[38;5;241;43m=\u001b[39;49m\u001b[38;5;241;43m2000\u001b[39;49m\u001b[43m,\u001b[49m\u001b[43mnetwork_type\u001b[49m\u001b[43m \u001b[49m\u001b[38;5;241;43m=\u001b[39;49m\u001b[43m \u001b[49m\u001b[38;5;124;43m'\u001b[39;49m\u001b[38;5;124;43mwalk\u001b[39;49m\u001b[38;5;124;43m'\u001b[39;49m\u001b[43m)\u001b[49m\n\u001b[0;32m      3\u001b[0m ox\u001b[38;5;241m.\u001b[39mplot_graph(streets_network,node_size\u001b[38;5;241m=\u001b[39m\u001b[38;5;241m0\u001b[39m, bgcolor\u001b[38;5;241m=\u001b[39m\u001b[38;5;124m'\u001b[39m\u001b[38;5;124mw\u001b[39m\u001b[38;5;124m'\u001b[39m)\n",
      "File \u001b[1;32m~\\anaconda3\\envs\\ox\\lib\\site-packages\\osmnx\\graph.py:262\u001b[0m, in \u001b[0;36mgraph_from_address\u001b[1;34m(address, dist, dist_type, network_type, simplify, retain_all, truncate_by_edge, return_coords, clean_periphery, custom_filter)\u001b[0m\n\u001b[0;32m    259\u001b[0m point \u001b[38;5;241m=\u001b[39m geocoder\u001b[38;5;241m.\u001b[39mgeocode(query\u001b[38;5;241m=\u001b[39maddress)\n\u001b[0;32m    261\u001b[0m \u001b[38;5;66;03m# then create a graph from this point\u001b[39;00m\n\u001b[1;32m--> 262\u001b[0m G \u001b[38;5;241m=\u001b[39m \u001b[43mgraph_from_point\u001b[49m\u001b[43m(\u001b[49m\n\u001b[0;32m    263\u001b[0m \u001b[43m    \u001b[49m\u001b[43mpoint\u001b[49m\u001b[43m,\u001b[49m\n\u001b[0;32m    264\u001b[0m \u001b[43m    \u001b[49m\u001b[43mdist\u001b[49m\u001b[43m,\u001b[49m\n\u001b[0;32m    265\u001b[0m \u001b[43m    \u001b[49m\u001b[43mdist_type\u001b[49m\u001b[43m,\u001b[49m\n\u001b[0;32m    266\u001b[0m \u001b[43m    \u001b[49m\u001b[43mnetwork_type\u001b[49m\u001b[38;5;241;43m=\u001b[39;49m\u001b[43mnetwork_type\u001b[49m\u001b[43m,\u001b[49m\n\u001b[0;32m    267\u001b[0m \u001b[43m    \u001b[49m\u001b[43msimplify\u001b[49m\u001b[38;5;241;43m=\u001b[39;49m\u001b[43msimplify\u001b[49m\u001b[43m,\u001b[49m\n\u001b[0;32m    268\u001b[0m \u001b[43m    \u001b[49m\u001b[43mretain_all\u001b[49m\u001b[38;5;241;43m=\u001b[39;49m\u001b[43mretain_all\u001b[49m\u001b[43m,\u001b[49m\n\u001b[0;32m    269\u001b[0m \u001b[43m    \u001b[49m\u001b[43mtruncate_by_edge\u001b[49m\u001b[38;5;241;43m=\u001b[39;49m\u001b[43mtruncate_by_edge\u001b[49m\u001b[43m,\u001b[49m\n\u001b[0;32m    270\u001b[0m \u001b[43m    \u001b[49m\u001b[43mclean_periphery\u001b[49m\u001b[38;5;241;43m=\u001b[39;49m\u001b[43mclean_periphery\u001b[49m\u001b[43m,\u001b[49m\n\u001b[0;32m    271\u001b[0m \u001b[43m    \u001b[49m\u001b[43mcustom_filter\u001b[49m\u001b[38;5;241;43m=\u001b[39;49m\u001b[43mcustom_filter\u001b[49m\u001b[43m,\u001b[49m\n\u001b[0;32m    272\u001b[0m \u001b[43m\u001b[49m\u001b[43m)\u001b[49m\n\u001b[0;32m    273\u001b[0m utils\u001b[38;5;241m.\u001b[39mlog(\u001b[38;5;124mf\u001b[39m\u001b[38;5;124m\"\u001b[39m\u001b[38;5;124mgraph_from_address returned graph with \u001b[39m\u001b[38;5;132;01m{\u001b[39;00m\u001b[38;5;28mlen\u001b[39m(G)\u001b[38;5;132;01m:\u001b[39;00m\u001b[38;5;124m,\u001b[39m\u001b[38;5;132;01m}\u001b[39;00m\u001b[38;5;124m nodes and \u001b[39m\u001b[38;5;132;01m{\u001b[39;00m\u001b[38;5;28mlen\u001b[39m(G\u001b[38;5;241m.\u001b[39medges)\u001b[38;5;132;01m:\u001b[39;00m\u001b[38;5;124m,\u001b[39m\u001b[38;5;132;01m}\u001b[39;00m\u001b[38;5;124m edges\u001b[39m\u001b[38;5;124m\"\u001b[39m)\n\u001b[0;32m    275\u001b[0m \u001b[38;5;28;01mif\u001b[39;00m return_coords:\n",
      "File \u001b[1;32m~\\anaconda3\\envs\\ox\\lib\\site-packages\\osmnx\\graph.py:174\u001b[0m, in \u001b[0;36mgraph_from_point\u001b[1;34m(center_point, dist, dist_type, network_type, simplify, retain_all, truncate_by_edge, clean_periphery, custom_filter)\u001b[0m\n\u001b[0;32m    171\u001b[0m north, south, east, west \u001b[38;5;241m=\u001b[39m utils_geo\u001b[38;5;241m.\u001b[39mbbox_from_point(center_point, dist)\n\u001b[0;32m    173\u001b[0m \u001b[38;5;66;03m# create a graph from the bounding box\u001b[39;00m\n\u001b[1;32m--> 174\u001b[0m G \u001b[38;5;241m=\u001b[39m \u001b[43mgraph_from_bbox\u001b[49m\u001b[43m(\u001b[49m\n\u001b[0;32m    175\u001b[0m \u001b[43m    \u001b[49m\u001b[43mnorth\u001b[49m\u001b[43m,\u001b[49m\n\u001b[0;32m    176\u001b[0m \u001b[43m    \u001b[49m\u001b[43msouth\u001b[49m\u001b[43m,\u001b[49m\n\u001b[0;32m    177\u001b[0m \u001b[43m    \u001b[49m\u001b[43meast\u001b[49m\u001b[43m,\u001b[49m\n\u001b[0;32m    178\u001b[0m \u001b[43m    \u001b[49m\u001b[43mwest\u001b[49m\u001b[43m,\u001b[49m\n\u001b[0;32m    179\u001b[0m \u001b[43m    \u001b[49m\u001b[43mnetwork_type\u001b[49m\u001b[38;5;241;43m=\u001b[39;49m\u001b[43mnetwork_type\u001b[49m\u001b[43m,\u001b[49m\n\u001b[0;32m    180\u001b[0m \u001b[43m    \u001b[49m\u001b[43msimplify\u001b[49m\u001b[38;5;241;43m=\u001b[39;49m\u001b[43msimplify\u001b[49m\u001b[43m,\u001b[49m\n\u001b[0;32m    181\u001b[0m \u001b[43m    \u001b[49m\u001b[43mretain_all\u001b[49m\u001b[38;5;241;43m=\u001b[39;49m\u001b[43mretain_all\u001b[49m\u001b[43m,\u001b[49m\n\u001b[0;32m    182\u001b[0m \u001b[43m    \u001b[49m\u001b[43mtruncate_by_edge\u001b[49m\u001b[38;5;241;43m=\u001b[39;49m\u001b[43mtruncate_by_edge\u001b[49m\u001b[43m,\u001b[49m\n\u001b[0;32m    183\u001b[0m \u001b[43m    \u001b[49m\u001b[43mclean_periphery\u001b[49m\u001b[38;5;241;43m=\u001b[39;49m\u001b[43mclean_periphery\u001b[49m\u001b[43m,\u001b[49m\n\u001b[0;32m    184\u001b[0m \u001b[43m    \u001b[49m\u001b[43mcustom_filter\u001b[49m\u001b[38;5;241;43m=\u001b[39;49m\u001b[43mcustom_filter\u001b[49m\u001b[43m,\u001b[49m\n\u001b[0;32m    185\u001b[0m \u001b[43m\u001b[49m\u001b[43m)\u001b[49m\n\u001b[0;32m    187\u001b[0m \u001b[38;5;28;01mif\u001b[39;00m dist_type \u001b[38;5;241m==\u001b[39m \u001b[38;5;124m\"\u001b[39m\u001b[38;5;124mnetwork\u001b[39m\u001b[38;5;124m\"\u001b[39m:\n\u001b[0;32m    188\u001b[0m     \u001b[38;5;66;03m# if dist_type is network, find node in graph nearest to center point\u001b[39;00m\n\u001b[0;32m    189\u001b[0m     \u001b[38;5;66;03m# then truncate graph by network dist from it\u001b[39;00m\n\u001b[0;32m    190\u001b[0m     node \u001b[38;5;241m=\u001b[39m distance\u001b[38;5;241m.\u001b[39mnearest_nodes(G, X\u001b[38;5;241m=\u001b[39m[center_point[\u001b[38;5;241m1\u001b[39m]], Y\u001b[38;5;241m=\u001b[39m[center_point[\u001b[38;5;241m0\u001b[39m]])[\u001b[38;5;241m0\u001b[39m]\n",
      "File \u001b[1;32m~\\anaconda3\\envs\\ox\\lib\\site-packages\\osmnx\\graph.py:95\u001b[0m, in \u001b[0;36mgraph_from_bbox\u001b[1;34m(north, south, east, west, network_type, simplify, retain_all, truncate_by_edge, clean_periphery, custom_filter)\u001b[0m\n\u001b[0;32m     92\u001b[0m polygon \u001b[38;5;241m=\u001b[39m utils_geo\u001b[38;5;241m.\u001b[39mbbox_to_poly(north, south, east, west)\n\u001b[0;32m     94\u001b[0m \u001b[38;5;66;03m# create graph using this polygon geometry\u001b[39;00m\n\u001b[1;32m---> 95\u001b[0m G \u001b[38;5;241m=\u001b[39m \u001b[43mgraph_from_polygon\u001b[49m\u001b[43m(\u001b[49m\n\u001b[0;32m     96\u001b[0m \u001b[43m    \u001b[49m\u001b[43mpolygon\u001b[49m\u001b[43m,\u001b[49m\n\u001b[0;32m     97\u001b[0m \u001b[43m    \u001b[49m\u001b[43mnetwork_type\u001b[49m\u001b[38;5;241;43m=\u001b[39;49m\u001b[43mnetwork_type\u001b[49m\u001b[43m,\u001b[49m\n\u001b[0;32m     98\u001b[0m \u001b[43m    \u001b[49m\u001b[43msimplify\u001b[49m\u001b[38;5;241;43m=\u001b[39;49m\u001b[43msimplify\u001b[49m\u001b[43m,\u001b[49m\n\u001b[0;32m     99\u001b[0m \u001b[43m    \u001b[49m\u001b[43mretain_all\u001b[49m\u001b[38;5;241;43m=\u001b[39;49m\u001b[43mretain_all\u001b[49m\u001b[43m,\u001b[49m\n\u001b[0;32m    100\u001b[0m \u001b[43m    \u001b[49m\u001b[43mtruncate_by_edge\u001b[49m\u001b[38;5;241;43m=\u001b[39;49m\u001b[43mtruncate_by_edge\u001b[49m\u001b[43m,\u001b[49m\n\u001b[0;32m    101\u001b[0m \u001b[43m    \u001b[49m\u001b[43mclean_periphery\u001b[49m\u001b[38;5;241;43m=\u001b[39;49m\u001b[43mclean_periphery\u001b[49m\u001b[43m,\u001b[49m\n\u001b[0;32m    102\u001b[0m \u001b[43m    \u001b[49m\u001b[43mcustom_filter\u001b[49m\u001b[38;5;241;43m=\u001b[39;49m\u001b[43mcustom_filter\u001b[49m\u001b[43m,\u001b[49m\n\u001b[0;32m    103\u001b[0m \u001b[43m\u001b[49m\u001b[43m)\u001b[49m\n\u001b[0;32m    105\u001b[0m utils\u001b[38;5;241m.\u001b[39mlog(\u001b[38;5;124mf\u001b[39m\u001b[38;5;124m\"\u001b[39m\u001b[38;5;124mgraph_from_bbox returned graph with \u001b[39m\u001b[38;5;132;01m{\u001b[39;00m\u001b[38;5;28mlen\u001b[39m(G)\u001b[38;5;132;01m:\u001b[39;00m\u001b[38;5;124m,\u001b[39m\u001b[38;5;132;01m}\u001b[39;00m\u001b[38;5;124m nodes and \u001b[39m\u001b[38;5;132;01m{\u001b[39;00m\u001b[38;5;28mlen\u001b[39m(G\u001b[38;5;241m.\u001b[39medges)\u001b[38;5;132;01m:\u001b[39;00m\u001b[38;5;124m,\u001b[39m\u001b[38;5;132;01m}\u001b[39;00m\u001b[38;5;124m edges\u001b[39m\u001b[38;5;124m\"\u001b[39m)\n\u001b[0;32m    106\u001b[0m \u001b[38;5;28;01mreturn\u001b[39;00m G\n",
      "File \u001b[1;32m~\\anaconda3\\envs\\ox\\lib\\site-packages\\osmnx\\graph.py:464\u001b[0m, in \u001b[0;36mgraph_from_polygon\u001b[1;34m(polygon, network_type, simplify, retain_all, truncate_by_edge, clean_periphery, custom_filter)\u001b[0m\n\u001b[0;32m    461\u001b[0m \u001b[38;5;28;01mif\u001b[39;00m clean_periphery:\n\u001b[0;32m    462\u001b[0m     \u001b[38;5;66;03m# create a new buffered polygon 0.5km around the desired one\u001b[39;00m\n\u001b[0;32m    463\u001b[0m     buffer_dist \u001b[38;5;241m=\u001b[39m \u001b[38;5;241m500\u001b[39m\n\u001b[1;32m--> 464\u001b[0m     poly_proj, crs_utm \u001b[38;5;241m=\u001b[39m \u001b[43mprojection\u001b[49m\u001b[38;5;241;43m.\u001b[39;49m\u001b[43mproject_geometry\u001b[49m\u001b[43m(\u001b[49m\u001b[43mpolygon\u001b[49m\u001b[43m)\u001b[49m\n\u001b[0;32m    465\u001b[0m     poly_proj_buff \u001b[38;5;241m=\u001b[39m poly_proj\u001b[38;5;241m.\u001b[39mbuffer(buffer_dist)\n\u001b[0;32m    466\u001b[0m     poly_buff, _ \u001b[38;5;241m=\u001b[39m projection\u001b[38;5;241m.\u001b[39mproject_geometry(poly_proj_buff, crs\u001b[38;5;241m=\u001b[39mcrs_utm, to_latlong\u001b[38;5;241m=\u001b[39m\u001b[38;5;28;01mTrue\u001b[39;00m)\n",
      "File \u001b[1;32m~\\anaconda3\\envs\\ox\\lib\\site-packages\\osmnx\\projection.py:60\u001b[0m, in \u001b[0;36mproject_geometry\u001b[1;34m(geometry, crs, to_crs, to_latlong)\u001b[0m\n\u001b[0;32m     57\u001b[0m     crs \u001b[38;5;241m=\u001b[39m settings\u001b[38;5;241m.\u001b[39mdefault_crs\n\u001b[0;32m     59\u001b[0m gdf \u001b[38;5;241m=\u001b[39m gpd\u001b[38;5;241m.\u001b[39mGeoDataFrame(geometry\u001b[38;5;241m=\u001b[39m[geometry], crs\u001b[38;5;241m=\u001b[39mcrs)\n\u001b[1;32m---> 60\u001b[0m gdf_proj \u001b[38;5;241m=\u001b[39m \u001b[43mproject_gdf\u001b[49m\u001b[43m(\u001b[49m\u001b[43mgdf\u001b[49m\u001b[43m,\u001b[49m\u001b[43m \u001b[49m\u001b[43mto_crs\u001b[49m\u001b[38;5;241;43m=\u001b[39;49m\u001b[43mto_crs\u001b[49m\u001b[43m,\u001b[49m\u001b[43m \u001b[49m\u001b[43mto_latlong\u001b[49m\u001b[38;5;241;43m=\u001b[39;49m\u001b[43mto_latlong\u001b[49m\u001b[43m)\u001b[49m\n\u001b[0;32m     61\u001b[0m geometry_proj \u001b[38;5;241m=\u001b[39m gdf_proj[\u001b[38;5;124m\"\u001b[39m\u001b[38;5;124mgeometry\u001b[39m\u001b[38;5;124m\"\u001b[39m]\u001b[38;5;241m.\u001b[39miloc[\u001b[38;5;241m0\u001b[39m]\n\u001b[0;32m     62\u001b[0m \u001b[38;5;28;01mreturn\u001b[39;00m geometry_proj, gdf_proj\u001b[38;5;241m.\u001b[39mcrs\n",
      "File \u001b[1;32m~\\anaconda3\\envs\\ox\\lib\\site-packages\\osmnx\\projection.py:99\u001b[0m, in \u001b[0;36mproject_gdf\u001b[1;34m(gdf, to_crs, to_latlong)\u001b[0m\n\u001b[0;32m     97\u001b[0m \u001b[38;5;66;03m# else if to_crs is None, project gdf to an appropriate UTM zone\u001b[39;00m\n\u001b[0;32m     98\u001b[0m \u001b[38;5;28;01melif\u001b[39;00m to_crs \u001b[38;5;129;01mis\u001b[39;00m \u001b[38;5;28;01mNone\u001b[39;00m:\n\u001b[1;32m---> 99\u001b[0m     to_crs \u001b[38;5;241m=\u001b[39m \u001b[43mgdf\u001b[49m\u001b[38;5;241;43m.\u001b[39;49m\u001b[43mestimate_utm_crs\u001b[49m\u001b[43m(\u001b[49m\u001b[43m)\u001b[49m\n\u001b[0;32m    101\u001b[0m \u001b[38;5;66;03m# project the gdf\u001b[39;00m\n\u001b[0;32m    102\u001b[0m gdf_proj \u001b[38;5;241m=\u001b[39m gdf\u001b[38;5;241m.\u001b[39mto_crs(to_crs)\n",
      "File \u001b[1;32m~\\anaconda3\\envs\\ox\\lib\\site-packages\\geopandas\\geodataframe.py:1407\u001b[0m, in \u001b[0;36mGeoDataFrame.estimate_utm_crs\u001b[1;34m(self, datum_name)\u001b[0m\n\u001b[0;32m   1369\u001b[0m \u001b[38;5;28;01mdef\u001b[39;00m \u001b[38;5;21mestimate_utm_crs\u001b[39m(\u001b[38;5;28mself\u001b[39m, datum_name\u001b[38;5;241m=\u001b[39m\u001b[38;5;124m\"\u001b[39m\u001b[38;5;124mWGS 84\u001b[39m\u001b[38;5;124m\"\u001b[39m):\n\u001b[0;32m   1370\u001b[0m \u001b[38;5;250m    \u001b[39m\u001b[38;5;124;03m\"\"\"Returns the estimated UTM CRS based on the bounds of the dataset.\u001b[39;00m\n\u001b[0;32m   1371\u001b[0m \n\u001b[0;32m   1372\u001b[0m \u001b[38;5;124;03m    .. versionadded:: 0.9\u001b[39;00m\n\u001b[1;32m   (...)\u001b[0m\n\u001b[0;32m   1405\u001b[0m \u001b[38;5;124;03m    - Prime Meridian: Greenwich\u001b[39;00m\n\u001b[0;32m   1406\u001b[0m \u001b[38;5;124;03m    \"\"\"\u001b[39;00m\n\u001b[1;32m-> 1407\u001b[0m     \u001b[38;5;28;01mreturn\u001b[39;00m \u001b[38;5;28;43mself\u001b[39;49m\u001b[38;5;241;43m.\u001b[39;49m\u001b[43mgeometry\u001b[49m\u001b[38;5;241;43m.\u001b[39;49m\u001b[43mestimate_utm_crs\u001b[49m\u001b[43m(\u001b[49m\u001b[43mdatum_name\u001b[49m\u001b[38;5;241;43m=\u001b[39;49m\u001b[43mdatum_name\u001b[49m\u001b[43m)\u001b[49m\n",
      "File \u001b[1;32m~\\anaconda3\\envs\\ox\\lib\\site-packages\\geopandas\\geoseries.py:1165\u001b[0m, in \u001b[0;36mGeoSeries.estimate_utm_crs\u001b[1;34m(self, datum_name)\u001b[0m\n\u001b[0;32m   1127\u001b[0m \u001b[38;5;28;01mdef\u001b[39;00m \u001b[38;5;21mestimate_utm_crs\u001b[39m(\u001b[38;5;28mself\u001b[39m, datum_name\u001b[38;5;241m=\u001b[39m\u001b[38;5;124m\"\u001b[39m\u001b[38;5;124mWGS 84\u001b[39m\u001b[38;5;124m\"\u001b[39m):\n\u001b[0;32m   1128\u001b[0m \u001b[38;5;250m    \u001b[39m\u001b[38;5;124;03m\"\"\"Returns the estimated UTM CRS based on the bounds of the dataset.\u001b[39;00m\n\u001b[0;32m   1129\u001b[0m \n\u001b[0;32m   1130\u001b[0m \u001b[38;5;124;03m    .. versionadded:: 0.9\u001b[39;00m\n\u001b[1;32m   (...)\u001b[0m\n\u001b[0;32m   1163\u001b[0m \u001b[38;5;124;03m    - Prime Meridian: Greenwich\u001b[39;00m\n\u001b[0;32m   1164\u001b[0m \u001b[38;5;124;03m    \"\"\"\u001b[39;00m\n\u001b[1;32m-> 1165\u001b[0m     \u001b[38;5;28;01mreturn\u001b[39;00m \u001b[38;5;28;43mself\u001b[39;49m\u001b[38;5;241;43m.\u001b[39;49m\u001b[43mvalues\u001b[49m\u001b[38;5;241;43m.\u001b[39;49m\u001b[43mestimate_utm_crs\u001b[49m\u001b[43m(\u001b[49m\u001b[43mdatum_name\u001b[49m\u001b[43m)\u001b[49m\n",
      "File \u001b[1;32m~\\anaconda3\\envs\\ox\\lib\\site-packages\\geopandas\\array.py:824\u001b[0m, in \u001b[0;36mGeometryArray.estimate_utm_crs\u001b[1;34m(self, datum_name)\u001b[0m\n\u001b[0;32m    822\u001b[0m     \u001b[38;5;28;01mfrom\u001b[39;00m \u001b[38;5;21;01mpyproj\u001b[39;00m\u001b[38;5;21;01m.\u001b[39;00m\u001b[38;5;21;01mdatabase\u001b[39;00m \u001b[38;5;28;01mimport\u001b[39;00m query_utm_crs_info\n\u001b[0;32m    823\u001b[0m \u001b[38;5;28;01mexcept\u001b[39;00m \u001b[38;5;167;01mImportError\u001b[39;00m:\n\u001b[1;32m--> 824\u001b[0m     \u001b[38;5;28;01mraise\u001b[39;00m \u001b[38;5;167;01mRuntimeError\u001b[39;00m(\u001b[38;5;124m\"\u001b[39m\u001b[38;5;124mpyproj 3+ required for estimate_utm_crs.\u001b[39m\u001b[38;5;124m\"\u001b[39m)\n\u001b[0;32m    826\u001b[0m \u001b[38;5;28;01mif\u001b[39;00m \u001b[38;5;129;01mnot\u001b[39;00m \u001b[38;5;28mself\u001b[39m\u001b[38;5;241m.\u001b[39mcrs:\n\u001b[0;32m    827\u001b[0m     \u001b[38;5;28;01mraise\u001b[39;00m \u001b[38;5;167;01mRuntimeError\u001b[39;00m(\u001b[38;5;124m\"\u001b[39m\u001b[38;5;124mcrs must be set to estimate UTM CRS.\u001b[39m\u001b[38;5;124m\"\u001b[39m)\n",
      "\u001b[1;31mRuntimeError\u001b[0m: pyproj 3+ required for estimate_utm_crs."
     ]
    }
   ],
   "source": [
    "nyu_address='57 boulevard Saint-Germain, 75005 Paris, France'\n",
    "streets_network = ox.graph.graph_from_address(nyu_address, dist=2000,network_type = 'walk')\n",
    "ox.plot_graph(streets_network,node_size=0, bgcolor='w')"
   ]
  },
  {
   "cell_type": "markdown",
   "metadata": {
    "id": "OQJJcjCYuZZK"
   },
   "source": [
    "As we see, the essential information we can extract from the graph is the list of nodes (`nodes_roads` below) and the list of arcs (`arcs_roads` below)."
   ]
  },
  {
   "cell_type": "code",
   "execution_count": null,
   "metadata": {
    "id": "yBL6V7V2uZZK",
    "outputId": "d507a093-25d0-46c3-b3eb-a09cc800dde5"
   },
   "outputs": [],
   "source": [
    "arcslist = [(i,j) for (i,j,k) in list(streets_network.edges)]\n",
    "costslist = [streets_network[i][j][0][\"length\"] for i,j in arcslist ]\n",
    "streets_pb = network_problem(list(streets_network.nodes),arcslist,costslist)"
   ]
  },
  {
   "cell_type": "markdown",
   "metadata": {
    "id": "AnT1PGtGuZZK"
   },
   "source": [
    "Now that we have the structure of the data in mind, let's develop the conceptual tools we shall need in our analysis."
   ]
  },
  {
   "cell_type": "markdown",
   "metadata": {
    "id": "UH4G-1-MuZZL"
   },
   "source": [
    "## Topology of networks\n",
    "\n",
    "### Directed graph\n",
    "\n",
    "We start by defining the directed graph on which transportation takes place.\n",
    "\n",
    "---\n",
    "**Definition**\n",
    "\n",
    "A (directed) *graph* $(\\mathcal Z,\\mathcal A)$ is a set of *nodes* (cities) $\\mathcal Z$, along with a set of *arcs* $\\mathcal A \\subseteq \\mathcal Z^2$ which are pairs $(x,y)$ such that $x \\neq  y$.\n",
    "\n",
    "---\n",
    "Our definition does not allow for an arc to have the same origin and destination. Note that for a dense network, $|\\mathcal A| = |\\mathcal Z| (|\\mathcal Z| - 1)$. For a line, $|\\mathcal A| = |\\mathcal Z| - 1$."
   ]
  },
  {
   "cell_type": "markdown",
   "metadata": {
    "id": "Zj2oJkeduZZL"
   },
   "source": [
    "**Stylized example**. Take the following example, which we shall use for exposition purposes:"
   ]
  },
  {
   "cell_type": "code",
   "execution_count": null,
   "metadata": {
    "id": "wWi3LVMcuZZL",
    "outputId": "611c5b5f-1676-42b5-b24e-80e1ce258f01"
   },
   "outputs": [],
   "source": [
    "example_graph = nx.DiGraph()\n",
    "arcslist = [('s','u'),('u','v'),('s','v'),('u','t'),('v','t')]\n",
    "costslist = [3,1,4,2,2]\n",
    "example_graph.add_edges_from(arcslist)\n",
    "\n",
    "example_pb = network_problem(list(example_graph.nodes),arcslist,costslist)\n",
    "\n",
    "pos = {'s':np.array([0,0]),'u':np.array([1,0.5]),'v':np.array([2,0]),'t':np.array([3,0])}\n",
    "nx.draw_networkx_edge_labels(example_graph,pos,edge_labels={e:('c='+str(l)) for (e,l) in zip(arcslist,costslist)},font_color='red')\n",
    "nx.draw(example_graph,pos,with_labels=True)\n",
    "plt.show()"
   ]
  },
  {
   "cell_type": "markdown",
   "metadata": {
    "id": "lw5Xhc0QuZZL"
   },
   "source": [
    "### Gradient matrix\n",
    "\n",
    "Next, we define the gradient matrix, which encodes the information contained in the directed graph.\n",
    "\n",
    "---\n",
    "**Definition**\n",
    "<a name=\"grad_mat\"></a>\n",
    "\n",
    "We define the *gradient matrix* (also called an *edge-node matrix*) as the matrix with general term $\\nabla_{ax}$, $a\\in\\mathcal{A}$, $x\\in \\mathcal{Z}$, such that\n",
    "\n",
    "\\begin{equation*}\n",
    "\\nabla_{ax} =\n",
    "\\begin{cases}\n",
    "-1 &\\text{ if $a$ is out of $x$,} \\\\\n",
    "+1 &\\text{ if $a$ is into $x$,}\\\\\n",
    "0 & \\text{ else.}\n",
    "\\end{cases}\n",
    "\\end{equation*}\n",
    "\n",
    "---\n",
    "\n",
    "Hence, if $f \\in \\mathbb R^{\\mathcal Z}$, then $\\nabla f \\in \\mathbb R^{\\mathcal Z}$, and $\\left(  \\nabla f\\right)  _{xy}=f_{y}-f_{x}$.\n",
    "\n",
    "We shall denote $\\nabla^{\\top}$ the transpose of the gradient matrix. It is the network analog of the $-\\operatorname{div}$ differential operator.\n"
   ]
  },
  {
   "cell_type": "markdown",
   "metadata": {
    "id": "TgM8ciSIuZZL"
   },
   "source": [
    "From the list of arcs, now we can easily construct our $\\nabla$ matrix, as the first component of each element of `arcs` is the origin node (which will have $-1$ entry in $\\nabla$) and the second component is the destination nodes (which will have $+1$ entry).\n",
    "An important feature of the matrix $\\nabla$ is *sparsity*: for each row (arcs), there are only two nonzero terms. We should recognize this sparse structure and code $\\nabla$ as a sparse matrix. In `scipy`, this is done using `csr_matrix`.\n",
    "We implement this as follows:"
   ]
  },
  {
   "cell_type": "code",
   "execution_count": null,
   "metadata": {
    "id": "q7rjkKu8uZZL"
   },
   "outputs": [],
   "source": [
    "def Nabla(self):\n",
    "    data = np.concatenate([-np.ones(self.nbArcs),np.ones(self.nbArcs)])\n",
    "    arcsIndices = list(range(self.nbArcs))\n",
    "    arcsOrigins = [self.nodesDict[o] for o,d in self.arcsList]\n",
    "    arcsDestinations = [self.nodesDict[d] for o,d in self.arcsList]\n",
    "    theNabla = sp.csr_matrix((data, (arcsIndices+arcsIndices, arcsOrigins+arcsDestinations)), shape = (self.nbArcs,self.nbNodes))\n",
    "    return(theNabla)\n",
    "\n",
    "network_problem.Nabla = Nabla"
   ]
  },
  {
   "cell_type": "markdown",
   "metadata": {
    "id": "YDujCorVuZZM"
   },
   "source": [
    "If we want to visualize, we need to convert it to a `np.array` matrix using the `.toarray()` method.\n",
    "\n",
    "**Stylized example**. In the case of our example, the matrix looks like the following:"
   ]
  },
  {
   "cell_type": "code",
   "execution_count": null,
   "metadata": {
    "id": "IbGV5I9suZZM",
    "outputId": "559abdf8-de17-4030-a013-13525d5b6318"
   },
   "outputs": [],
   "source": [
    "example_pb.Nabla().toarray()"
   ]
  },
  {
   "cell_type": "markdown",
   "metadata": {
    "id": "qJ19i5hauZZM"
   },
   "source": [
    "Take the first line in the example above, for instance, which is associated with the `uv` arc. It has a —1 entry on the first column entry (indicating leaving the node `u`), and a +1 entry on the second column entry (indicating entering the node `v`)."
   ]
  },
  {
   "cell_type": "markdown",
   "metadata": {
    "id": "MX_qrKVOuZZM"
   },
   "source": [
    "### Paths and loops\n",
    "\n",
    "Next, we define the terms *paths* and *loops*.\n",
    "\n",
    "---\n",
    "**Definition**\n",
    "\n",
    "Given two nodes $x$ and $y$, a *path* from $x$ to $y$ is a sequence $z_{1},z_{2},...,z_{K}$ in $\\mathcal{Z}$ where $z_{1}=x$, $z_{K}=y$, and for every $1\\leq k\\leq K-1$, $\\left(  z_{k},z_{k+1}\\right)  \\in\\mathcal{A}$.\n",
    "\n",
    "\n",
    "A *loop* (also called *cycle*) is a path from a node $x$ to itself.\n",
    "\n",
    "---\n",
    "\n",
    "**Stylized example**. In our stylized example, `(s,u,v,t)` is a path, but `(s,v,u,t)` is not a path."
   ]
  },
  {
   "cell_type": "markdown",
   "metadata": {
    "id": "wbNYwkzDuZZN"
   },
   "source": [
    "### Transportation costs\n",
    "\n",
    "A vector $c\\in\\mathbb{R}^{\\mathcal{A}}$ defines transportation costs. That is, for $xy\\in\\mathcal{A}$, $c_{xy}$ is the transportation cost associated to arc $xy$. $c$ can also be thought of as the length of arc $xy$. The cost of moving the good from node $x$ to node $y$ along path $z_{1},z_{2},...,z_{K}$ is\n",
    "\n",
    "\\begin{align*}\n",
    "\\sum_{k=1}^{K-1}c_{z_{k}z_{k+1}}.\n",
    "\\end{align*}"
   ]
  },
  {
   "cell_type": "markdown",
   "metadata": {
    "id": "lyKn5cSHuZZN"
   },
   "source": [
    "## Assumptions about the network\n",
    "\n",
    "We shall introduce a number of natural assumptions about the network."
   ]
  },
  {
   "cell_type": "markdown",
   "metadata": {
    "id": "ySxWhD0QuZZN"
   },
   "source": [
    "### No profitable loop\n",
    "---\n",
    "**Assumption** [No profitable loop]\n",
    "<a name=\"noprofitloop\"></a>\n",
    "\n",
    "There is no profitable loop, which means that there is no sequence $z_{1},...,z_{K}$ in $\\mathcal{Z}$ such that $z_{K}=z_{1}$, $\\left(  z_{k},z_{k+1}\\right)  \\in\\mathcal{A}$, and $\\sum_{k=1}^{K-1}c_{z_{k}z_{k+1}}<0$.\n",
    "\n",
    "---\n",
    "\n",
    "In particular, there is no profitable loop if $c\\geq0$."
   ]
  },
  {
   "cell_type": "markdown",
   "metadata": {
    "id": "iBZ0F5M5uZZO"
   },
   "source": [
    "### Balancedness\n",
    "Let $q_{z}$ be the *net demand* at node $z \\in \\mathcal{Z}$, which is the quantity of goods disappearing from the graph. The set of nodes defined by\n",
    "\n",
    "\\begin{align*}\n",
    "\\mathcal{Z}_{0}=\\left\\{  x\\in\\mathcal{Z}:q_{x}<0\\right\\}  \\text{, and }\\mathcal{Z}_{1}=\\left\\{  y\\in\\mathcal{Z}:q_{y}>0\\right\\}\n",
    "\\end{align*}\n",
    "\n",
    "are called the *supply nodes* and *demand nodes* respectively. A node which is neither a supply node, neither a demand node is called a *transit node*.\n",
    "\n",
    "Total supply is $-\\sum_{x\\in\\mathcal{Z}_{0}}q_{x}$, total demand is $\\sum_{y\\in\\mathcal{Z}_{1}}q_{y}$.\n",
    "\n",
    "---\n",
    "**Assumption** [Balancedness]\n",
    "<a name=\"balancedness\"></a>\n",
    "\n",
    "Assume that total supply equals total demand on the network, that is\n",
    "\n",
    "\\begin{align*}\n",
    "\\sum_{x\\in\\mathcal{Z}_{0}}q_{x}+\\sum_{y\\in\\mathcal{Z}_{1}}q_{y}=0.\n",
    "\\end{align*}\n",
    "\n",
    "---"
   ]
  },
  {
   "cell_type": "markdown",
   "metadata": {
    "id": "RdDweJmKuZZO"
   },
   "source": [
    "### Connectedness\n",
    "\n",
    "---\n",
    "**Assumption** [Connectedness]\n",
    "<a name=\"connectedness\"></a>\n",
    "\n",
    "Assume the set of supply nodes $\\mathcal{Z}_{0}$ is *strongly connected* to the set of demand nodes $\\mathcal{Z}_{1}$, i.e. for every $x\\in\\mathcal{Z}_{0}$ and $y\\in \\mathcal{Z}_{1}$, there is a path from $x$ to $y$.\n",
    "\n",
    "---\n"
   ]
  },
  {
   "cell_type": "markdown",
   "metadata": {
    "id": "Oe7sVwQ2uZZO"
   },
   "source": [
    "### Regular networks\n",
    "\n",
    "The specification of the graph, the net demand vector, and the surplus vector\n",
    "defines a network.\n",
    "\n",
    "---\n",
    "**Definition**\n",
    "\n",
    "A directed graph $\\left(\\mathcal{Z},\\mathcal{A}\\right)$ endowed with a net demand vector $\\left(n_{z}\\right)_{z \\in \\mathcal{Z}}$ and a cost vector $\\left(c_{a}\\right)_{a\\in\\mathcal{A}}$ is called a *network* $\\left(\\mathcal{Z}, \\mathcal{A}, q, c\\right)$. If the three assumptions above: [no profitable loop](#noprofitloop), [balancedness](#balancedness) and [connectedness](#connectedness) all hold, the network is called *regular*.\n",
    "\n",
    "---\n",
    "\n",
    "Without mention of the contrary we shall assume that the network under consideration is regular.\n"
   ]
  },
  {
   "cell_type": "markdown",
   "metadata": {
    "id": "vyywnuGkuZZP"
   },
   "source": [
    "### Flows and feasible flows\n",
    "\n",
    "A *flow* is a vector $\\mu$ on $\\mathbb{R}_+^{\\mathcal{A}}$, where $\\mu_a$ is the quantity of mass passing through arc $a$.\n",
    "\n",
    "The flow of mass disappearing at $z$ equals the flow arriving from other nodes minus the flow shipping to other nodes\n",
    "\n",
    "\\begin{align*}\n",
    "q_{z}=\\sum_{x:xz \\in\\mathcal{A}}\\mu_{xz}-\\sum_{y:zy \\in\\mathcal{A}}\\mu_{zy}\n",
    "\\end{align*}\n",
    "\n",
    "and this equation can be rewritten as $\\nabla^{\\top}\\mu=n$. This motivates the following definition:\n",
    "\n",
    "---\n",
    "**Definition**\n",
    "\n",
    "The set of feasible flows associated with $q$, denoted $\\mathcal{M}\\left(  q\\right)$, or $\\mathcal{M}$ when there is no ambiguity, is defined as the set of flows $\\mu\\geq0$ that verify the conservation equation\n",
    "\n",
    "\\begin{equation*}\n",
    "    \\nabla^{\\top}\\mu = q.\n",
    "\\end{equation*}\n",
    "\n",
    "---\n"
   ]
  },
  {
   "cell_type": "markdown",
   "metadata": {
    "id": "x9QGKI0vuZZP"
   },
   "source": [
    "**Stylized example**. In our stylized example, the flow of mass $\\mu$ associated with arc `(s,u,v,t)` has one unit of mass on arcs `su`,`uv`, and `vt`. Hence,  $\\nabla ^\\top \\mu$ is:"
   ]
  },
  {
   "cell_type": "code",
   "execution_count": null,
   "metadata": {
    "id": "Md7I41UDuZZP",
    "outputId": "3177594a-091e-440e-a497-169902d0dc23",
    "scrolled": true
   },
   "outputs": [],
   "source": [
    "# example_pb.arcsList\n",
    "# example_pb.nodesList\n",
    "mu = np.array([1,1,0,0,1])\n",
    "(example_pb.Nabla().transpose() * mu.reshape(-1,1)).reshape(1,-1)"
   ]
  },
  {
   "cell_type": "markdown",
   "metadata": {
    "id": "DXfbT0mauZZP"
   },
   "source": [
    "We see that the vector of exiting flows $\\nabla ^\\top \\mu$ is equal to $-1$ on arc `s`, equal to $1$ on arc `t`, and equal to zero elsewhere. Mass ''appears'' at the start of the path `s`, ''disappears'' at the end of the path `t`, and is conserved along the path and elsewhere in the network.\n",
    "\n",
    "Conversely, if $q_z = \\mathbf 1\\{z=t\\} - \\mathbf 1\\{z=s\\}$, and for $\\mu\\in\\mathcal{M}(q)$, one may find a path from `s` to `t` along the support of $\\mu$, by the following simple algorithm, which consists of looking for an arc in the support of $\\mu$ originating at the current node, replacing the current node by the destination of the arc, and deleting the arc. It is easy to see that this algorithm will get from `s` to `t` in a finite number of steps. We implement it below:"
   ]
  },
  {
   "cell_type": "code",
   "execution_count": null,
   "metadata": {
    "id": "6q3nedbTuZZQ"
   },
   "outputs": [],
   "source": [
    "def pathfinder(self,mu,sind,tind):\n",
    "    # assume mu is such that $\\Nabla^\\top \\mu =1 on t, =-1 on s, and =0 elsewhere\n",
    "    t = self.nodesList[tind]\n",
    "    arcs_active = [(x,y) for (x,y) in self.arcsList if (mu[self.arcsDict[(x,y)]] > 0) ]\n",
    "    current = self.nodesList[sind]\n",
    "    path = [current]\n",
    "    while current != t:\n",
    "        (x,y) = next((x,y) for (x,y) in arcs_active if x==current)\n",
    "        path.append(y)\n",
    "        current = y\n",
    "        arcs_active.remove((x,y))\n",
    "    return(path)\n",
    "\n",
    "\n",
    "network_problem.pathfinder = pathfinder"
   ]
  },
  {
   "cell_type": "markdown",
   "metadata": {
    "id": "umCqxT3TuZZQ"
   },
   "source": [
    "**Stylized example**. We run this in our stylized example, to determine a path associated with `mu = np.array([1,1,0,0,1])` from `s` to `t`. We get:"
   ]
  },
  {
   "cell_type": "code",
   "execution_count": null,
   "metadata": {
    "id": "83dwvf0QuZZR",
    "outputId": "130550cb-4d17-43c9-8851-b458b9b7f01d"
   },
   "outputs": [],
   "source": [
    "example_pb.pathfinder(mu,0,3)"
   ]
  },
  {
   "cell_type": "markdown",
   "metadata": {
    "id": "czFZ3AivuZZR"
   },
   "source": [
    "## The min-cost flow problem\n",
    "\n",
    "Let $p_{z}$ be the price of the commodity at $z$. Consider the strategy which consists in purchasing the good at $x$, shipping to $y$, and selling at $y$. The profit of this strategy is\n",
    "\n",
    "\\begin{align*}\n",
    "p_y - p_x - c_{xy} = (\\nabla p - c)_{xy}\n",
    "\\end{align*}\n",
    "\n",
    "and hence there is no arbitrage opportunity if $p_y - p_x - c_{xy} \\leq 0$ for every arc $xy$, that is\n",
    "\n",
    "\\begin{align*}\n",
    "\\nabla p \\leq c.\n",
    "\\end{align*}\n",
    "\n",
    "Consider the *minimum cost flow problem*\n",
    "<a name=\"primal\"></a>\n",
    "\\begin{align*}\n",
    "\\min_{\\mu \\geq 0} & ~ \\sum_{(x,y) \\in \\mathcal A} \\mu_{xy} c_{xy} \\\\\n",
    "\\text{s.t.} & ~ \\nabla^\\top \\mu = q\n",
    "\\end{align*}\n",
    "\n",
    "which is a linear programming problem whose dual is\n",
    "<a name=\"dual\"></a>\n",
    "\\begin{align*}\n",
    "\\max_{p \\in \\mathbb R^{\\mathcal Z}} & ~ \\sum_{z \\in \\mathcal Z} p\n",
    "_z q_z \\\\\n",
    "\\text{s.t.} & ~ \\nabla p\\leq c.\n",
    "\\end{align*}\n"
   ]
  },
  {
   "cell_type": "markdown",
   "metadata": {
    "id": "SE_vy2YJuZZR"
   },
   "source": [
    "## Min-cost flow duality\n",
    "\n",
    "---\n",
    "**Proposition**\n",
    "1. Under Assumption [No profitable loop](#noprofitloop), the [dual problem](#dual) is feasible, which means that there is a vector $p \\in \\mathbb R^{\\mathcal Z}$ such that $\\nabla p \\leq c$; and the value of [primal problem](#primal) is strictly less than $+\\infty$.\n",
    "\n",
    "2. Under Assumptions [balancedness](#balandedness) and [connectedness](#connectedness), the [primal problem](#primal) is feasible, which means that there is a flow $\\mu \\geq 0$ such that $\\nabla^{\\top} \\mu = q$; and the value of [dual problem](#dual) is strictly greater than $-\\infty$.\n",
    "\n",
    "---\n",
    "\n",
    "Assume that $(\\mathcal Z, \\mathcal A, q, c)$ is a regular network. Then the value of the [primal problem](#primal) coincides with the value of its [dual](#dual), and both problems have solutions. Further, if $\\mu$ is a solution to the primal and $p$ is a solution to the dual, then $\\mu_{xy} > 0$ implies $p_y - p_x = c_{xy}$."
   ]
  },
  {
   "cell_type": "code",
   "execution_count": null,
   "metadata": {
    "id": "3CB7Ge5tuZZR"
   },
   "outputs": [],
   "source": [
    "def network_problem_mincostflow(self,q,OutputFlag=True):\n",
    "    Nabla = self.Nabla()\n",
    "    m=grb.Model()\n",
    "    m.setParam('OutputFlag', OutputFlag)\n",
    "    p = m.addMVar(shape=self.nbNodes, name=\"p\", lb = float('-inf'))\n",
    "    m.setObjective(q @ p, grb.GRB.MAXIMIZE)\n",
    "    m.addConstr( Nabla @ p <= np.array(self.costsList))\n",
    "    m.optimize()\n",
    "    if m.status == grb.GRB.Status.OPTIMAL:\n",
    "        p_z = m.getAttr('x')\n",
    "        mu_a = m.getAttr('pi')\n",
    "    return np.array((p_z,mu_a),dtype=object)\n",
    "\n",
    "network_problem.mincostflow =  network_problem_mincostflow"
   ]
  },
  {
   "cell_type": "markdown",
   "metadata": {
    "id": "cnc3SSxRuZZS"
   },
   "source": [
    "# Special cases\n",
    "\n",
    "## Shortest path problem\n",
    "\n",
    "Assume there is only one source node $s \\in \\mathcal{Z}$ and one target node $t\\in\\mathcal{Z}$, each associated with unit flow. That is, $q_{z} = \\mathbf 1 \\{z=t\\}  - \\mathbf 1\\{z=s\\}$. Then the problem boils down to how to push one unit of mass from $s$ to $t$. If we interpret $c_{xy}$ as the distance along arc $xy$, the solution of this problem corresponds to the shortest path from $s$ to $t$. This is why this problem is called shortest path problem. (More generally, this problem extends to the case when $c$ does not have a negative loop).\n",
    "\n",
    "The dual problem is then\n",
    "\n",
    "\\begin{align*}\n",
    "\\max_p & ~ p_t - p_s \\\\\n",
    "\\text{s.t.} & ~ p_y - p_x \\leq c_{xy}, \\quad \\forall xy \\in \\mathcal{A}\n",
    "\\end{align*}\n",
    "\n",
    "and we can impose normalization $p_{s}=0$, so that along the travelled path, $p_{z}$ interprets as the distance travelled thus far."
   ]
  },
  {
   "cell_type": "markdown",
   "metadata": {
    "id": "foKj3PzfuZZS"
   },
   "source": [
    "**Stylized example**. We run the min-cost flow problem in its ''shortest path'' version on our stylized example, with origin at node `s` and destination at node `t`."
   ]
  },
  {
   "cell_type": "code",
   "execution_count": null,
   "metadata": {
    "id": "88rc_Pf2uZZS",
    "outputId": "31e03d8a-47bc-402f-d654-9d01ddf1c67c"
   },
   "outputs": [],
   "source": [
    "p_z,mu_a = example_pb.mincostflow(np.array([[-1.,  0.,  0.,  1.]]))\n",
    "print('\\np_z='+str(p_z)+', and \\nμ_a ='+str(mu_a) )\n",
    "#example_pb.arcsList\n",
    "example_pb.pathfinder(mu_a,0,3)"
   ]
  },
  {
   "cell_type": "markdown",
   "metadata": {
    "id": "BoNH-nMhuZZS"
   },
   "source": [
    "We see that the shortest path in the sytlized example is `sut`, with a total cost of 5."
   ]
  },
  {
   "cell_type": "markdown",
   "metadata": {
    "id": "zTTnDmOGuZZS"
   },
   "source": [
    "**NYC subway dataset**. We now move on to the subway dataset, where we are trying to find the shortest path from NYU to Columbia."
   ]
  },
  {
   "cell_type": "code",
   "execution_count": null,
   "metadata": {
    "id": "d9bKu791uZZS"
   },
   "outputs": [],
   "source": [
    "def network_problem_shortestPathLP(self,origin_node,destination_node, OutputFlag = True):\n",
    "    q = np.zeros(self.nbNodes)\n",
    "    q[origin_node] = -1\n",
    "    q[destination_node] = 1\n",
    "    p_z,mu_a = self.mincostflow(q,OutputFlag)\n",
    "    return self.pathfinder(mu_a,origin_node,destination_node)\n",
    "\n",
    "network_problem.shortestPathLP = network_problem_shortestPathLP"
   ]
  },
  {
   "cell_type": "code",
   "execution_count": null,
   "metadata": {
    "id": "Jl4JPaNauZZT",
    "outputId": "1183beb2-1b4d-48e0-a239-4c78850bbddb"
   },
   "outputs": [],
   "source": [
    "orig, dest = subway_pb.nodesDict['8 St - NYU (N/R)'] ,subway_pb.nodesDict['116 St - Columbia University (1)']\n",
    "subway_pb.shortestPathLP(orig,dest )"
   ]
  },
  {
   "cell_type": "markdown",
   "metadata": {
    "id": "UmP1mnNCuZZT"
   },
   "source": [
    "**Paris streets dataset**. We shall now look for the shortest path between the centers of NYU and Columbia in Paris through the pedestrian network on the Parisian streets. First, let us use `osmnx`'s function `geocode` to convert the addresses into geographic coordinates, and then `get_nearest_node` to find the two nearest nodes on the network."
   ]
  },
  {
   "cell_type": "code",
   "execution_count": null,
   "metadata": {
    "id": "S2klr-TIuZZT"
   },
   "outputs": [],
   "source": [
    "nyu_geocode  = ox.geocode('57 boulevard Saint-Germain, 75005 Paris, France') # NYU Paris\n",
    "columbia_geocode = ox.geocode('4 Rue de Chevreuse, 75006 Paris') # Columbia in Paris\n",
    "orig = streets_pb.nodesDict[ox.distance.nearest_nodes(streets_network, nyu_geocode[1],nyu_geocode[0])]\n",
    "dest = streets_pb.nodesDict[ox.distance.nearest_nodes(streets_network, columbia_geocode[1],columbia_geocode[0])]"
   ]
  },
  {
   "cell_type": "markdown",
   "metadata": {
    "id": "Ns6jJX38uZZT"
   },
   "source": [
    "We determine the minumum cost flow using Gurobi, and obtain the shortest path accordingly:"
   ]
  },
  {
   "cell_type": "code",
   "execution_count": null,
   "metadata": {
    "id": "XoSsGZAcuZZT"
   },
   "outputs": [],
   "source": [
    "path = streets_pb.shortestPathLP(orig,dest, OutputFlag = False)"
   ]
  },
  {
   "cell_type": "markdown",
   "metadata": {
    "id": "rg7JKY2JuZZT"
   },
   "source": [
    "We can plot the shortest path using `osmnx`'s `plot_graph_route` function."
   ]
  },
  {
   "cell_type": "code",
   "execution_count": null,
   "metadata": {
    "id": "ZBs2duA3uZZT",
    "outputId": "b81501d3-fceb-416f-8f55-18f5997af000"
   },
   "outputs": [],
   "source": [
    "fig, ax = ox.plot_graph_route(streets_network, path, route_linewidth=6, node_size=0, bgcolor='w')"
   ]
  },
  {
   "cell_type": "markdown",
   "metadata": {
    "id": "U9Y_p0FhuZZU"
   },
   "source": [
    "We can describe the path using:"
   ]
  },
  {
   "cell_type": "code",
   "execution_count": null,
   "metadata": {
    "id": "UgtsF_3TuZZU",
    "outputId": "08a0d2d7-2708-46fb-bc94-9a95f31b335c"
   },
   "outputs": [],
   "source": [
    "names = []\n",
    "for i in range(len(path)-1):\n",
    "    newitem = streets_network.edges[(path[i], path[i+1],0)][\"name\"]\n",
    "    if type(newitem) == list:\n",
    "        names = names+newitem.copy()\n",
    "    else:\n",
    "        names.append(newitem)\n",
    "directions = []\n",
    "oldname = ''\n",
    "for name in names:\n",
    "    if name != oldname:\n",
    "        directions.append(name)\n",
    "        oldname = name\n",
    "print(directions)"
   ]
  },
  {
   "cell_type": "markdown",
   "metadata": {
    "id": "f75ooiH4uZZU"
   },
   "source": [
    "### Shortest path via dynamic programming\n",
    "\n",
    "We have advocated for the use of Gurobi as a black box in this problem, but there exists a direct method to find out the minimal cost path, using dynamic programming.\n",
    "\n",
    "The crucial remark here is that if there is a minimal cost path from $s$ to $t$, then there is one of length at most $|\\mathcal Z| - 1$.\n",
    "\n",
    "For $z \\in \\mathcal Z$ and $k \\in \\mathbb N$, let $C_{sz}^{k}$ be the minimal cost of the path from $s$ to $z$ among paths of length at most $k$, with the convention that $C_{sz}^k = +\\infty$ if there is no such path. One has:\n",
    "\n",
    "* $C_{ss}^0 = 0$ and $C_{sz}^0 = +\\infty$ for all $z \\neq s$, and\n",
    "\n",
    "* for $k \\geq 1$, $C_{sz}^k$ satisfies the Bellman equation:\n",
    "\n",
    "\\begin{align*}\n",
    "C_{sz}^{k} =\n",
    "\\min_{} \\left\\{ C_{sz}^{k-1},\n",
    "\\min_{x \\in \\mathcal Z: xz \\in \\mathcal A} \\left\\{c_{sx} + C_{xz}^{k-1} \\right\\}\n",
    "\\right\\}.\n",
    "\\end{align*}\n",
    "\n",
    "It is easy to see that $C_{st}^{|\\mathcal Z|}$ is the minimal cost of any path from $s$ to $t$. Shortest-paths algorithms (Dijikstra and Bellman-Ford) implement this idea.\n",
    "\n",
    "In `networkx`, this is implemented using:"
   ]
  },
  {
   "cell_type": "code",
   "execution_count": null,
   "metadata": {
    "id": "97p1Z-SRuZZU",
    "outputId": "ddf4f12d-ff08-46f0-a27a-3140fec4656a"
   },
   "outputs": [],
   "source": [
    "path_bis = nx.shortest_path(streets_network,streets_pb.nodesList[orig], streets_pb.nodesList[dest], weight='length')\n",
    "path == path_bis"
   ]
  },
  {
   "cell_type": "markdown",
   "metadata": {
    "id": "CNlQxL7guZZU"
   },
   "source": [
    "We can also translate the above idea into code and recover the shortest path from NYU to Columbia through the NYU subway network."
   ]
  },
  {
   "cell_type": "code",
   "execution_count": null,
   "metadata": {
    "id": "OQCCAEBQuZZU"
   },
   "outputs": [],
   "source": [
    "def network_problem_shortestPathDP(self,origin_node,destination_node, OutputFlag = True):\n",
    "    successor = {z: None for z in self.nodesList}\n",
    "    C_z = np.inf * np.ones(self.nbNodes)\n",
    "    d_xy = np.array(self.costsList)\n",
    "    C_z[destination_node] = 0\n",
    "    delta_x_y = np.zeros((self.nbNodes,self.nbNodes))\n",
    "    update = True\n",
    "    while update:\n",
    "        update = False\n",
    "        for x,y in self.arcsList:\n",
    "            xind,yind = self.nodesDict[x],self.nodesDict[y]\n",
    "            if d_xy[self.arcsDict[(x,y)] ] +  C_z[yind]  < C_z[xind]:\n",
    "                update = True\n",
    "                C_z[xind] = d_xy[self.arcsDict[(x,y)] ] +  C_z[yind]\n",
    "                successor[x]=y\n",
    "\n",
    "    z = self.nodesList[origin_node]\n",
    "    path = [z]\n",
    "    while (successor[z] != self.nodesList[destination_node]):\n",
    "        z = successor[z]\n",
    "        path.append(z)\n",
    "    path.append(self.nodesList[destination_node])\n",
    "    if OutputFlag == True:\n",
    "        print(\"Cost = \",C_z[origin_node])\n",
    "    return path\n",
    "\n",
    "network_problem.shortestPathDP = network_problem_shortestPathDP"
   ]
  },
  {
   "cell_type": "code",
   "execution_count": null,
   "metadata": {
    "id": "IRrPlGdluZZU",
    "outputId": "6395f53a-d544-4e7e-dcfa-619dd82e249d"
   },
   "outputs": [],
   "source": [
    "orig, dest = subway_pb.nodesDict['8 St - NYU (N/R)'] ,subway_pb.nodesDict['116 St - Columbia University (1)']\n",
    "subway_pb.shortestPathDP(orig,dest )"
   ]
  },
  {
   "cell_type": "markdown",
   "metadata": {
    "id": "15zVzN9_uZZV"
   },
   "source": [
    "## Transportation problem\n",
    "\n",
    "Assume the problem is bipartite, that is $\\mathcal Z = \\mathcal X \\cup \\mathcal Y$ and $\\mathcal A \\subseteq \\mathcal X \\times \\mathcal Y$. That is, there are no intermediate nodes, and an arc can only go directly from a source to a target.\n",
    "\n",
    "Note that any min-cost flow problem can be recast in this form, by taking the shortest distance between any source node and any target node.\n",
    "\n",
    "The dual problem is then\n",
    "\n",
    "\\begin{align*}\n",
    "\\max_p & ~ \\sum_{z \\in \\mathcal Z} p_z q_z \\\\\n",
    "\\text{s.t.} & ~ p_y - p_x \\leq c_{xy}\n",
    "\\quad \\forall x \\in \\mathcal X, y \\in \\mathcal Y\n",
    "\\end{align*}\n",
    "\n",
    "which is our first encounter with optimal transport (more on this later in the course)."
   ]
  },
  {
   "cell_type": "markdown",
   "metadata": {
    "id": "PERDIAZzuZZV"
   },
   "source": [
    "**Soviet planning dataset**. Back to the soviet planning dataset, we can now compute the optimal dispatch of each of the plant."
   ]
  },
  {
   "cell_type": "code",
   "execution_count": null,
   "metadata": {
    "id": "EHw3nCH6uZZV",
    "outputId": "482e59b0-af55-4501-91ea-c82ccaddc4ec"
   },
   "outputs": [],
   "source": [
    "q = np.concatenate((-soviet_df.iloc[68,1:-1],soviet_df.iloc[0:-1,11]))\n",
    "p_z,mu_a = soviet_pb.mincostflow(q)"
   ]
  }
 ],
 "metadata": {
  "colab": {
   "provenance": []
  },
  "kernelspec": {
   "display_name": "Python 3 (ipykernel)",
   "language": "python",
   "name": "python3"
  },
  "language_info": {
   "codemirror_mode": {
    "name": "ipython",
    "version": 3
   },
   "file_extension": ".py",
   "mimetype": "text/x-python",
   "name": "python",
   "nbconvert_exporter": "python",
   "pygments_lexer": "ipython3",
   "version": "3.9.18"
  }
 },
 "nbformat": 4,
 "nbformat_minor": 4
}

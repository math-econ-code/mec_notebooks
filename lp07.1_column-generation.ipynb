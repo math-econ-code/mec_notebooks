{
 "cells": [
  {
   "cell_type": "markdown",
   "metadata": {
    "id": "btS1bfjiNb7F"
   },
   "source": [
    "# <center>Large-scale methods: column generation</center>\n",
    "### <center>Alfred Galichon (NYU & Sciences Po)</center>\n",
    "## <center>'math+econ+code' masterclass series</center>\n",
    "#### <center>With python code examples</center>\n",
    "© 2018–2023 by Alfred Galichon. Past and present support from NSF grant DMS-1716489, ERC grant CoG-866274 are acknowledged, as well as inputs from contributors listed [here](http://www.math-econ-code.org/team).\n",
    "\n",
    "**If you reuse material from this masterclass, please cite as:**<br>\n",
    "Alfred Galichon, 'math+econ+code' masterclass series. https://www.math-econ-code.org/\n",
    "\n",
    "\n",
    "### References\n",
    "\n",
    "* Dantzig, G.B. and Wolfe, P. (1960). \"Decomposition Principle for Linear Programs\". *Operations Research*. 8: 101–111.\n",
    "\n",
    "* Luenberger, D. and Ye, Y. (2008). *Linear and Nonlinear Optimization*. Springer."
   ]
  },
  {
   "cell_type": "code",
   "execution_count": 1,
   "metadata": {},
   "outputs": [],
   "source": [
    "import numpy as np\n",
    "from mec.lp import Tableau\n",
    "import gurobipy as grb\n",
    "from sympy import symbols"
   ]
  },
  {
   "cell_type": "code",
   "execution_count": 2,
   "metadata": {},
   "outputs": [],
   "source": [
    "class Pivoter():\n",
    "    def __init__(self,B_i_b,x_b):\n",
    "        self.nbb = B_i_b.shape[0]\n",
    "        self.B_i_b = B_i_b\n",
    "        self.x_b = x_b\n",
    "    \n",
    "    def determine_departing(self,Nent_i):\n",
    "        z_b = np.linalg.solve(self.B_i_b,Nent_i) \n",
    "        thedic = {b: self.x_b[b] / z_b[b] for b in range(self.nbb) if z_b[b]>0}\n",
    "        bdep = min(thedic, key = thedic.get)\n",
    "        epsilon = thedic[bdep]\n",
    "        return bdep , epsilon\n",
    "    \n",
    "    def update(self,bdep,epsilon,Nent_i):\n",
    "        self.x_b = self.x_b - epsilon * np.linalg.solve(self.B_i_b,Nent_i) \n",
    "        self.x_b[bdep] = epsilon\n",
    "        self.B_i_b[:,bdep] = Nent_i"
   ]
  },
  {
   "cell_type": "markdown",
   "metadata": {},
   "source": [
    "Consider the problem<br>\n",
    "$\\max_{x \\geq 0} c^\\top x$<br>\n",
    "$Ax = d$\n",
    "\n",
    "Assume that variables are given by\\\n",
    "$B x_B + N x_N = d$.\n",
    "\n",
    "The objective function can be written as:\\\n",
    "$c^\\top_B B^{-1}d +(c^\\top_N- c^\\top_B B^{-1} N )x_N$\n",
    "\n",
    "We can thus define the dual simplex variable:\n",
    "\n",
    "$y = (B^{-1} )^\\top c_B $\n",
    "\n",
    "so that\n",
    "\n",
    "$\n",
    "A^{\\top }y-c=\n",
    "\\begin{pmatrix}\n",
    "B^{\\top }y-c_{B} \\\\ \n",
    "N^{\\top }y-c_{N}\n",
    "\\end{pmatrix}\n",
    "=\n",
    "\\begin{pmatrix}\n",
    "0_B \\\\ \n",
    "N^{\\top }y-c_{N}\n",
    "\\end{pmatrix}\n",
    "$\n",
    "\n",
    "and thus complementary slackness<br>\n",
    "$x^\\top = x^\\top_B 0_B + x^\\top_N (A^{\\top }y-c)=0$<br>\n",
    "is satisfied, as $x_N = 0$.\n",
    "\n",
    "Yet dual feasibility is not attained unless $t_N \\geq 0$, where<br> \n",
    "$t_N = N^\\top y - c_N$<br>\n",
    "is the dual slack variable\n"
   ]
  },
  {
   "cell_type": "code",
   "execution_count": 68,
   "metadata": {},
   "outputs": [],
   "source": [
    "class MatrixTableau(Pivoter):\n",
    "    def __init__(self,B_i_b,N_i_n, d_i,c_n, c_b=None  ,names_basic = None, names_nonbasic = None):\n",
    "        Pivoter.__init__(self,B_i_b,np.linalg.solve(B_i_b, d_i))\n",
    "        self.N_i_n = N_i_n\n",
    "        self.d_i = d_i\n",
    "        if c_b is None:\n",
    "            self.c_b = np.zeros(self.nbb)\n",
    "        else:\n",
    "            self.c_b = c_b\n",
    "        self.c_n = c_n\n",
    "        self.nbn = N_i_n.shape[1]\n",
    "        if names_basic is None:\n",
    "            self.names_basic = ['s_'+str(b) for b in range(self.nbb)]\n",
    "        else:\n",
    "            self.names_basic = names_basic\n",
    "        if names_nonbasic is None:\n",
    "            self.names_nonbasic = ['x_'+str(n) for n in range(self.nbn)]\n",
    "        else:\n",
    "            self.names_nonbasic = names_nonbasic\n",
    "            \n",
    "                \n",
    "    def display(self):\n",
    "        expr_i = self.d_i - np.linalg.solve(self.B_i_b, self.N_i_n) @ symbols(self.names_nonbasic)\n",
    "        for i in range(self.nbb) :\n",
    "            print(self.names_basic[i]+'='+str(expr_i[i] ) )\n",
    "        print('obj=',self.x_b.dot(self.c_b))\n",
    "\n",
    "    def update(self,bdep,nent,epsilon):\n",
    "        Nent_i,Bdep_i = self.N_i_n[:,nent].copy(),self.B_i_b [:, bdep].copy()\n",
    "        Pivoter.update(self,bdep,epsilon,Nent_i)\n",
    "        self.N_i_n [ :, nent ]  = Bdep_i\n",
    "        self.c_b[ bdep ] , self.c_n [ nent ] = self.c_n [ nent ] , self.c_b[ bdep ]\n",
    "        self.names_basic[ bdep ] , self.names_nonbasic[ nent ] =  self.names_nonbasic[ nent ] , self.names_basic[ bdep ]\n",
    "        \n",
    "    def determine_departing(self,nent):\n",
    "        return Pivoter.determine_departing(self,self.N_i_n[:,nent])\n",
    "        \n",
    "    def determine_entering(self):\n",
    "        t_n = self.N_i_n.T @ np.linalg.solve(self.B_i_b.T,self.c_b) - self.c_n  \n",
    "        entering_candidates = [ (n,self.names_nonbasic[n]) for n in range(self.nbn) if (t_n[n] < 0 ) ]\n",
    "        if (entering_candidates):\n",
    "            return min(entering_candidates, key = lambda couple: couple[1])[0]\n",
    "        else:\n",
    "            return None\n",
    "        \n",
    "    def gurobi_solve(self ,verbose=0):\n",
    "        m = grb.Model()\n",
    "        gx_b = m.addMVar(self.nbb)\n",
    "        gx_n = m.addMVar(self.nbn)\n",
    "        m.Params.OutputFlag = verbose\n",
    "        gconstr_i = m.addConstr(self.B_i_b @ gx_b + self.N_i_n @ gx_n == self.d_i)\n",
    "        m.setObjective(gx_b @ self.c_b+ gx_n @ self.c_n, sense=grb.GRB.MAXIMIZE)\n",
    "        m.optimize()\n",
    "        return(m.objVal)\n",
    "    \n",
    "    def solve(self,verbose = 0):\n",
    "        niter = 0\n",
    "        while True:\n",
    "            niter += 1\n",
    "            nent = self.determine_entering()\n",
    "            if nent is None:\n",
    "                if verbose > 0:\n",
    "                    print('\\nConverged in '+str(niter)+' steps. Solution:')\n",
    "                    self.display()\n",
    "                return\n",
    "            else:\n",
    "                bdep,eps = self.determine_departing(nent)\n",
    "                if verbose>0:\n",
    "                    print('iter='+str(niter)+': entering='+self.names_nonbasic[nent]+'; departing='+self.names_basic[bdep]+'; obj='+str(self.x_b.dot(self.c_b)))\n",
    "                self.update( bdep , nent ,eps)"
   ]
  },
  {
   "cell_type": "code",
   "execution_count": 69,
   "metadata": {},
   "outputs": [
    {
     "name": "stdout",
     "output_type": "stream",
     "text": [
      "['s_0', 's_1']\n",
      "['x_0', 'x_1']\n",
      "1.3333333333333335\n",
      "s_0=-2.0*x_0 - 1.0*x_1 + 2\n",
      "s_1=-1.0*x_0 - 2.0*x_1 + 2\n",
      "obj= 0.0\n",
      "iter=1: entering=x_0; departing=s_0; obj=0.0\n",
      "iter=2: entering=x_1; departing=s_1; obj=1.0\n",
      "\n",
      "Converged in 3 steps. Solution:\n",
      "x_0=-0.666666666666667*s_0 + 0.333333333333333*s_1 + 2\n",
      "x_1=0.333333333333333*s_0 - 0.666666666666667*s_1 + 2\n",
      "obj= 1.3333333333333335\n"
     ]
    }
   ],
   "source": [
    "example_tableau = MatrixTableau(np.eye(2),\n",
    "                          np.array([[2, 1], [1, 2]]),\n",
    "                          np.array([2,2]),\n",
    "                          np.array([1,1]))\n",
    "\n",
    "print(example_tableau.names_basic)\n",
    "print(example_tableau.names_nonbasic)\n",
    "print(example_tableau.gurobi_solve())\n",
    "example_tableau.display()\n",
    "example_tableau.solve(1)"
   ]
  },
  {
   "cell_type": "code",
   "execution_count": 72,
   "metadata": {},
   "outputs": [],
   "source": [
    "import pandas as pd\n",
    "thepath = 'https://raw.githubusercontent.com/math-econ-code/mec_optim_2021-01/master/data_mec_optim/lp_stigler-diet/'\n",
    "filename = 'StiglerData1939.txt'\n",
    "thedata = pd.read_csv(thepath + filename, sep='\\t')\n",
    "thedata = thedata.dropna(how = 'all')\n",
    "commodities = (thedata['Commodity'].values)[:-1]\n",
    "allowance = thedata.iloc[-1, 4:].fillna(0).transpose()\n",
    "N_i_j = thedata.iloc[:-1, 4:].fillna(0).transpose().values\n",
    "N_i_j = N_i_j[:5,:7]\n",
    "nbi, nbj = N_i_j.shape\n",
    "c_j = np.ones(nbj)\n",
    "d_i = np.array(allowance)[:nbi]\n",
    "\n",
    "diet_example = MatrixTableau( np.eye(nbj),N_i_j.T,c_j,d_i , None, ['s_' + str(j) for j in range(nbj)],\n",
    "                      ['pi_' + str(i) for i in range(nbi)])"
   ]
  },
  {
   "cell_type": "code",
   "execution_count": 73,
   "metadata": {},
   "outputs": [
    {
     "name": "stdout",
     "output_type": "stream",
     "text": [
      "iter=1: entering=pi_0; departing=s_0; obj=0.0\n",
      "iter=2: entering=pi_2; departing=s_2; obj=0.06711409395973153\n",
      "iter=3: entering=pi_4; departing=s_4; obj=0.10243839504580053\n",
      "iter=4: entering=pi_1; departing=pi_0; obj=0.13316571742073996\n",
      "iter=5: entering=pi_3; departing=pi_1; obj=0.14192722677918596\n",
      "iter=6: entering=s_0; departing=pi_3; obj=0.17198226331405836\n",
      "\n",
      "Converged in 7 steps. Solution:\n",
      "s_0=-43.0611111111111*pi_0 - 1358.63888888889*pi_1 - 340.694444444444*pi_3 + 0.138888888888889*s_2 + 1.0\n",
      "s_1=-11.0263888888889*pi_0 - 399.673611111111*pi_1 - 45.4930555555556*pi_3 + 0.0486111111111111*s_2 + 1.0\n",
      "pi_2=-0.819444444444444*pi_0 - 26.1805555555556*pi_1 - 12.1527777777778*pi_3 - 0.0694444444444444*s_2 + 1.0\n",
      "s_3=-11.3180555555556*pi_0 - 249.381944444444*pi_1 - 54.7847222222222*pi_3 + 0.00694444444444444*s_2 + 1.0\n",
      "pi_4=-1.11996583962603*pi_0 - 27.5887720244516*pi_1 - 2.53528407047825*pi_3 + 0.00382056814095649*s_2 - 0.0323624595469256*s_4 + 1.0\n",
      "s_5=-27.9444444444444*pi_0 - 659.055555555556*pi_1 - 70.2777777777778*pi_3 + 0.0555555555555556*s_2 + 1.0\n",
      "s_6=-20.7083333333333*pi_0 - 444.291666666667*pi_1 - 33.7083333333333*pi_3 + 0.0416666666666667*s_2 + 1.0\n",
      "obj= 0.19826501258540097\n"
     ]
    }
   ],
   "source": [
    "diet_example.solve(1)\n"
   ]
  }
 ],
 "metadata": {
  "colab": {
   "provenance": [],
   "toc_visible": true
  },
  "kernelspec": {
   "display_name": "Python 3 (ipykernel)",
   "language": "python",
   "name": "python3"
  },
  "language_info": {
   "codemirror_mode": {
    "name": "ipython",
    "version": 3
   },
   "file_extension": ".py",
   "mimetype": "text/x-python",
   "name": "python",
   "nbconvert_exporter": "python",
   "pygments_lexer": "ipython3",
   "version": "3.9.12"
  }
 },
 "nbformat": 4,
 "nbformat_minor": 1
}
